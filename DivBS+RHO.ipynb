{
  "cells": [
    {
      "cell_type": "code",
      "execution_count": null,
      "metadata": {
        "id": "cG4YqSpboPjh"
      },
      "outputs": [],
      "source": [
        "from pathlib import Path\n",
        "import numpy as np\n",
        "import copy\n",
        "import torch\n",
        "import torchvision\n",
        "from torch.utils.data import DataLoader, Subset\n",
        "from torchvision import transforms\n",
        "from torchvision.datasets import CIFAR10, MNIST, QMNIST\n",
        "from torchvision.transforms.transforms import Resize\n",
        "from typing import Any, Callable, Dict, List, Optional, Tuple\n",
        "import os\n",
        "import os.path\n",
        "import pickle\n",
        "from typing import Any, Callable, Optional, Tuple\n",
        "import numpy as np\n",
        "from PIL import Image\n",
        "from torchvision.datasets.utils import check_integrity, download_and_extract_archive\n",
        "from torchvision.datasets.vision import VisionDataset\n",
        "import torch\n",
        "import torch.nn as nn\n",
        "import torch.nn.functional as F\n",
        "import torchvision"
      ]
    },
    {
      "cell_type": "markdown",
      "metadata": {
        "id": "kP6alw6HoEpM"
      },
      "source": [
        "> **Architectures.** For experiments on CIFAR-10, CIFAR-100 and CINIC-10, we use a variant of ResNet-18 (He et al., 2016). We adapted the ResNet18 to 32x32 images by modifying the architecture to remove the downsampling effect. We replaced the spatial downsampling of a strided convolution and max pooling in the original ResNet18, with a convolutional layer with 64 filters and a kernel size of 3x3. We also removed the average pooling at the end of the ResNet18. This ResNet18 variant is similar to Resnet20, just with more filters\n",
        "\n",
        "**Resnet Architecture as mentioned in paper:** [ https://github.com/OATML/RHO-Loss/blob/4c88851742ce5397153f4fef80abd4682958ac56/src/models/modules/resnet_cifar.py#L86 ]\n"
      ]
    },
    {
      "cell_type": "code",
      "execution_count": null,
      "metadata": {
        "id": "6BWegLUWoBmu"
      },
      "outputs": [],
      "source": [
        "class BasicBlock(nn.Module):\n",
        "    expansion = 1\n",
        "\n",
        "    def __init__(self, in_planes, planes, stride=1):\n",
        "        super(BasicBlock, self).__init__()\n",
        "        self.conv1 = nn.Conv2d(\n",
        "            in_planes, planes, kernel_size=3, stride=stride, padding=1, bias=False\n",
        "        )\n",
        "        self.bn1 = nn.BatchNorm2d(planes)\n",
        "        self.conv2 = nn.Conv2d(\n",
        "            planes, planes, kernel_size=3, stride=1, padding=1, bias=False\n",
        "        )\n",
        "        self.bn2 = nn.BatchNorm2d(planes)\n",
        "\n",
        "        self.shortcut = nn.Sequential()\n",
        "        if stride != 1 or in_planes != self.expansion * planes:\n",
        "            self.shortcut = nn.Sequential(\n",
        "                nn.Conv2d(\n",
        "                    in_planes,\n",
        "                    self.expansion * planes,\n",
        "                    kernel_size=1,\n",
        "                    stride=stride,\n",
        "                    bias=False,\n",
        "                ),\n",
        "                nn.BatchNorm2d(self.expansion * planes),\n",
        "            )\n",
        "\n",
        "    def forward(self, x):\n",
        "        out = F.relu(self.bn1(self.conv1(x)))\n",
        "        out = self.bn2(self.conv2(out))\n",
        "        out += self.shortcut(x)\n",
        "        out = F.relu(out)\n",
        "        return out\n",
        "\n",
        "\n",
        "class Bottleneck(nn.Module):\n",
        "    expansion = 4\n",
        "\n",
        "    def __init__(self, in_planes, planes, stride=1):\n",
        "        super(Bottleneck, self).__init__()\n",
        "        self.conv1 = nn.Conv2d(in_planes, planes, kernel_size=1, bias=False)\n",
        "        self.bn1 = nn.BatchNorm2d(planes)\n",
        "        self.conv2 = nn.Conv2d(\n",
        "            planes, planes, kernel_size=3, stride=stride, padding=1, bias=False\n",
        "        )\n",
        "        self.bn2 = nn.BatchNorm2d(planes)\n",
        "        self.conv3 = nn.Conv2d(\n",
        "            planes, self.expansion * planes, kernel_size=1, bias=False\n",
        "        )\n",
        "        self.bn3 = nn.BatchNorm2d(self.expansion * planes)\n",
        "\n",
        "        self.shortcut = nn.Sequential()\n",
        "        if stride != 1 or in_planes != self.expansion * planes:\n",
        "            self.shortcut = nn.Sequential(\n",
        "                nn.Conv2d(\n",
        "                    in_planes,\n",
        "                    self.expansion * planes,\n",
        "                    kernel_size=1,\n",
        "                    stride=stride,\n",
        "                    bias=False,\n",
        "                ),\n",
        "                nn.BatchNorm2d(self.expansion * planes),\n",
        "            )\n",
        "\n",
        "    def forward(self, x):\n",
        "        out = F.relu(self.bn1(self.conv1(x)))\n",
        "        out = F.relu(self.bn2(self.conv2(out)))\n",
        "        out = self.bn3(self.conv3(out))\n",
        "        out += self.shortcut(x)\n",
        "        out = F.relu(out)\n",
        "        return out\n",
        "\n",
        "\n",
        "class ResNet(nn.Module):\n",
        "    def __init__(self, block, num_blocks, num_classes=10):\n",
        "        super(ResNet, self).__init__()\n",
        "        self.in_planes = 64\n",
        "\n",
        "        self.conv1 = nn.Conv2d(3, 64, kernel_size=3, stride=1, padding=1, bias=False)\n",
        "        self.bn1 = nn.BatchNorm2d(64)\n",
        "        self.layer1 = self._make_layer(block, 64, num_blocks[0], stride=1)\n",
        "        self.layer2 = self._make_layer(block, 128, num_blocks[1], stride=2)\n",
        "        self.layer3 = self._make_layer(block, 256, num_blocks[2], stride=2)\n",
        "        self.layer4 = self._make_layer(block, 512, num_blocks[3], stride=2)\n",
        "        self.linear = nn.Linear(512 * block.expansion, num_classes)\n",
        "\n",
        "        for m in self.modules():\n",
        "            if isinstance(m, nn.Conv2d):\n",
        "                nn.init.kaiming_normal_(m.weight, mode=\"fan_out\", nonlinearity=\"relu\")\n",
        "            elif isinstance(m, (nn.BatchNorm2d, nn.GroupNorm)):\n",
        "                nn.init.constant_(m.weight, 1)\n",
        "                nn.init.constant_(m.bias, 0)\n",
        "\n",
        "    def _make_layer(self, block, planes, num_blocks, stride):\n",
        "        strides = [stride] + [1] * (num_blocks - 1)\n",
        "        layers = []\n",
        "        for stride in strides:\n",
        "            layers.append(block(self.in_planes, planes, stride))\n",
        "            self.in_planes = planes * block.expansion\n",
        "        return nn.Sequential(*layers)\n",
        "\n",
        "    def forward(self, x):\n",
        "        out = F.relu(self.bn1(self.conv1(x)))\n",
        "        out = self.layer1(out)\n",
        "        out = self.layer2(out)\n",
        "        out = self.layer3(out)\n",
        "        out = self.layer4(out)\n",
        "        out = F.avg_pool2d(out, 4)\n",
        "        out = out.view(out.size(0), -1)\n",
        "        out = self.linear(out)\n",
        "        return out\n",
        "\n",
        "\n",
        "def ResNet18():\n",
        "    return ResNet(BasicBlock, [2, 2, 2, 2])\n",
        "\n",
        "def ResNet34():\n",
        "    return ResNet(BasicBlock, [3, 4, 6, 3])\n",
        "\n",
        "def ResNet50():\n",
        "    return ResNet(Bottleneck, [3, 4, 6, 3])\n",
        "\n",
        "def ResNet101():\n",
        "    return ResNet(Bottleneck, [3, 4, 23, 3])\n",
        "\n",
        "def ResNet152():\n",
        "    return ResNet(Bottleneck, [3, 8, 36, 3])\n",
        "\n",
        "def test():\n",
        "    net = ResNet18()\n",
        "    y = net(torch.randn(1, 3, 32, 32))\n",
        "    print(y.size())\n",
        "\n",
        "def resnet18_imagenet(pretrained=False, classes=10):\n",
        "    model = torchvision.models.resnet18(pretrained=pretrained, num_classes=1000)\n",
        "    model.conv1 = nn.Conv2d(\n",
        "        3, 64, kernel_size=(3, 3), stride=(1, 1), padding=(1, 1), bias=False\n",
        "    )\n",
        "    model.maxpool = nn.Identity()\n",
        "    model.fc = nn.Linear(512, classes, bias=True)\n",
        "    return model\n",
        "\n",
        "def resnet50_imagenet(pretrained=False, classes=10):\n",
        "    model = torchvision.models.resnet50(pretrained=pretrained, num_classes=1000)\n",
        "    model.fc = nn.Linear(512, classes, bias=True)\n",
        "    return model"
      ]
    },
    {
      "cell_type": "markdown",
      "metadata": {
        "id": "BTe-EMQ3n31V"
      },
      "source": [
        "Data loading, data splitting code from: https://github.com/OATML/RHO-Loss/blob/main/src/datamodules/datamodules.py , https://github.com/OATML/RHO-Loss/blob/main/src/datamodules/datasets/sequence_datasets.py\n",
        "\n"
      ]
    },
    {
      "cell_type": "code",
      "execution_count": null,
      "metadata": {
        "id": "p6SZSo9GfyOa"
      },
      "outputs": [],
      "source": [
        "class indices_CIFAR10(VisionDataset):\n",
        "    base_folder = \"cifar-10-batches-py\"\n",
        "    url = \"https://www.cs.toronto.edu/~kriz/cifar-10-python.tar.gz\"\n",
        "    filename = \"cifar-10-python.tar.gz\"\n",
        "    tgz_md5 = \"c58f30108f718f92721af3b95e74349a\"\n",
        "    train_list = [\n",
        "        [\"data_batch_1\", \"c99cafc152244af753f735de768cd75f\"],\n",
        "        [\"data_batch_2\", \"d4bba439e000b95fd0a9bffe97cbabec\"],\n",
        "        [\"data_batch_3\", \"54ebc095f3ab1f0389bbae665268c751\"],\n",
        "        [\"data_batch_4\", \"634d18415352ddfa80567beed471001a\"],\n",
        "        [\"data_batch_5\", \"482c414d41f54cd18b22e5b47cb7c3cb\"],\n",
        "    ]\n",
        "\n",
        "    test_list = [\n",
        "        [\"test_batch\", \"40351d587109b95175f43aff81a1287e\"],\n",
        "    ]\n",
        "    meta = {\n",
        "        \"filename\": \"batches.meta\",\n",
        "        \"key\": \"label_names\",\n",
        "        \"md5\": \"5ff9c542aee3614f3951f8cda6e48888\",\n",
        "    }\n",
        "\n",
        "    def __init__(\n",
        "        self,\n",
        "        root: str,\n",
        "        train: bool = True,\n",
        "        transform: Optional[Callable] = None,\n",
        "        target_transform: Optional[Callable] = None,\n",
        "        sequence=None,\n",
        "    ) -> None:\n",
        "\n",
        "        super(indices_CIFAR10, self).__init__(\n",
        "            root, transform=transform, target_transform=target_transform\n",
        "        )\n",
        "\n",
        "        self.train = train  # training set or test set\n",
        "\n",
        "        self.download()\n",
        "\n",
        "        if not self._check_integrity():\n",
        "            raise RuntimeError(\n",
        "                \"Dataset not found or corrupted even though we tried to download it\"\n",
        "            )\n",
        "\n",
        "        if self.train:\n",
        "            downloaded_list = self.train_list\n",
        "        else:\n",
        "            downloaded_list = self.test_list\n",
        "\n",
        "        self.data: Any = []\n",
        "        self.targets = []\n",
        "\n",
        "        # now load the picked numpy arrays\n",
        "        for file_name, checksum in downloaded_list:\n",
        "            file_path = os.path.join(self.root, self.base_folder, file_name)\n",
        "            with open(file_path, \"rb\") as f:\n",
        "                entry = pickle.load(f, encoding=\"latin1\")\n",
        "                self.data.append(entry[\"data\"])\n",
        "                if \"labels\" in entry:\n",
        "                    self.targets.extend(entry[\"labels\"])\n",
        "                else:\n",
        "                    self.targets.extend(entry[\"fine_labels\"])\n",
        "\n",
        "        self.data = np.vstack(self.data).reshape(-1, 3, 32, 32)\n",
        "        self.data = self.data.transpose((0, 2, 3, 1))  # convert to HWC\n",
        "\n",
        "        self._load_meta()\n",
        "        if sequence is not None:\n",
        "            self.sequence = sequence\n",
        "        else:\n",
        "            self.sequence = np.arange(len(self.data))\n",
        "\n",
        "    def _load_meta(self) -> None:\n",
        "        path = os.path.join(self.root, self.base_folder, self.meta[\"filename\"])\n",
        "        if not check_integrity(path, self.meta[\"md5\"]):\n",
        "            raise RuntimeError(\"Dataset metadata file not found or corrupted\")\n",
        "        with open(path, \"rb\") as infile:\n",
        "            data = pickle.load(infile, encoding=\"latin1\")\n",
        "            self.classes = data[self.meta[\"key\"]]\n",
        "        self.class_to_idx = {_class: i for i, _class in enumerate(self.classes)}\n",
        "\n",
        "    def __getitem__(self, index: int) -> Tuple[Any, Any]:\n",
        "        \"\"\"\n",
        "        Args:\n",
        "            index (int): Index\n",
        "        Returns:\n",
        "            tuple: (image, target) where target is index of the target class.\n",
        "        \"\"\"\n",
        "        img, target = self.data[self.sequence[index]], self.targets[self.sequence[index]]\n",
        "\n",
        "        # doing this so that it is consistent with all other datasets\n",
        "        # to return a PIL Image\n",
        "        img = Image.fromarray(img)\n",
        "\n",
        "        if self.transform is not None:\n",
        "            img = self.transform(img)\n",
        "\n",
        "        if self.target_transform is not None:\n",
        "            target = self.target_transform(target)\n",
        "\n",
        "        return index, img, target\n",
        "\n",
        "    def __len__(self) -> int:\n",
        "        return len(self.sequence)\n",
        "\n",
        "    def _check_integrity(self) -> bool:\n",
        "        root = self.root\n",
        "        for fentry in self.train_list + self.test_list:\n",
        "            filename, md5 = fentry[0], fentry[1]\n",
        "            fpath = os.path.join(root, self.base_folder, filename)\n",
        "            if not check_integrity(fpath, md5):\n",
        "                return False\n",
        "        return True\n",
        "\n",
        "    def download(self) -> None:\n",
        "        if self._check_integrity():\n",
        "            print(\"Files already downloaded and verified\")\n",
        "            return\n",
        "        download_and_extract_archive(\n",
        "            self.url, self.root, filename=self.filename, md5=self.tgz_md5\n",
        "        )\n",
        "\n",
        "    def extra_repr(self) -> str:\n",
        "        return \"Split: {}\".format(\"Train\" if self.train is True else \"Test\")\n",
        "\n",
        "class CIFAR10DataModule:\n",
        "    def __init__(self, data_dir=\"./data\", batch_size=960, test_batch_size=100, num_workers=4):\n",
        "        self.data_dir = data_dir\n",
        "        self.batch_size = batch_size\n",
        "        self.test_batch_size = test_batch_size\n",
        "        self.num_workers = num_workers\n",
        "\n",
        "        self.transform = transforms.Compose([\n",
        "            transforms.ToTensor(),\n",
        "            transforms.Normalize((0.5, 0.5, 0.5), (0.5, 0.5, 0.5)),\n",
        "        ])\n",
        "        self.data_aug_transform = transforms.Compose([\n",
        "            transforms.RandomCrop(32, padding=4),\n",
        "            transforms.RandomHorizontalFlip(),\n",
        "            transforms.ToTensor(),\n",
        "            transforms.Normalize((0.5, 0.5, 0.5), (0.5, 0.5, 0.5)),\n",
        "        ])\n",
        "\n",
        "    def setup(self, double_irlomo=False):\n",
        "        full_dataset = indices_CIFAR10(self.data_dir, train=True, transform=self.data_aug_transform)\n",
        "\n",
        "        indices = list(range(len(full_dataset)))\n",
        "        train_indices = indices[::2]\n",
        "        val_indices = indices[1::2]\n",
        "\n",
        "        self.train_split_1 = Subset(full_dataset, train_indices)\n",
        "        self.train_split_2 = Subset(full_dataset, val_indices)\n",
        "        self.train_split_2_indices = val_indices  # needed for irreducible loss tracking\n",
        "\n",
        "        self.test_dataset = indices_CIFAR10(self.data_dir, train=False, transform=self.transform)\n",
        "\n",
        "    def get_train_loader_split1(self):\n",
        "        return DataLoader(self.train_split_1, batch_size=128, shuffle=True, num_workers=self.num_workers)\n",
        "\n",
        "    def get_train_loader_split2(self):\n",
        "        return DataLoader(self.train_split_2, batch_size=1, shuffle=False, num_workers=self.num_workers)\n",
        "\n",
        "    def get_test_loader(self):\n",
        "        return DataLoader(self.test_dataset, batch_size=self.test_batch_size, shuffle=False, num_workers=self.num_workers)\n",
        "\n",
        "\n"
      ]
    },
    {
      "cell_type": "markdown",
      "metadata": {
        "id": "Yl_iVs3Tnyoq"
      },
      "source": [
        "**Training IL Model:**\n",
        "\n",
        "> **Data augmentation:** On CIFAR-10, CIFAR-100, and CINIC-10, we train using data augmentation (random crop and horizontal flip), both for training the IL model, and in the main training runs. Remember that we only compute the irreducible losses once at the start of training.\n",
        "\n",
        "> We can efficiently compute the IL with an “irreducible loss model\" (IL model) that is smaller than the target model and has low accuracy . ResNet18 IL model trained for 37x fewer steps than each target model.\n",
        "\n",
        "Irreducible loss models can be small and cheap. In our\n",
        "default setting, both the target model and IL model have the same architecture (ResNet-18).The smaller IL model accelerates training as much or more than the larger model, even though its final accuracy is far lower than the target ResNet18 (11.5% lower on CIFAR-10, 7% on CIFAR-100, and 8.1% on CINIC-10).\n",
        "\n"
      ]
    },
    {
      "cell_type": "code",
      "execution_count": null,
      "metadata": {
        "colab": {
          "base_uri": "https://localhost:8080/"
        },
        "id": "Ip5ENzzjo2Z4",
        "outputId": "01847af3-e144-49fc-e066-32c60269aff8"
      },
      "outputs": [
        {
          "name": "stderr",
          "output_type": "stream",
          "text": [
            "100%|██████████| 170M/170M [00:03<00:00, 48.0MB/s]\n"
          ]
        },
        {
          "name": "stdout",
          "output_type": "stream",
          "text": [
            "Files already downloaded and verified\n"
          ]
        },
        {
          "name": "stderr",
          "output_type": "stream",
          "text": [
            "Training IL Model:   3%|▎         | 1/30 [00:23<11:23, 23.58s/it]"
          ]
        },
        {
          "name": "stdout",
          "output_type": "stream",
          "text": [
            "[IL Model] Epoch 1: Accuracy = 41.92%\n"
          ]
        },
        {
          "name": "stderr",
          "output_type": "stream",
          "text": [
            "\rTraining IL Model:   7%|▋         | 2/30 [00:45<10:25, 22.33s/it]"
          ]
        },
        {
          "name": "stdout",
          "output_type": "stream",
          "text": [
            "[IL Model] Epoch 2: Accuracy = 58.58%\n"
          ]
        },
        {
          "name": "stderr",
          "output_type": "stream",
          "text": [
            "\rTraining IL Model:   7%|▋         | 2/30 [01:06<15:30, 33.22s/it]"
          ]
        },
        {
          "name": "stdout",
          "output_type": "stream",
          "text": [
            "[IL Model] Epoch 3: Accuracy = 66.89%\n"
          ]
        },
        {
          "name": "stderr",
          "output_type": "stream",
          "text": [
            "\n"
          ]
        }
      ],
      "source": [
        "# === CONTINUATION CODE: RHO-LOSS Training on CIFAR-10 ===\n",
        "\n",
        "import torch\n",
        "import torch.nn.functional as F\n",
        "import torch.optim as optim\n",
        "from tqdm import tqdm, trange\n",
        "import random\n",
        "import warnings\n",
        "warnings.filterwarnings(\"ignore\")\n",
        "\n",
        "# ====== Set device and seed ======\n",
        "torch.manual_seed(42)\n",
        "random.seed(42)\n",
        "device = torch.device(\"cuda\" if torch.cuda.is_available() else \"cpu\")\n",
        "\n",
        "# ====== Initialize DataModule and Prepare Splits ======\n",
        "dm = CIFAR10DataModule()\n",
        "dm.setup()\n",
        "\n",
        "train_loader_il = dm.get_train_loader_split1()\n",
        "eval_loader_il = dm.get_train_loader_split2()\n",
        "test_loader = dm.get_test_loader()\n",
        "train_ids = dm.train_split_2_indices\n",
        "\n",
        "# ====== Step 1: Train IL Model ======\n",
        "il_model = ResNet18().to(device)\n",
        "il_optimizer = optim.AdamW(il_model.parameters(), lr=1e-3)\n",
        "criterion = torch.nn.CrossEntropyLoss()\n",
        "\n",
        "for epoch in trange(30, desc=\"Training IL Model\"):\n",
        "    il_model.train()\n",
        "    correct, total = 0, 0\n",
        "    for _, x, y in train_loader_il:\n",
        "        x, y = x.to(device), y.to(device)\n",
        "        il_optimizer.zero_grad()\n",
        "        logits = il_model(x)\n",
        "        loss = criterion(logits, y)\n",
        "        loss.backward()\n",
        "        il_optimizer.step()\n",
        "        correct += (logits.argmax(1) == y).sum().item()\n",
        "        total += y.size(0)\n",
        "    acc = 100.0 * correct / total\n",
        "    print(f\"[IL Model] Epoch {epoch+1}: Accuracy = {acc:.2f}%\")\n",
        "    if acc >= 65.0:\n",
        "        break"
      ]
    },
    {
      "cell_type": "markdown",
      "metadata": {
        "id": "_2hE9mJzo7rj"
      },
      "source": [
        "**Compute Irreducible Loss**"
      ]
    },
    {
      "cell_type": "code",
      "execution_count": null,
      "metadata": {
        "colab": {
          "base_uri": "https://localhost:8080/"
        },
        "id": "_yz9RIo-o6pz",
        "outputId": "1ed49dd9-4640-42aa-963b-d09ee36608de"
      },
      "outputs": [
        {
          "name": "stdout",
          "output_type": "stream",
          "text": [
            "Computing irreducible loss on split_2...\n"
          ]
        },
        {
          "name": "stderr",
          "output_type": "stream",
          "text": [
            "Computing IL: 100%|██████████| 25000/25000 [02:33<00:00, 162.89it/s]\n"
          ]
        }
      ],
      "source": [
        "print(\"Computing irreducible loss on split_2...\")\n",
        "il_model.eval()\n",
        "irreducible_loss = {}\n",
        "with torch.no_grad():\n",
        "    for idx, (_, x, y) in tqdm(zip(train_ids, eval_loader_il), total=len(train_ids), desc=\"Computing IL\"):\n",
        "        x, y = x.to(device), y.to(device)\n",
        "        loss = F.cross_entropy(il_model(x), y).item()\n",
        "        irreducible_loss[idx] = loss"
      ]
    },
    {
      "cell_type": "markdown",
      "metadata": {
        "id": "swQkZFVexQ3i"
      },
      "source": [
        "**Traditional RHO Loss:**"
      ]
    },
    {
      "cell_type": "code",
      "execution_count": null,
      "metadata": {
        "colab": {
          "base_uri": "https://localhost:8080/"
        },
        "id": "tgZYyMZZxWDa",
        "outputId": "9e216d0a-2c30-4fa0-ec3b-bd093a5fe750"
      },
      "outputs": [
        {
          "name": "stdout",
          "output_type": "stream",
          "text": [
            "\n",
            "Training Target Model:   0%|          | 1/299 [00:22<1:53:44, 22.90s/it]\n",
            "[Target Model] Epoch 1: Accuracy = 32.71%\n",
            "\n",
            "Training Target Model:   1%|          | 2/299 [00:45<1:52:43, 22.77s/it]\n",
            "[Target Model] Epoch 2: Accuracy = 42.83%\n",
            "\n",
            "Training Target Model:   1%|          | 3/299 [01:08<1:52:45, 22.86s/it]\n",
            "[Target Model] Epoch 3: Accuracy = 45.96%\n",
            "\n",
            "Training Target Model:   1%|▏         | 4/299 [01:31<1:53:12, 23.02s/it]\n",
            "[Target Model] Epoch 4: Accuracy = 44.66%\n",
            "\n",
            "Training Target Model:   2%|▏         | 5/299 [01:55<1:53:43, 23.21s/it]\n",
            "[Target Model] Epoch 5: Accuracy = 48.82%\n",
            "\n",
            "Training Target Model:   2%|▏         | 6/299 [02:18<1:53:53, 23.32s/it]\n",
            "[Target Model] Epoch 6: Accuracy = 61.57%\n",
            "\n",
            "Training Target Model:   2%|▏         | 7/299 [02:42<1:53:27, 23.31s/it]\n",
            "[Target Model] Epoch 7: Accuracy = 62.06%\n",
            "\n",
            "Training Target Model:   3%|▎         | 8/299 [03:05<1:52:41, 23.24s/it]\n",
            "[Target Model] Epoch 8: Accuracy = 62.78%\n",
            "\n",
            "Training Target Model:   3%|▎         | 9/299 [03:28<1:51:57, 23.16s/it]\n",
            "[Target Model] Epoch 9: Accuracy = 66.68%\n",
            "\n",
            "Training Target Model:   3%|▎         | 10/299 [03:51<1:51:15, 23.10s/it]\n",
            "[Target Model] Epoch 10: Accuracy = 63.67%\n",
            "\n",
            "Training Target Model:   4%|▎         | 11/299 [04:14<1:50:36, 23.04s/it]\n",
            "[Target Model] Epoch 11: Accuracy = 67.46%\n",
            "\n",
            "Training Target Model:   4%|▍         | 12/299 [04:37<1:50:06, 23.02s/it]\n",
            "[Target Model] Epoch 12: Accuracy = 71.39%\n",
            "\n",
            "Training Target Model:   4%|▍         | 13/299 [05:00<1:49:38, 23.00s/it]\n",
            "[Target Model] Epoch 13: Accuracy = 71.39%\n",
            "\n",
            "Training Target Model:   5%|▍         | 14/299 [05:23<1:50:06, 23.18s/it]\n",
            "[Target Model] Epoch 14: Accuracy = 72.16%\n",
            "\n",
            "Training Target Model:   5%|▌         | 15/299 [05:46<1:49:26, 23.12s/it]\n",
            "[Target Model] Epoch 15: Accuracy = 70.96%\n",
            "\n",
            "Training Target Model:   5%|▌         | 16/299 [06:09<1:49:16, 23.17s/it]\n",
            "[Target Model] Epoch 16: Accuracy = 70.44%\n",
            "\n",
            "Training Target Model:   6%|▌         | 17/299 [06:33<1:49:28, 23.29s/it]\n",
            "[Target Model] Epoch 17: Accuracy = 74.18%\n",
            "\n",
            "Training Target Model:   6%|▌         | 18/299 [06:57<1:49:28, 23.38s/it]\n",
            "[Target Model] Epoch 18: Accuracy = 73.74%\n",
            "\n",
            "Training Target Model:   6%|▋         | 19/299 [07:20<1:48:58, 23.35s/it]\n",
            "[Target Model] Epoch 19: Accuracy = 73.75%\n",
            "\n",
            "Training Target Model:   7%|▋         | 20/299 [07:43<1:48:21, 23.30s/it]\n",
            "[Target Model] Epoch 20: Accuracy = 73.83%\n",
            "\n",
            "Training Target Model:   7%|▋         | 21/299 [08:06<1:47:35, 23.22s/it]\n",
            "[Target Model] Epoch 21: Accuracy = 74.35%\n",
            "\n",
            "Training Target Model:   7%|▋         | 22/299 [08:29<1:46:52, 23.15s/it]\n",
            "[Target Model] Epoch 22: Accuracy = 76.39%\n",
            "\n",
            "Training Target Model:   8%|▊         | 23/299 [08:52<1:46:16, 23.10s/it]\n",
            "[Target Model] Epoch 23: Accuracy = 75.72%\n",
            "\n",
            "Training Target Model:   8%|▊         | 24/299 [09:15<1:45:43, 23.07s/it]\n",
            "[Target Model] Epoch 24: Accuracy = 75.50%\n",
            "\n",
            "Training Target Model:   8%|▊         | 25/299 [09:38<1:45:09, 23.03s/it]\n",
            "[Target Model] Epoch 25: Accuracy = 76.06%\n",
            "\n",
            "Training Target Model:   9%|▊         | 26/299 [10:01<1:44:39, 23.00s/it]\n",
            "[Target Model] Epoch 26: Accuracy = 74.08%\n",
            "\n",
            "Training Target Model:   9%|▉         | 27/299 [10:24<1:44:31, 23.06s/it]\n",
            "[Target Model] Epoch 27: Accuracy = 76.81%\n",
            "\n",
            "Training Target Model:   9%|▉         | 28/299 [10:48<1:44:42, 23.18s/it]\n",
            "[Target Model] Epoch 28: Accuracy = 75.31%\n",
            "\n",
            "Training Target Model:  10%|▉         | 29/299 [11:11<1:44:47, 23.29s/it]\n",
            "[Target Model] Epoch 29: Accuracy = 77.80%\n",
            "\n",
            "Training Target Model:  10%|█         | 30/299 [11:34<1:44:24, 23.29s/it]\n",
            "[Target Model] Epoch 30: Accuracy = 77.29%\n",
            "\n",
            "Training Target Model:  10%|█         | 31/299 [11:57<1:43:38, 23.20s/it]\n",
            "[Target Model] Epoch 31: Accuracy = 77.21%\n",
            "\n",
            "Training Target Model:  11%|█         | 32/299 [12:20<1:42:58, 23.14s/it]\n",
            "[Target Model] Epoch 32: Accuracy = 78.66%\n",
            "\n",
            "Training Target Model:  11%|█         | 33/299 [12:43<1:42:18, 23.08s/it]\n",
            "[Target Model] Epoch 33: Accuracy = 78.08%\n",
            "\n",
            "Training Target Model:  11%|█▏        | 34/299 [13:06<1:41:41, 23.03s/it]\n",
            "[Target Model] Epoch 34: Accuracy = 77.36%\n",
            "\n",
            "Training Target Model:  12%|█▏        | 35/299 [13:29<1:41:11, 23.00s/it]\n",
            "[Target Model] Epoch 35: Accuracy = 77.20%\n",
            "\n",
            "Training Target Model:  12%|█▏        | 36/299 [13:52<1:40:46, 22.99s/it]\n",
            "[Target Model] Epoch 36: Accuracy = 79.89%\n",
            "\n",
            "Training Target Model:  12%|█▏        | 37/299 [14:15<1:40:22, 22.99s/it]\n",
            "[Target Model] Epoch 37: Accuracy = 76.34%\n",
            "\n",
            "Training Target Model:  13%|█▎        | 38/299 [14:38<1:40:28, 23.10s/it]\n",
            "[Target Model] Epoch 38: Accuracy = 78.93%\n",
            "\n",
            "Training Target Model:  13%|█▎        | 39/299 [15:02<1:40:43, 23.24s/it]\n",
            "[Target Model] Epoch 39: Accuracy = 79.47%\n",
            "\n",
            "Training Target Model:  13%|█▎        | 40/299 [15:26<1:40:37, 23.31s/it]\n",
            "[Target Model] Epoch 40: Accuracy = 79.23%\n",
            "\n",
            "Training Target Model:  14%|█▎        | 41/299 [15:49<1:40:14, 23.31s/it]\n",
            "[Target Model] Epoch 41: Accuracy = 80.08%\n",
            "✅ Reached 80% at epoch 41\n",
            "\n",
            "\n"
          ]
        }
      ],
      "source": [
        "# ====== Step 3: Train Target Model with RHO-LOSS ======\n",
        "target_model = ResNet18().to(device)\n",
        "target_optimizer = optim.AdamW(target_model.parameters(), lr=1e-3)\n",
        "topk = 32\n",
        "reached_80 = reached_875 = False\n",
        "\n",
        "for epoch in trange(1, 300, desc=\"Training Target Model\"):\n",
        "    target_model.train()\n",
        "    random.shuffle(train_ids)\n",
        "    for i in range(0, len(train_ids), 320):\n",
        "        ids = train_ids[i:i+320]\n",
        "        x_b, y_b, il_b = [], [], []\n",
        "        for idx in ids:\n",
        "            _, x, y = dm.train_split_2.dataset[idx]\n",
        "            x_b.append(x)\n",
        "            y_b.append(y)\n",
        "            il_b.append(irreducible_loss[idx])\n",
        "\n",
        "        if len(x_b) < topk:\n",
        "            continue  # skip if batch too small\n",
        "\n",
        "        x_tensor = torch.stack(x_b).to(device)\n",
        "        y_tensor = torch.tensor(y_b).to(device)\n",
        "        il_tensor = torch.tensor(il_b).to(device)\n",
        "\n",
        "        logits = target_model(x_tensor)\n",
        "        losses = F.cross_entropy(logits, y_tensor, reduction='none')\n",
        "        rho = losses - il_tensor\n",
        "        top_indices = torch.topk(rho, topk).indices\n",
        "        selected_loss = losses[top_indices].mean()\n",
        "\n",
        "        target_optimizer.zero_grad()\n",
        "        selected_loss.backward()\n",
        "        target_optimizer.step()\n",
        "\n",
        "    # ====== Evaluate on Test Set ======\n",
        "    target_model.eval()\n",
        "    correct, total = 0, 0\n",
        "    with torch.no_grad():\n",
        "        for _, x, y in test_loader:\n",
        "            x, y = x.to(device), y.to(device)\n",
        "            pred = target_model(x).argmax(1)\n",
        "            correct += (pred == y).sum().item()\n",
        "            total += y.size(0)\n",
        "    acc = 100.0 * correct / total\n",
        "    print(f\"[Target Model] Epoch {epoch}: Accuracy = {acc:.2f}%\")\n",
        "    if not reached_80 and acc >= 80.0:\n",
        "        print(f\"✅ Reached 80% at epoch {epoch}\")\n",
        "        reached_80 = True\n",
        "        break"
      ]
    },
    {
      "cell_type": "code",
      "execution_count": null,
      "metadata": {
        "id": "0-Et11M1I7hq"
      },
      "outputs": [],
      "source": [
        "import torch\n",
        "import torch.nn as nn\n",
        "import torch.optim as optim\n",
        "from torch.utils.data import DataLoader\n",
        "from torchvision import datasets, transforms, models\n",
        "import numpy as np\n",
        "from types import MethodType\n",
        "from tqdm import tqdm\n",
        "\n",
        "# ===== DivBS Class (Minimal and Independent) =====\n",
        "class DivBS:\n",
        "    def __init__(self, ratio=0.1):\n",
        "        self.ratio = ratio\n",
        "        self.model = None\n",
        "\n",
        "    def set_model(self, model):\n",
        "        self.model = model\n",
        "\n",
        "    def calc_grad(self, inputs, targets):\n",
        "        self.model.eval()\n",
        "        outputs, features = self.model.feat_nograd_forward(inputs)\n",
        "        loss = torch.nn.functional.cross_entropy(outputs, targets)\n",
        "        with torch.no_grad():\n",
        "            grad_out = torch.autograd.grad(loss, outputs, retain_graph=True)[0]\n",
        "            grad = grad_out.unsqueeze(-1) * features.unsqueeze(1)\n",
        "            grad = grad.view(grad.shape[0], -1)\n",
        "        self.model.train()\n",
        "        grad_mean = grad.mean(dim=0)\n",
        "        return grad_mean, grad\n",
        "\n",
        "    def greedy_selection(self, grad_mean, grad, number_to_select):\n",
        "        residual = grad_mean.unsqueeze(-1) if grad_mean.dim() == 1 else grad_mean\n",
        "        index_selected = []\n",
        "        D = grad.t()\n",
        "        selected_element = []\n",
        "        for _ in range(number_to_select):\n",
        "            correlations = torch.abs(torch.matmul(D.t(), residual))\n",
        "            try:\n",
        "                idx = torch.multinomial(correlations.squeeze(), 1)\n",
        "            except:\n",
        "                break\n",
        "            index_selected.append(idx.item())\n",
        "            if selected_element:\n",
        "                matrix = torch.cat(selected_element, dim=1)\n",
        "                D_selected = D[:, idx] - matrix @ (matrix.t() @ D[:, idx])\n",
        "            else:\n",
        "                D_selected = D[:, idx]\n",
        "            D_selected = D_selected / torch.norm(D_selected)\n",
        "            selected_element.append(D_selected)\n",
        "            residual = residual - (D_selected.t() @ residual) * D_selected\n",
        "        return index_selected\n",
        "\n",
        "    def select(self, inputs, targets):\n",
        "        grad_mean, grad = self.calc_grad(inputs, targets)\n",
        "        k = int(inputs.shape[0] * self.ratio)\n",
        "        selected_idx = self.greedy_selection(grad_mean, grad, k)\n",
        "        return inputs[selected_idx], targets[selected_idx]\n",
        "\n",
        "def feat_nograd_forward(self, x):\n",
        "    with torch.no_grad():\n",
        "        x = F.relu(self.bn1(self.conv1(x)))\n",
        "        x = self.layer1(x)\n",
        "        x = self.layer2(x)\n",
        "        x = self.layer3(x)\n",
        "        x = self.layer4(x)\n",
        "        x = F.avg_pool2d(x, 4)\n",
        "        features = x.view(x.size(0), -1)\n",
        "    out = self.linear(features)\n",
        "    return out, features"
      ]
    },
    {
      "cell_type": "code",
      "execution_count": null,
      "metadata": {
        "colab": {
          "background_save": true,
          "base_uri": "https://localhost:8080/"
        },
        "id": "ej9kXt5HnJLA",
        "outputId": "c50ecc73-2f79-4cbc-b53d-d3f20b6301c0"
      },
      "outputs": [
        {
          "name": "stderr",
          "output_type": "stream",
          "text": [
            "Training Target Model:   0%|          | 1/299 [00:22<1:50:58, 22.34s/it]"
          ]
        },
        {
          "name": "stdout",
          "output_type": "stream",
          "text": [
            "[Target Model] Epoch 1: Accuracy = 32.86%\n"
          ]
        },
        {
          "name": "stderr",
          "output_type": "stream",
          "text": [
            "\rTraining Target Model:   1%|          | 2/299 [00:44<1:51:05, 22.44s/it]"
          ]
        },
        {
          "name": "stdout",
          "output_type": "stream",
          "text": [
            "[Target Model] Epoch 2: Accuracy = 43.32%\n"
          ]
        },
        {
          "name": "stderr",
          "output_type": "stream",
          "text": [
            "\rTraining Target Model:   1%|          | 3/299 [01:07<1:51:20, 22.57s/it]"
          ]
        },
        {
          "name": "stdout",
          "output_type": "stream",
          "text": [
            "[Target Model] Epoch 3: Accuracy = 51.65%\n"
          ]
        },
        {
          "name": "stderr",
          "output_type": "stream",
          "text": [
            "\rTraining Target Model:   1%|▏         | 4/299 [01:31<1:53:09, 23.02s/it]"
          ]
        },
        {
          "name": "stdout",
          "output_type": "stream",
          "text": [
            "[Target Model] Epoch 4: Accuracy = 57.18%\n"
          ]
        },
        {
          "name": "stderr",
          "output_type": "stream",
          "text": [
            "\rTraining Target Model:   2%|▏         | 5/299 [01:53<1:52:06, 22.88s/it]"
          ]
        },
        {
          "name": "stdout",
          "output_type": "stream",
          "text": [
            "[Target Model] Epoch 5: Accuracy = 52.60%\n"
          ]
        },
        {
          "name": "stderr",
          "output_type": "stream",
          "text": [
            "\rTraining Target Model:   2%|▏         | 6/299 [02:16<1:51:10, 22.77s/it]"
          ]
        },
        {
          "name": "stdout",
          "output_type": "stream",
          "text": [
            "[Target Model] Epoch 6: Accuracy = 62.60%\n"
          ]
        },
        {
          "name": "stderr",
          "output_type": "stream",
          "text": [
            "\rTraining Target Model:   2%|▏         | 7/299 [02:39<1:50:49, 22.77s/it]"
          ]
        },
        {
          "name": "stdout",
          "output_type": "stream",
          "text": [
            "[Target Model] Epoch 7: Accuracy = 66.22%\n"
          ]
        },
        {
          "name": "stderr",
          "output_type": "stream",
          "text": [
            "\rTraining Target Model:   3%|▎         | 8/299 [03:02<1:50:36, 22.80s/it]"
          ]
        },
        {
          "name": "stdout",
          "output_type": "stream",
          "text": [
            "[Target Model] Epoch 8: Accuracy = 63.45%\n"
          ]
        },
        {
          "name": "stderr",
          "output_type": "stream",
          "text": [
            "\rTraining Target Model:   3%|▎         | 9/299 [03:25<1:50:33, 22.87s/it]"
          ]
        },
        {
          "name": "stdout",
          "output_type": "stream",
          "text": [
            "[Target Model] Epoch 9: Accuracy = 63.49%\n"
          ]
        },
        {
          "name": "stderr",
          "output_type": "stream",
          "text": [
            "\rTraining Target Model:   3%|▎         | 10/299 [03:47<1:49:31, 22.74s/it]"
          ]
        },
        {
          "name": "stdout",
          "output_type": "stream",
          "text": [
            "[Target Model] Epoch 10: Accuracy = 68.94%\n"
          ]
        },
        {
          "name": "stderr",
          "output_type": "stream",
          "text": [
            "\rTraining Target Model:   4%|▎         | 11/299 [04:09<1:48:40, 22.64s/it]"
          ]
        },
        {
          "name": "stdout",
          "output_type": "stream",
          "text": [
            "[Target Model] Epoch 11: Accuracy = 71.19%\n"
          ]
        },
        {
          "name": "stderr",
          "output_type": "stream",
          "text": [
            "\rTraining Target Model:   4%|▍         | 12/299 [04:32<1:48:37, 22.71s/it]"
          ]
        },
        {
          "name": "stdout",
          "output_type": "stream",
          "text": [
            "[Target Model] Epoch 12: Accuracy = 73.70%\n"
          ]
        },
        {
          "name": "stderr",
          "output_type": "stream",
          "text": [
            "\rTraining Target Model:   4%|▍         | 13/299 [04:56<1:49:04, 22.88s/it]"
          ]
        },
        {
          "name": "stdout",
          "output_type": "stream",
          "text": [
            "[Target Model] Epoch 13: Accuracy = 72.83%\n"
          ]
        },
        {
          "name": "stderr",
          "output_type": "stream",
          "text": [
            "\rTraining Target Model:   5%|▍         | 14/299 [05:20<1:50:32, 23.27s/it]"
          ]
        },
        {
          "name": "stdout",
          "output_type": "stream",
          "text": [
            "[Target Model] Epoch 14: Accuracy = 71.24%\n"
          ]
        },
        {
          "name": "stderr",
          "output_type": "stream",
          "text": [
            "\rTraining Target Model:   5%|▌         | 15/299 [05:42<1:48:56, 23.01s/it]"
          ]
        },
        {
          "name": "stdout",
          "output_type": "stream",
          "text": [
            "[Target Model] Epoch 15: Accuracy = 72.12%\n"
          ]
        },
        {
          "name": "stderr",
          "output_type": "stream",
          "text": [
            "\rTraining Target Model:   5%|▌         | 16/299 [06:05<1:47:50, 22.86s/it]"
          ]
        },
        {
          "name": "stdout",
          "output_type": "stream",
          "text": [
            "[Target Model] Epoch 16: Accuracy = 72.10%\n"
          ]
        },
        {
          "name": "stderr",
          "output_type": "stream",
          "text": [
            "\rTraining Target Model:   6%|▌         | 17/299 [06:27<1:47:01, 22.77s/it]"
          ]
        },
        {
          "name": "stdout",
          "output_type": "stream",
          "text": [
            "[Target Model] Epoch 17: Accuracy = 73.31%\n"
          ]
        },
        {
          "name": "stderr",
          "output_type": "stream",
          "text": [
            "\rTraining Target Model:   6%|▌         | 18/299 [06:50<1:46:43, 22.79s/it]"
          ]
        },
        {
          "name": "stdout",
          "output_type": "stream",
          "text": [
            "[Target Model] Epoch 18: Accuracy = 72.14%\n"
          ]
        },
        {
          "name": "stderr",
          "output_type": "stream",
          "text": [
            "\rTraining Target Model:   6%|▋         | 19/299 [07:13<1:45:48, 22.67s/it]"
          ]
        },
        {
          "name": "stdout",
          "output_type": "stream",
          "text": [
            "[Target Model] Epoch 19: Accuracy = 76.20%\n"
          ]
        },
        {
          "name": "stderr",
          "output_type": "stream",
          "text": [
            "\rTraining Target Model:   7%|▋         | 20/299 [07:35<1:44:48, 22.54s/it]"
          ]
        },
        {
          "name": "stdout",
          "output_type": "stream",
          "text": [
            "[Target Model] Epoch 20: Accuracy = 77.61%\n"
          ]
        },
        {
          "name": "stderr",
          "output_type": "stream",
          "text": [
            "\rTraining Target Model:   7%|▋         | 21/299 [07:57<1:44:19, 22.52s/it]"
          ]
        },
        {
          "name": "stdout",
          "output_type": "stream",
          "text": [
            "[Target Model] Epoch 21: Accuracy = 76.09%\n"
          ]
        },
        {
          "name": "stderr",
          "output_type": "stream",
          "text": [
            "\rTraining Target Model:   7%|▋         | 22/299 [08:20<1:44:18, 22.60s/it]"
          ]
        },
        {
          "name": "stdout",
          "output_type": "stream",
          "text": [
            "[Target Model] Epoch 22: Accuracy = 75.43%\n"
          ]
        },
        {
          "name": "stderr",
          "output_type": "stream",
          "text": [
            "\rTraining Target Model:   8%|▊         | 23/299 [08:42<1:43:44, 22.55s/it]"
          ]
        },
        {
          "name": "stdout",
          "output_type": "stream",
          "text": [
            "[Target Model] Epoch 23: Accuracy = 77.33%\n"
          ]
        },
        {
          "name": "stderr",
          "output_type": "stream",
          "text": [
            "\rTraining Target Model:   8%|▊         | 24/299 [09:05<1:43:16, 22.53s/it]"
          ]
        },
        {
          "name": "stdout",
          "output_type": "stream",
          "text": [
            "[Target Model] Epoch 24: Accuracy = 78.05%\n"
          ]
        },
        {
          "name": "stderr",
          "output_type": "stream",
          "text": [
            "\rTraining Target Model:   8%|▊         | 25/299 [09:28<1:43:58, 22.77s/it]"
          ]
        },
        {
          "name": "stdout",
          "output_type": "stream",
          "text": [
            "[Target Model] Epoch 25: Accuracy = 77.16%\n"
          ]
        },
        {
          "name": "stderr",
          "output_type": "stream",
          "text": [
            "\rTraining Target Model:   9%|▊         | 26/299 [09:51<1:43:36, 22.77s/it]"
          ]
        },
        {
          "name": "stdout",
          "output_type": "stream",
          "text": [
            "[Target Model] Epoch 26: Accuracy = 78.06%\n"
          ]
        },
        {
          "name": "stderr",
          "output_type": "stream",
          "text": [
            "\rTraining Target Model:   9%|▉         | 27/299 [10:13<1:42:26, 22.60s/it]"
          ]
        },
        {
          "name": "stdout",
          "output_type": "stream",
          "text": [
            "[Target Model] Epoch 27: Accuracy = 78.07%\n"
          ]
        },
        {
          "name": "stderr",
          "output_type": "stream",
          "text": [
            "\rTraining Target Model:   9%|▉         | 28/299 [10:36<1:41:52, 22.56s/it]"
          ]
        },
        {
          "name": "stdout",
          "output_type": "stream",
          "text": [
            "[Target Model] Epoch 28: Accuracy = 77.80%\n"
          ]
        },
        {
          "name": "stderr",
          "output_type": "stream",
          "text": [
            "\rTraining Target Model:  10%|▉         | 29/299 [10:58<1:41:26, 22.54s/it]"
          ]
        },
        {
          "name": "stdout",
          "output_type": "stream",
          "text": [
            "[Target Model] Epoch 29: Accuracy = 78.65%\n"
          ]
        },
        {
          "name": "stderr",
          "output_type": "stream",
          "text": [
            "\rTraining Target Model:  10%|█         | 30/299 [11:21<1:40:54, 22.51s/it]"
          ]
        },
        {
          "name": "stdout",
          "output_type": "stream",
          "text": [
            "[Target Model] Epoch 30: Accuracy = 79.38%\n"
          ]
        },
        {
          "name": "stderr",
          "output_type": "stream",
          "text": [
            "\rTraining Target Model:  10%|█         | 31/299 [11:43<1:40:25, 22.48s/it]"
          ]
        },
        {
          "name": "stdout",
          "output_type": "stream",
          "text": [
            "[Target Model] Epoch 31: Accuracy = 79.49%\n"
          ]
        },
        {
          "name": "stderr",
          "output_type": "stream",
          "text": [
            "\rTraining Target Model:  11%|█         | 32/299 [12:06<1:40:04, 22.49s/it]"
          ]
        },
        {
          "name": "stdout",
          "output_type": "stream",
          "text": [
            "[Target Model] Epoch 32: Accuracy = 79.23%\n"
          ]
        },
        {
          "name": "stderr",
          "output_type": "stream",
          "text": [
            "\rTraining Target Model:  11%|█         | 33/299 [12:28<1:39:57, 22.55s/it]"
          ]
        },
        {
          "name": "stdout",
          "output_type": "stream",
          "text": [
            "[Target Model] Epoch 33: Accuracy = 79.19%\n"
          ]
        },
        {
          "name": "stderr",
          "output_type": "stream",
          "text": [
            "\rTraining Target Model:  11%|█▏        | 34/299 [12:50<1:39:07, 22.44s/it]"
          ]
        },
        {
          "name": "stdout",
          "output_type": "stream",
          "text": [
            "[Target Model] Epoch 34: Accuracy = 78.07%\n"
          ]
        },
        {
          "name": "stderr",
          "output_type": "stream",
          "text": [
            "\rTraining Target Model:  12%|█▏        | 35/299 [13:13<1:38:41, 22.43s/it]"
          ]
        },
        {
          "name": "stdout",
          "output_type": "stream",
          "text": [
            "[Target Model] Epoch 35: Accuracy = 79.56%\n"
          ]
        },
        {
          "name": "stderr",
          "output_type": "stream",
          "text": [
            "\rTraining Target Model:  12%|█▏        | 35/299 [13:35<1:42:34, 23.31s/it]"
          ]
        },
        {
          "name": "stdout",
          "output_type": "stream",
          "text": [
            "[Target Model] Epoch 36: Accuracy = 80.40%\n",
            "✅ Reached 80% at epoch 36\n"
          ]
        },
        {
          "name": "stderr",
          "output_type": "stream",
          "text": [
            "\n"
          ]
        }
      ],
      "source": [
        "target_model = ResNet18().to(device)\n",
        "target_model.feat_nograd_forward = feat_nograd_forward.__get__(target_model)\n",
        "# ====== Step 3: Train Target Model with RHO-LOSS ======\n",
        "divbs = DivBS(ratio=32/50)\n",
        "divbs.set_model(target_model)\n",
        "\n",
        "target_optimizer = optim.AdamW(target_model.parameters(), lr=1e-3)\n",
        "topk = 32\n",
        "reached_80 = reached_875 = False\n",
        "\n",
        "for epoch in trange(1, 300, desc=\"Training Target Model\"):\n",
        "    target_model.train()\n",
        "    random.shuffle(train_ids)\n",
        "    for i in range(0, len(train_ids), 320):\n",
        "        ids = train_ids[i:i+320]\n",
        "        x_b, y_b, il_b = [], [], []\n",
        "        for idx in ids:\n",
        "            _, x, y = dm.train_split_2.dataset[idx]\n",
        "            x_b.append(x)\n",
        "            y_b.append(y)\n",
        "            il_b.append(irreducible_loss[idx])\n",
        "        if len(x_b) < topk:\n",
        "            continue\n",
        "        x_tensor = torch.stack(x_b).to(device)\n",
        "        y_tensor = torch.tensor(y_b).to(device)\n",
        "        il_tensor = torch.tensor(il_b).to(device)\n",
        "        logits = target_model(x_tensor)\n",
        "        losses = F.cross_entropy(logits, y_tensor, reduction='none')\n",
        "        rho = losses - il_tensor\n",
        "        if rho.size(0) < 50:\n",
        "          x_diverse = x_tensor\n",
        "          y_diverse = y_tensor\n",
        "          logits = target_model(x_diverse)\n",
        "          loss = F.cross_entropy(logits, y_diverse)\n",
        "          target_optimizer.zero_grad()\n",
        "          loss.backward()\n",
        "          target_optimizer.step()\n",
        "        else:\n",
        "          top50_idx = torch.topk(rho, 50).indices\n",
        "          x_top50 = x_tensor[top50_idx]\n",
        "          y_top50 = y_tensor[top50_idx]\n",
        "          x_diverse, y_diverse = divbs.select(x_top50, y_top50)\n",
        "          logits = target_model(x_diverse)\n",
        "          loss = F.cross_entropy(logits, y_diverse)\n",
        "          target_optimizer.zero_grad()\n",
        "          loss.backward()\n",
        "          target_optimizer.step()\n",
        "    target_model.eval()\n",
        "    correct, total = 0, 0\n",
        "    with torch.no_grad():\n",
        "        for _, x, y in test_loader:\n",
        "            x, y = x.to(device), y.to(device)\n",
        "            pred = target_model(x).argmax(1)\n",
        "            correct += (pred == y).sum().item()\n",
        "            total += y.size(0)\n",
        "    acc = 100.0 * correct / total\n",
        "    print(f\"[Target Model] Epoch {epoch}: Accuracy = {acc:.2f}%\")\n",
        "    if not reached_80 and acc >= 80.0:\n",
        "        print(f\"✅ Reached 80% at epoch {epoch}\")\n",
        "        reached_80 = True\n",
        "        break\n",
        "    if not reached_875 and acc >= 87.5:\n",
        "        print(f\"✅ Reached 87.5% at epoch {epoch}\")\n",
        "        reached_875 = True\n",
        "    if reached_80 and reached_875:\n",
        "        break"
      ]
    },
    {
      "cell_type": "code",
      "execution_count": 11,
      "metadata": {
        "id": "AjCBk8TQz5nP",
        "colab": {
          "base_uri": "https://localhost:8080/"
        },
        "outputId": "072939c9-2e73-4f8e-9ee0-74d23f7a80e4"
      },
      "outputs": [
        {
          "output_type": "stream",
          "name": "stdout",
          "text": [
            "[32.71, 42.83, 45.96, 44.66, 48.82, 61.57, 62.06, 62.78, 66.68, 63.67, 67.46, 71.39, 71.39, 72.16, 70.96, 70.44, 74.18, 73.74, 73.75, 73.83, 74.35, 76.39, 75.72, 75.5, 76.06, 74.08, 76.81, 75.31, 77.8, 77.29, 77.21, 78.66, 78.08, 77.36, 77.2, 79.89, 76.34, 78.93, 79.47, 79.23, 80.08]\n"
          ]
        }
      ],
      "source": [
        "import re\n",
        "\n",
        "def extract_accuracies(log_text: str) -> List[float]:\n",
        "    \"\"\"\n",
        "    Extracts all floating‑point numbers immediately following 'Accuracy =' in the log.\n",
        "    Works for lines like:\n",
        "      [Epoch   1] Test Accuracy = 25.48%\n",
        "      Epoch 10: Accuracy = 52.55%\n",
        "    \"\"\"\n",
        "    pattern = r\"Accuracy\\s*=\\s*([\\d\\.]+)%\"\n",
        "    return [float(m.group(1)) for m in re.finditer(pattern, log_text)]\n",
        "# --- Example usage ---\n",
        "if __name__ == \"__main__\":\n",
        "    log_str = \"\"\"\n",
        "\n",
        "Training Target Model:   0%|          | 1/299 [00:22<1:53:44, 22.90s/it]\n",
        "[Target Model] Epoch 1: Accuracy = 32.71%\n",
        "\n",
        "Training Target Model:   1%|          | 2/299 [00:45<1:52:43, 22.77s/it]\n",
        "[Target Model] Epoch 2: Accuracy = 42.83%\n",
        "\n",
        "Training Target Model:   1%|          | 3/299 [01:08<1:52:45, 22.86s/it]\n",
        "[Target Model] Epoch 3: Accuracy = 45.96%\n",
        "\n",
        "Training Target Model:   1%|▏         | 4/299 [01:31<1:53:12, 23.02s/it]\n",
        "[Target Model] Epoch 4: Accuracy = 44.66%\n",
        "\n",
        "Training Target Model:   2%|▏         | 5/299 [01:55<1:53:43, 23.21s/it]\n",
        "[Target Model] Epoch 5: Accuracy = 48.82%\n",
        "\n",
        "Training Target Model:   2%|▏         | 6/299 [02:18<1:53:53, 23.32s/it]\n",
        "[Target Model] Epoch 6: Accuracy = 61.57%\n",
        "\n",
        "Training Target Model:   2%|▏         | 7/299 [02:42<1:53:27, 23.31s/it]\n",
        "[Target Model] Epoch 7: Accuracy = 62.06%\n",
        "\n",
        "Training Target Model:   3%|▎         | 8/299 [03:05<1:52:41, 23.24s/it]\n",
        "[Target Model] Epoch 8: Accuracy = 62.78%\n",
        "\n",
        "Training Target Model:   3%|▎         | 9/299 [03:28<1:51:57, 23.16s/it]\n",
        "[Target Model] Epoch 9: Accuracy = 66.68%\n",
        "\n",
        "Training Target Model:   3%|▎         | 10/299 [03:51<1:51:15, 23.10s/it]\n",
        "[Target Model] Epoch 10: Accuracy = 63.67%\n",
        "\n",
        "Training Target Model:   4%|▎         | 11/299 [04:14<1:50:36, 23.04s/it]\n",
        "[Target Model] Epoch 11: Accuracy = 67.46%\n",
        "\n",
        "Training Target Model:   4%|▍         | 12/299 [04:37<1:50:06, 23.02s/it]\n",
        "[Target Model] Epoch 12: Accuracy = 71.39%\n",
        "\n",
        "Training Target Model:   4%|▍         | 13/299 [05:00<1:49:38, 23.00s/it]\n",
        "[Target Model] Epoch 13: Accuracy = 71.39%\n",
        "\n",
        "Training Target Model:   5%|▍         | 14/299 [05:23<1:50:06, 23.18s/it]\n",
        "[Target Model] Epoch 14: Accuracy = 72.16%\n",
        "\n",
        "Training Target Model:   5%|▌         | 15/299 [05:46<1:49:26, 23.12s/it]\n",
        "[Target Model] Epoch 15: Accuracy = 70.96%\n",
        "\n",
        "Training Target Model:   5%|▌         | 16/299 [06:09<1:49:16, 23.17s/it]\n",
        "[Target Model] Epoch 16: Accuracy = 70.44%\n",
        "\n",
        "Training Target Model:   6%|▌         | 17/299 [06:33<1:49:28, 23.29s/it]\n",
        "[Target Model] Epoch 17: Accuracy = 74.18%\n",
        "\n",
        "Training Target Model:   6%|▌         | 18/299 [06:57<1:49:28, 23.38s/it]\n",
        "[Target Model] Epoch 18: Accuracy = 73.74%\n",
        "\n",
        "Training Target Model:   6%|▋         | 19/299 [07:20<1:48:58, 23.35s/it]\n",
        "[Target Model] Epoch 19: Accuracy = 73.75%\n",
        "\n",
        "Training Target Model:   7%|▋         | 20/299 [07:43<1:48:21, 23.30s/it]\n",
        "[Target Model] Epoch 20: Accuracy = 73.83%\n",
        "\n",
        "Training Target Model:   7%|▋         | 21/299 [08:06<1:47:35, 23.22s/it]\n",
        "[Target Model] Epoch 21: Accuracy = 74.35%\n",
        "\n",
        "Training Target Model:   7%|▋         | 22/299 [08:29<1:46:52, 23.15s/it]\n",
        "[Target Model] Epoch 22: Accuracy = 76.39%\n",
        "\n",
        "Training Target Model:   8%|▊         | 23/299 [08:52<1:46:16, 23.10s/it]\n",
        "[Target Model] Epoch 23: Accuracy = 75.72%\n",
        "\n",
        "Training Target Model:   8%|▊         | 24/299 [09:15<1:45:43, 23.07s/it]\n",
        "[Target Model] Epoch 24: Accuracy = 75.50%\n",
        "\n",
        "Training Target Model:   8%|▊         | 25/299 [09:38<1:45:09, 23.03s/it]\n",
        "[Target Model] Epoch 25: Accuracy = 76.06%\n",
        "\n",
        "Training Target Model:   9%|▊         | 26/299 [10:01<1:44:39, 23.00s/it]\n",
        "[Target Model] Epoch 26: Accuracy = 74.08%\n",
        "\n",
        "Training Target Model:   9%|▉         | 27/299 [10:24<1:44:31, 23.06s/it]\n",
        "[Target Model] Epoch 27: Accuracy = 76.81%\n",
        "\n",
        "Training Target Model:   9%|▉         | 28/299 [10:48<1:44:42, 23.18s/it]\n",
        "[Target Model] Epoch 28: Accuracy = 75.31%\n",
        "\n",
        "Training Target Model:  10%|▉         | 29/299 [11:11<1:44:47, 23.29s/it]\n",
        "[Target Model] Epoch 29: Accuracy = 77.80%\n",
        "\n",
        "Training Target Model:  10%|█         | 30/299 [11:34<1:44:24, 23.29s/it]\n",
        "[Target Model] Epoch 30: Accuracy = 77.29%\n",
        "\n",
        "Training Target Model:  10%|█         | 31/299 [11:57<1:43:38, 23.20s/it]\n",
        "[Target Model] Epoch 31: Accuracy = 77.21%\n",
        "\n",
        "Training Target Model:  11%|█         | 32/299 [12:20<1:42:58, 23.14s/it]\n",
        "[Target Model] Epoch 32: Accuracy = 78.66%\n",
        "\n",
        "Training Target Model:  11%|█         | 33/299 [12:43<1:42:18, 23.08s/it]\n",
        "[Target Model] Epoch 33: Accuracy = 78.08%\n",
        "\n",
        "Training Target Model:  11%|█▏        | 34/299 [13:06<1:41:41, 23.03s/it]\n",
        "[Target Model] Epoch 34: Accuracy = 77.36%\n",
        "\n",
        "Training Target Model:  12%|█▏        | 35/299 [13:29<1:41:11, 23.00s/it]\n",
        "[Target Model] Epoch 35: Accuracy = 77.20%\n",
        "\n",
        "Training Target Model:  12%|█▏        | 36/299 [13:52<1:40:46, 22.99s/it]\n",
        "[Target Model] Epoch 36: Accuracy = 79.89%\n",
        "\n",
        "Training Target Model:  12%|█▏        | 37/299 [14:15<1:40:22, 22.99s/it]\n",
        "[Target Model] Epoch 37: Accuracy = 76.34%\n",
        "\n",
        "Training Target Model:  13%|█▎        | 38/299 [14:38<1:40:28, 23.10s/it]\n",
        "[Target Model] Epoch 38: Accuracy = 78.93%\n",
        "\n",
        "Training Target Model:  13%|█▎        | 39/299 [15:02<1:40:43, 23.24s/it]\n",
        "[Target Model] Epoch 39: Accuracy = 79.47%\n",
        "\n",
        "Training Target Model:  13%|█▎        | 40/299 [15:26<1:40:37, 23.31s/it]\n",
        "[Target Model] Epoch 40: Accuracy = 79.23%\n",
        "\n",
        "Training Target Model:  14%|█▎        | 41/299 [15:49<1:40:14, 23.31s/it]\n",
        "[Target Model] Epoch 41: Accuracy = 80.08%\n",
        "✅ Reached 80% at epoch 41\n",
        "\n",
        "\n",
        "    \"\"\"  # <-- your full log here\n",
        "\n",
        "    accuracies = extract_accuracies(log_str)\n",
        "    print(accuracies)  # prints: [27.38, 30.19, 38.01]\n"
      ]
    },
    {
      "cell_type": "code",
      "execution_count": 12,
      "metadata": {
        "id": "yVWe-7-80Qpz",
        "colab": {
          "base_uri": "https://localhost:8080/"
        },
        "outputId": "acdc5685-cb8a-438a-d812-bf035847488d"
      },
      "outputs": [
        {
          "output_type": "stream",
          "name": "stdout",
          "text": [
            "[32.86, 43.32, 51.65, 57.18, 52.6, 62.6, 66.22, 63.45, 63.49, 68.94, 71.19, 73.7, 72.83, 71.24, 72.12, 72.1, 73.31, 72.14, 76.2, 77.61, 76.09, 75.43, 77.33, 78.05, 77.16, 78.06, 78.07, 77.8, 78.65, 79.38, 79.49, 79.23, 79.19, 78.07, 79.56, 80.4]\n"
          ]
        }
      ],
      "source": [
        "import re\n",
        "\n",
        "def extract_accuracies(log_text: str) -> List[float]:\n",
        "    \"\"\"\n",
        "    Extracts all floating‑point numbers immediately following 'Accuracy =' in the log.\n",
        "    Works for lines like:\n",
        "      [Epoch   1] Test Accuracy = 25.48%\n",
        "      Epoch 10: Accuracy = 52.55%\n",
        "    \"\"\"\n",
        "    pattern = r\"Accuracy\\s*=\\s*([\\d\\.]+)%\"\n",
        "    return [float(m.group(1)) for m in re.finditer(pattern, log_text)]\n",
        "# --- Example usage ---\n",
        "if __name__ == \"__main__\":\n",
        "    log_str = \"\"\"\n",
        "Training Target Model:   0%|          | 1/299 [00:22<1:50:58, 22.34s/it][Target Model] Epoch 1: Accuracy = 32.86%\n",
        "Training Target Model:   1%|          | 2/299 [00:44<1:51:05, 22.44s/it][Target Model] Epoch 2: Accuracy = 43.32%\n",
        "Training Target Model:   1%|          | 3/299 [01:07<1:51:20, 22.57s/it][Target Model] Epoch 3: Accuracy = 51.65%\n",
        "Training Target Model:   1%|▏         | 4/299 [01:31<1:53:09, 23.02s/it][Target Model] Epoch 4: Accuracy = 57.18%\n",
        "Training Target Model:   2%|▏         | 5/299 [01:53<1:52:06, 22.88s/it][Target Model] Epoch 5: Accuracy = 52.60%\n",
        "Training Target Model:   2%|▏         | 6/299 [02:16<1:51:10, 22.77s/it][Target Model] Epoch 6: Accuracy = 62.60%\n",
        "Training Target Model:   2%|▏         | 7/299 [02:39<1:50:49, 22.77s/it][Target Model] Epoch 7: Accuracy = 66.22%\n",
        "Training Target Model:   3%|▎         | 8/299 [03:02<1:50:36, 22.80s/it][Target Model] Epoch 8: Accuracy = 63.45%\n",
        "Training Target Model:   3%|▎         | 9/299 [03:25<1:50:33, 22.87s/it][Target Model] Epoch 9: Accuracy = 63.49%\n",
        "Training Target Model:   3%|▎         | 10/299 [03:47<1:49:31, 22.74s/it][Target Model] Epoch 10: Accuracy = 68.94%\n",
        "Training Target Model:   4%|▎         | 11/299 [04:09<1:48:40, 22.64s/it][Target Model] Epoch 11: Accuracy = 71.19%\n",
        "Training Target Model:   4%|▍         | 12/299 [04:32<1:48:37, 22.71s/it][Target Model] Epoch 12: Accuracy = 73.70%\n",
        "Training Target Model:   4%|▍         | 13/299 [04:56<1:49:04, 22.88s/it][Target Model] Epoch 13: Accuracy = 72.83%\n",
        "Training Target Model:   5%|▍         | 14/299 [05:20<1:50:32, 23.27s/it][Target Model] Epoch 14: Accuracy = 71.24%\n",
        "Training Target Model:   5%|▌         | 15/299 [05:42<1:48:56, 23.01s/it][Target Model] Epoch 15: Accuracy = 72.12%\n",
        "Training Target Model:   5%|▌         | 16/299 [06:05<1:47:50, 22.86s/it][Target Model] Epoch 16: Accuracy = 72.10%\n",
        "Training Target Model:   6%|▌         | 17/299 [06:27<1:47:01, 22.77s/it][Target Model] Epoch 17: Accuracy = 73.31%\n",
        "Training Target Model:   6%|▌         | 18/299 [06:50<1:46:43, 22.79s/it][Target Model] Epoch 18: Accuracy = 72.14%\n",
        "Training Target Model:   6%|▋         | 19/299 [07:13<1:45:48, 22.67s/it][Target Model] Epoch 19: Accuracy = 76.20%\n",
        "Training Target Model:   7%|▋         | 20/299 [07:35<1:44:48, 22.54s/it][Target Model] Epoch 20: Accuracy = 77.61%\n",
        "Training Target Model:   7%|▋         | 21/299 [07:57<1:44:19, 22.52s/it][Target Model] Epoch 21: Accuracy = 76.09%\n",
        "Training Target Model:   7%|▋         | 22/299 [08:20<1:44:18, 22.60s/it][Target Model] Epoch 22: Accuracy = 75.43%\n",
        "Training Target Model:   8%|▊         | 23/299 [08:42<1:43:44, 22.55s/it][Target Model] Epoch 23: Accuracy = 77.33%\n",
        "Training Target Model:   8%|▊         | 24/299 [09:05<1:43:16, 22.53s/it][Target Model] Epoch 24: Accuracy = 78.05%\n",
        "Training Target Model:   8%|▊         | 25/299 [09:28<1:43:58, 22.77s/it][Target Model] Epoch 25: Accuracy = 77.16%\n",
        "Training Target Model:   9%|▊         | 26/299 [09:51<1:43:36, 22.77s/it][Target Model] Epoch 26: Accuracy = 78.06%\n",
        "Training Target Model:   9%|▉         | 27/299 [10:13<1:42:26, 22.60s/it][Target Model] Epoch 27: Accuracy = 78.07%\n",
        "Training Target Model:   9%|▉         | 28/299 [10:36<1:41:52, 22.56s/it][Target Model] Epoch 28: Accuracy = 77.80%\n",
        "Training Target Model:  10%|▉         | 29/299 [10:58<1:41:26, 22.54s/it][Target Model] Epoch 29: Accuracy = 78.65%\n",
        "Training Target Model:  10%|█         | 30/299 [11:21<1:40:54, 22.51s/it][Target Model] Epoch 30: Accuracy = 79.38%\n",
        "Training Target Model:  10%|█         | 31/299 [11:43<1:40:25, 22.48s/it][Target Model] Epoch 31: Accuracy = 79.49%\n",
        "Training Target Model:  11%|█         | 32/299 [12:06<1:40:04, 22.49s/it][Target Model] Epoch 32: Accuracy = 79.23%\n",
        "Training Target Model:  11%|█         | 33/299 [12:28<1:39:57, 22.55s/it][Target Model] Epoch 33: Accuracy = 79.19%\n",
        "Training Target Model:  11%|█▏        | 34/299 [12:50<1:39:07, 22.44s/it][Target Model] Epoch 34: Accuracy = 78.07%\n",
        "Training Target Model:  12%|█▏        | 35/299 [13:13<1:38:41, 22.43s/it][Target Model] Epoch 35: Accuracy = 79.56%\n",
        "Training Target Model:  12%|█▏        | 35/299 [13:35<1:42:34, 23.31s/it][Target Model] Epoch 36: Accuracy = 80.40%\n",
        "✅ Reached 80% at epoch 36\n",
        "\n",
        "    \"\"\"  # <-- your full log here\n",
        "\n",
        "    accuracies = extract_accuracies(log_str)\n",
        "    print(accuracies)  # prints: [27.38, 30.19, 38.01]\n"
      ]
    },
    {
      "cell_type": "code",
      "source": [
        "import matplotlib.pyplot as plt\n",
        "\n",
        "# Accuracy data\n",
        "divbs_rho = [32.86, 43.32, 51.65, 57.18, 52.6, 62.6, 66.22, 63.45, 63.49,\n",
        "             68.94, 71.19, 73.7, 72.83, 71.24, 72.12, 72.1, 73.31, 72.14,\n",
        "             76.2, 77.61, 76.09, 75.43, 77.33, 78.05, 77.16, 78.06, 78.07,\n",
        "             77.8, 78.65, 79.38, 79.49, 79.23, 79.19, 78.07, 79.56, 80.4]\n",
        "\n",
        "generic_rho = [32.71, 42.83, 45.96, 44.66, 48.82, 61.57, 62.06, 62.78, 66.68,\n",
        "               63.67, 67.46, 71.39, 71.39, 72.16, 70.96, 70.44, 74.18, 73.74,\n",
        "               73.75, 73.83, 74.35, 76.39, 75.72, 75.5, 76.06, 74.08, 76.81,\n",
        "               75.31, 77.8, 77.29, 77.21, 78.66, 78.08, 77.36, 77.2, 79.89,\n",
        "               76.34, 78.93, 79.47, 79.23, 80.08]\n",
        "\n",
        "# Epoch indices\n",
        "epochs_divbs   = list(range(1, len(divbs_rho) + 1))\n",
        "epochs_generic = list(range(1, len(generic_rho) + 1))\n",
        "\n",
        "# Thresholds to mark\n",
        "milestones = [60, 70, 80]\n",
        "colors     = ['tab:orange', 'tab:green', 'tab:purple']\n",
        "\n",
        "# Create figure\n",
        "fig, ax = plt.subplots(figsize=(12, 6))\n",
        "\n",
        "# Plot curves\n",
        "ax.plot(epochs_divbs,   divbs_rho,    label='DivBS + RHO', color='tab:blue',  linewidth=2)\n",
        "ax.plot(epochs_generic, generic_rho,  label='Generic RHO', color='tab:orange',linewidth=2)\n",
        "\n",
        "# Legend markers\n",
        "ax.scatter([], [], marker='*', color='k', s=100, label='DivBS milestone')\n",
        "ax.scatter([], [], marker='o', color='k', s= 60, label='Generic milestone')\n",
        "\n",
        "# Annotation layout\n",
        "y_start  = 1.005  # start just above the axes\n",
        "y_step   = 0.06   # step between milestone rows\n",
        "x_offset = 0.3    # horizontal shift for labels\n",
        "\n",
        "# Mark each milestone\n",
        "for idx, (thresh, c) in enumerate(zip(milestones, colors)):\n",
        "    # find first crossing epoch and value\n",
        "    e_div, v_div = next((e, v) for e, v in zip(epochs_divbs,   divbs_rho)   if v >= thresh)\n",
        "    e_gen, v_gen = next((e, v) for e, v in zip(epochs_generic, generic_rho) if v >= thresh)\n",
        "\n",
        "    # vertical lines\n",
        "    ax.axvline(e_div, color=c, linestyle='--', alpha=0.5)\n",
        "    ax.axvline(e_gen, color=c, linestyle='--', alpha=0.5)\n",
        "\n",
        "    # markers\n",
        "    ax.scatter(e_div, v_div, marker='*', color=c, s=100, edgecolor='k', zorder=5)\n",
        "    ax.scatter(e_gen, v_gen, marker='o', color=c, s=60,  edgecolor='k', zorder=5)\n",
        "\n",
        "    # compute annotation positions\n",
        "    div_y = y_start + idx * y_step\n",
        "    gen_y = y_start + idx * y_step + y_step/2\n",
        "\n",
        "    # annotate DivBS (to the left)\n",
        "    ax.annotate(\n",
        "        f'DivBS ≥ {thresh}% @ {e_div}',\n",
        "        xy=(e_div - x_offset, div_y),\n",
        "        xycoords=('data', 'axes fraction'),\n",
        "        ha='right', va='bottom',\n",
        "        rotation=90, fontsize=8, color=c,\n",
        "        bbox=dict(boxstyle=\"round,pad=0.2\", fc=\"white\", alpha=0.8)\n",
        "    )\n",
        "    # annotate Generic (to the right)\n",
        "    ax.annotate(\n",
        "        f'Gen  ≥ {thresh}% @ {e_gen}',\n",
        "        xy=(e_gen + x_offset, gen_y),\n",
        "        xycoords=('data', 'axes fraction'),\n",
        "        ha='left', va='bottom',\n",
        "        rotation=90, fontsize=8, color=c,\n",
        "        bbox=dict(boxstyle=\"round,pad=0.2\", fc=\"white\", alpha=0.8)\n",
        "    )\n",
        "\n",
        "# Adjust y-axis from 30 to just above max, with 5-unit ticks\n",
        "max_acc = max(max(divbs_rho), max(generic_rho))\n",
        "ax.set_ylim(30, max_acc + 1)\n",
        "ax.set_yticks(range(30, int(max_acc) + 2, 5))\n",
        "\n",
        "# Tighten top margin so the curves fill more of the space\n",
        "plt.subplots_adjust(top=0.85)\n",
        "\n",
        "# Include milestone epochs in x-ticks\n",
        "milestone_epochs = {\n",
        "    next(e for e, v in zip(epochs_divbs,   divbs_rho)   if v >= thresh)\n",
        "    for thresh in milestones\n",
        "} | {\n",
        "    next(e for e, v in zip(epochs_generic, generic_rho) if v >= thresh)\n",
        "    for thresh in milestones\n",
        "}\n",
        "xt = sorted(set(ax.get_xticks()) | milestone_epochs)\n",
        "ax.set_xticks(xt)\n",
        "ax.set_xticklabels([int(x) for x in xt])\n",
        "\n",
        "# Final formatting\n",
        "ax.set_title(\"Test Accuracy vs. Epoch\")\n",
        "ax.set_xlabel(\"Epoch\")\n",
        "ax.set_ylabel(\"Accuracy (%)\")\n",
        "ax.legend(loc='lower right')\n",
        "ax.grid(True)\n",
        "plt.tight_layout()\n",
        "plt.show()\n"
      ],
      "metadata": {
        "colab": {
          "base_uri": "https://localhost:8080/",
          "height": 556
        },
        "id": "a5EyJ4yw5BCZ",
        "outputId": "43c73720-66e7-45cb-eb9c-5e2c1fdba29c"
      },
      "execution_count": 26,
      "outputs": [
        {
          "output_type": "display_data",
          "data": {
            "text/plain": [
              "<Figure size 1200x600 with 1 Axes>"
            ],
            "image/png": "[encoded data removed]"
          },
          "metadata": {}
        }
      ]
    }
  ],
  "metadata": {
    "accelerator": "GPU",
    "colab": {
      "gpuType": "T4",
      "provenance": []
    },
    "kernelspec": {
      "display_name": "Python 3",
      "name": "python3"
    },
    "language_info": {
      "name": "python"
    }
  },
  "nbformat": 4,
  "nbformat_minor": 0
}