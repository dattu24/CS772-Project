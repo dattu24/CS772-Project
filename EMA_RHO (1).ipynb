{
  "nbformat": 4,
  "nbformat_minor": 0,
  "metadata": {
    "colab": {
      "provenance": [],
      "gpuType": "T4"
    },
    "kernelspec": {
      "name": "python3",
      "display_name": "Python 3"
    },
    "language_info": {
      "name": "python"
    },
    "accelerator": "GPU"
  },
  "cells": [
    {
      "cell_type": "code",
      "source": [
        "from pathlib import Path\n",
        "import numpy as np\n",
        "import copy\n",
        "import torch\n",
        "import torchvision\n",
        "from torch.utils.data import DataLoader, Subset\n",
        "from torchvision import transforms\n",
        "from torchvision.datasets import CIFAR10, MNIST, QMNIST\n",
        "from torchvision.transforms.transforms import Resize\n",
        "from typing import Any, Callable, Dict, List, Optional, Tuple\n",
        "import os\n",
        "import os.path\n",
        "import pickle\n",
        "from typing import Any, Callable, Optional, Tuple\n",
        "import numpy as np\n",
        "from PIL import Image\n",
        "from torchvision.datasets.utils import check_integrity, download_and_extract_archive\n",
        "from torchvision.datasets.vision import VisionDataset\n",
        "import torch\n",
        "import torch.nn as nn\n",
        "import torch.nn.functional as F\n",
        "import torchvision"
      ],
      "metadata": {
        "id": "cG4YqSpboPjh"
      },
      "execution_count": null,
      "outputs": []
    },
    {
      "cell_type": "markdown",
      "source": [
        "> **Architectures.** For experiments on CIFAR-10, CIFAR-100 and CINIC-10, we use a variant of ResNet-18 (He et al., 2016). We adapted the ResNet18 to 32x32 images by modifying the architecture to remove the downsampling effect. We replaced the spatial downsampling of a strided convolution and max pooling in the original ResNet18, with a convolutional layer with 64 filters and a kernel size of 3x3. We also removed the average pooling at the end of the ResNet18. This ResNet18 variant is similar to Resnet20, just with more filters\n",
        "\n",
        "**Resnet Architecture as mentioned in paper:** [ https://github.com/OATML/RHO-Loss/blob/4c88851742ce5397153f4fef80abd4682958ac56/src/models/modules/resnet_cifar.py#L86 ]\n"
      ],
      "metadata": {
        "id": "kP6alw6HoEpM"
      }
    },
    {
      "cell_type": "code",
      "source": [
        "class BasicBlock(nn.Module):\n",
        "    expansion = 1\n",
        "\n",
        "    def __init__(self, in_planes, planes, stride=1):\n",
        "        super(BasicBlock, self).__init__()\n",
        "        self.conv1 = nn.Conv2d(\n",
        "            in_planes, planes, kernel_size=3, stride=stride, padding=1, bias=False\n",
        "        )\n",
        "        self.bn1 = nn.BatchNorm2d(planes)\n",
        "        self.conv2 = nn.Conv2d(\n",
        "            planes, planes, kernel_size=3, stride=1, padding=1, bias=False\n",
        "        )\n",
        "        self.bn2 = nn.BatchNorm2d(planes)\n",
        "\n",
        "        self.shortcut = nn.Sequential()\n",
        "        if stride != 1 or in_planes != self.expansion * planes:\n",
        "            self.shortcut = nn.Sequential(\n",
        "                nn.Conv2d(\n",
        "                    in_planes,\n",
        "                    self.expansion * planes,\n",
        "                    kernel_size=1,\n",
        "                    stride=stride,\n",
        "                    bias=False,\n",
        "                ),\n",
        "                nn.BatchNorm2d(self.expansion * planes),\n",
        "            )\n",
        "\n",
        "    def forward(self, x):\n",
        "        out = F.relu(self.bn1(self.conv1(x)))\n",
        "        out = self.bn2(self.conv2(out))\n",
        "        out += self.shortcut(x)\n",
        "        out = F.relu(out)\n",
        "        return out\n",
        "\n",
        "\n",
        "class Bottleneck(nn.Module):\n",
        "    expansion = 4\n",
        "\n",
        "    def __init__(self, in_planes, planes, stride=1):\n",
        "        super(Bottleneck, self).__init__()\n",
        "        self.conv1 = nn.Conv2d(in_planes, planes, kernel_size=1, bias=False)\n",
        "        self.bn1 = nn.BatchNorm2d(planes)\n",
        "        self.conv2 = nn.Conv2d(\n",
        "            planes, planes, kernel_size=3, stride=stride, padding=1, bias=False\n",
        "        )\n",
        "        self.bn2 = nn.BatchNorm2d(planes)\n",
        "        self.conv3 = nn.Conv2d(\n",
        "            planes, self.expansion * planes, kernel_size=1, bias=False\n",
        "        )\n",
        "        self.bn3 = nn.BatchNorm2d(self.expansion * planes)\n",
        "\n",
        "        self.shortcut = nn.Sequential()\n",
        "        if stride != 1 or in_planes != self.expansion * planes:\n",
        "            self.shortcut = nn.Sequential(\n",
        "                nn.Conv2d(\n",
        "                    in_planes,\n",
        "                    self.expansion * planes,\n",
        "                    kernel_size=1,\n",
        "                    stride=stride,\n",
        "                    bias=False,\n",
        "                ),\n",
        "                nn.BatchNorm2d(self.expansion * planes),\n",
        "            )\n",
        "\n",
        "    def forward(self, x):\n",
        "        out = F.relu(self.bn1(self.conv1(x)))\n",
        "        out = F.relu(self.bn2(self.conv2(out)))\n",
        "        out = self.bn3(self.conv3(out))\n",
        "        out += self.shortcut(x)\n",
        "        out = F.relu(out)\n",
        "        return out\n",
        "\n",
        "\n",
        "class ResNet(nn.Module):\n",
        "    def __init__(self, block, num_blocks, num_classes=10):\n",
        "        super(ResNet, self).__init__()\n",
        "        self.in_planes = 64\n",
        "\n",
        "        self.conv1 = nn.Conv2d(3, 64, kernel_size=3, stride=1, padding=1, bias=False)\n",
        "        self.bn1 = nn.BatchNorm2d(64)\n",
        "        self.layer1 = self._make_layer(block, 64, num_blocks[0], stride=1)\n",
        "        self.layer2 = self._make_layer(block, 128, num_blocks[1], stride=2)\n",
        "        self.layer3 = self._make_layer(block, 256, num_blocks[2], stride=2)\n",
        "        self.layer4 = self._make_layer(block, 512, num_blocks[3], stride=2)\n",
        "        self.linear = nn.Linear(512 * block.expansion, num_classes)\n",
        "\n",
        "        for m in self.modules():\n",
        "            if isinstance(m, nn.Conv2d):\n",
        "                nn.init.kaiming_normal_(m.weight, mode=\"fan_out\", nonlinearity=\"relu\")\n",
        "            elif isinstance(m, (nn.BatchNorm2d, nn.GroupNorm)):\n",
        "                nn.init.constant_(m.weight, 1)\n",
        "                nn.init.constant_(m.bias, 0)\n",
        "\n",
        "    def _make_layer(self, block, planes, num_blocks, stride):\n",
        "        strides = [stride] + [1] * (num_blocks - 1)\n",
        "        layers = []\n",
        "        for stride in strides:\n",
        "            layers.append(block(self.in_planes, planes, stride))\n",
        "            self.in_planes = planes * block.expansion\n",
        "        return nn.Sequential(*layers)\n",
        "\n",
        "    def forward(self, x):\n",
        "        out = F.relu(self.bn1(self.conv1(x)))\n",
        "        out = self.layer1(out)\n",
        "        out = self.layer2(out)\n",
        "        out = self.layer3(out)\n",
        "        out = self.layer4(out)\n",
        "        out = F.avg_pool2d(out, 4)\n",
        "        out = out.view(out.size(0), -1)\n",
        "        out = self.linear(out)\n",
        "        return out\n",
        "\n",
        "\n",
        "def ResNet18():\n",
        "    return ResNet(BasicBlock, [2, 2, 2, 2])\n",
        "\n",
        "def ResNet34():\n",
        "    return ResNet(BasicBlock, [3, 4, 6, 3])\n",
        "\n",
        "def ResNet50():\n",
        "    return ResNet(Bottleneck, [3, 4, 6, 3])\n",
        "\n",
        "def ResNet101():\n",
        "    return ResNet(Bottleneck, [3, 4, 23, 3])\n",
        "\n",
        "def ResNet152():\n",
        "    return ResNet(Bottleneck, [3, 8, 36, 3])\n",
        "\n",
        "def test():\n",
        "    net = ResNet18()\n",
        "    y = net(torch.randn(1, 3, 32, 32))\n",
        "    print(y.size())\n",
        "\n",
        "def resnet18_imagenet(pretrained=False, classes=10):\n",
        "    model = torchvision.models.resnet18(pretrained=pretrained, num_classes=1000)\n",
        "    model.conv1 = nn.Conv2d(\n",
        "        3, 64, kernel_size=(3, 3), stride=(1, 1), padding=(1, 1), bias=False\n",
        "    )\n",
        "    model.maxpool = nn.Identity()\n",
        "    model.fc = nn.Linear(512, classes, bias=True)\n",
        "    return model\n",
        "\n",
        "def resnet50_imagenet(pretrained=False, classes=10):\n",
        "    model = torchvision.models.resnet50(pretrained=pretrained, num_classes=1000)\n",
        "    model.fc = nn.Linear(512, classes, bias=True)\n",
        "    return model"
      ],
      "metadata": {
        "id": "6BWegLUWoBmu"
      },
      "execution_count": null,
      "outputs": []
    },
    {
      "cell_type": "markdown",
      "source": [
        "**Modified code with MC dropout:**\n",
        "\n",
        "Monte Carlo Dropout (MC‑Dropout) is a simple way to turn a standard neural network with dropout layers into an approximate Bayesian model that can estimate uncertainty in its predictions. Here’s how it works and how you use it:\n",
        "\n",
        "1. The Idea\n",
        "Standard dropout randomly zeroes a fraction of activations only during training to regularize the network. At test time you disable dropout (i.e. use model.eval()), so the network is deterministic.\n",
        "\n",
        "MC‑Dropout flips that around: at inference you deliberately keep dropout turned on (i.e. keep the network in train() mode) and do many forward passes through the same input, each time with a different random dropout mask.\n",
        "\n",
        "Each pass gives you a slightly different prediction. By aggregating (e.g. by taking the mean and the variance) over these T stochastic passes, you get:\n",
        "\n",
        "Predictive mean → your final predicted probabilities.\n",
        "\n",
        "Predictive variance → an estimate of your model’s epistemic uncertainty (i.e. “how unsure the model is given the data it has seen”).\n",
        "\n",
        "This simple trick was introduced in Gal & Ghahramani (2016) as a practical Bayesian approximation.\n",
        "\n"
      ],
      "metadata": {
        "id": "0TznC3o7aOu5"
      }
    },
    {
      "cell_type": "code",
      "source": [
        "import torch\n",
        "import torch.nn as nn\n",
        "import torch.nn.functional as F\n",
        "import torchvision\n",
        "\n",
        "class BasicBlock(nn.Module):\n",
        "    expansion = 1\n",
        "\n",
        "    def __init__(self, in_planes, planes, stride=1, dropout_p=0.2):\n",
        "        super(BasicBlock, self).__init__()\n",
        "        self.conv1 = nn.Conv2d(\n",
        "            in_planes, planes, kernel_size=3, stride=stride, padding=1, bias=False\n",
        "        )\n",
        "        self.bn1 = nn.BatchNorm2d(planes)\n",
        "        self.dropout1 = nn.Dropout(p=dropout_p)\n",
        "\n",
        "        self.conv2 = nn.Conv2d(\n",
        "            planes, planes, kernel_size=3, stride=1, padding=1, bias=False\n",
        "        )\n",
        "        self.bn2 = nn.BatchNorm2d(planes)\n",
        "        self.dropout2 = nn.Dropout(p=dropout_p)\n",
        "\n",
        "        self.shortcut = nn.Sequential()\n",
        "        if stride != 1 or in_planes != self.expansion * planes:\n",
        "            self.shortcut = nn.Sequential(\n",
        "                nn.Conv2d(\n",
        "                    in_planes,\n",
        "                    self.expansion * planes,\n",
        "                    kernel_size=1,\n",
        "                    stride=stride,\n",
        "                    bias=False,\n",
        "                ),\n",
        "                nn.BatchNorm2d(self.expansion * planes),\n",
        "            )\n",
        "\n",
        "    def forward(self, x):\n",
        "        out = F.relu(self.bn1(self.conv1(x)))\n",
        "        out = self.dropout1(out)\n",
        "        out = self.bn2(self.conv2(out))\n",
        "        out = self.dropout2(out)\n",
        "        out += self.shortcut(x)\n",
        "        out = F.relu(out)\n",
        "        return out\n",
        "\n",
        "\n",
        "class Bottleneck(nn.Module):\n",
        "    expansion = 4\n",
        "\n",
        "    def __init__(self, in_planes, planes, stride=1, dropout_p=0.2):\n",
        "        super(Bottleneck, self).__init__()\n",
        "        self.conv1 = nn.Conv2d(in_planes, planes, kernel_size=1, bias=False)\n",
        "        self.bn1 = nn.BatchNorm2d(planes)\n",
        "        self.dropout1 = nn.Dropout(p=dropout_p)\n",
        "\n",
        "        self.conv2 = nn.Conv2d(\n",
        "            planes, planes, kernel_size=3, stride=stride, padding=1, bias=False\n",
        "        )\n",
        "        self.bn2 = nn.BatchNorm2d(planes)\n",
        "        self.dropout2 = nn.Dropout(p=dropout_p)\n",
        "\n",
        "        self.conv3 = nn.Conv2d(\n",
        "            planes, self.expansion * planes, kernel_size=1, bias=False\n",
        "        )\n",
        "        self.bn3 = nn.BatchNorm2d(self.expansion * planes)\n",
        "        self.dropout3 = nn.Dropout(p=dropout_p)\n",
        "\n",
        "        self.shortcut = nn.Sequential()\n",
        "        if stride != 1 or in_planes != self.expansion * planes:\n",
        "            self.shortcut = nn.Sequential(\n",
        "                nn.Conv2d(\n",
        "                    in_planes,\n",
        "                    self.expansion * planes,\n",
        "                    kernel_size=1,\n",
        "                    stride=stride,\n",
        "                    bias=False,\n",
        "                ),\n",
        "                nn.BatchNorm2d(self.expansion * planes),\n",
        "            )\n",
        "\n",
        "    def forward(self, x):\n",
        "        out = F.relu(self.bn1(self.conv1(x)))\n",
        "        out = self.dropout1(out)\n",
        "        out = F.relu(self.bn2(self.conv2(out)))\n",
        "        out = self.dropout2(out)\n",
        "        out = self.bn3(self.conv3(out))\n",
        "        out = self.dropout3(out)\n",
        "        out += self.shortcut(x)\n",
        "        out = F.relu(out)\n",
        "        return out\n",
        "\n",
        "\n",
        "class ResNet(nn.Module):\n",
        "    def __init__(self, block, num_blocks, num_classes=10, dropout_p=0.2):\n",
        "        super(ResNet, self).__init__()\n",
        "        self.in_planes = 64\n",
        "\n",
        "        self.conv1 = nn.Conv2d(3, 64, kernel_size=3, stride=1, padding=1, bias=False)\n",
        "        self.bn1 = nn.BatchNorm2d(64)\n",
        "        self.layer1 = self._make_layer(block, 64, num_blocks[0], stride=1, dropout_p=dropout_p)\n",
        "        self.layer2 = self._make_layer(block, 128, num_blocks[1], stride=2, dropout_p=dropout_p)\n",
        "        self.layer3 = self._make_layer(block, 256, num_blocks[2], stride=2, dropout_p=dropout_p)\n",
        "        self.layer4 = self._make_layer(block, 512, num_blocks[3], stride=2, dropout_p=dropout_p)\n",
        "        self.dropout = nn.Dropout(p=dropout_p)\n",
        "        self.linear = nn.Linear(512 * block.expansion, num_classes)\n",
        "\n",
        "        for m in self.modules():\n",
        "            if isinstance(m, nn.Conv2d):\n",
        "                nn.init.kaiming_normal_(m.weight, mode=\"fan_out\", nonlinearity=\"relu\")\n",
        "            elif isinstance(m, (nn.BatchNorm2d, nn.GroupNorm)):\n",
        "                nn.init.constant_(m.weight, 1)\n",
        "                nn.init.constant_(m.bias, 0)\n",
        "\n",
        "    def _make_layer(self, block, planes, num_blocks, stride, dropout_p):\n",
        "        strides = [stride] + [1] * (num_blocks - 1)\n",
        "        layers = []\n",
        "        for stride in strides:\n",
        "            layers.append(block(self.in_planes, planes, stride, dropout_p))\n",
        "            self.in_planes = planes * block.expansion\n",
        "        return nn.Sequential(*layers)\n",
        "\n",
        "    def forward(self, x):\n",
        "        out = F.relu(self.bn1(self.conv1(x)))\n",
        "        out = self.layer1(out)\n",
        "        out = self.layer2(out)\n",
        "        out = self.layer3(out)\n",
        "        out = self.layer4(out)\n",
        "        out = F.avg_pool2d(out, 4)\n",
        "        out = out.view(out.size(0), -1)\n",
        "        out = self.dropout(out)\n",
        "        out = self.linear(out)\n",
        "        return out\n",
        "\n",
        "\n",
        "def ResNet18(dropout_p=0.2):\n",
        "    return ResNet(BasicBlock, [2, 2, 2, 2], dropout_p=dropout_p)\n",
        "\n",
        "def ResNet34(dropout_p=0.2):\n",
        "    return ResNet(BasicBlock, [3, 4, 6, 3], dropout_p=dropout_p)\n",
        "\n",
        "def ResNet50(dropout_p=0.2):\n",
        "    return ResNet(Bottleneck, [3, 4, 6, 3], dropout_p=dropout_p)\n",
        "\n",
        "def ResNet101(dropout_p=0.2):\n",
        "    return ResNet(Bottleneck, [3, 4, 23, 3], dropout_p=dropout_p)\n",
        "\n",
        "def ResNet152(dropout_p=0.2):\n",
        "    return ResNet(Bottleneck, [3, 8, 36, 3], dropout_p=dropout_p)\n",
        "\n",
        "def test():\n",
        "    net = ResNet18()\n",
        "    y = net(torch.randn(1, 3, 32, 32))\n",
        "    print(y.size())\n",
        "\n",
        "# Example for ImageNet variants remains unchanged\n",
        "\n",
        "def resnet18_imagenet(pretrained=False, classes=10):\n",
        "    model = torchvision.models.resnet18(pretrained=pretrained, num_classes=1000)\n",
        "    model.conv1 = nn.Conv2d(\n",
        "        3, 64, kernel_size=(3, 3), stride=(1, 1), padding=(1, 1), bias=False\n",
        "    )\n",
        "    model.maxpool = nn.Identity()\n",
        "    model.fc = nn.Linear(512, classes, bias=True)\n",
        "    return model\n",
        "\n",
        "def resnet50_imagenet(pretrained=False, classes=10):\n",
        "    model = torchvision.models.resnet50(pretrained=pretrained, num_classes=1000)\n",
        "    model.fc = nn.Linear(512, classes, bias=True)\n",
        "    return model\n"
      ],
      "metadata": {
        "id": "P8kpy27iaQVK"
      },
      "execution_count": null,
      "outputs": []
    },
    {
      "cell_type": "markdown",
      "source": [
        "Data loading, data splitting code from: https://github.com/OATML/RHO-Loss/blob/main/src/datamodules/datamodules.py , https://github.com/OATML/RHO-Loss/blob/main/src/datamodules/datasets/sequence_datasets.py\n",
        "\n"
      ],
      "metadata": {
        "id": "BTe-EMQ3n31V"
      }
    },
    {
      "cell_type": "code",
      "source": [
        "class indices_CIFAR10(VisionDataset):\n",
        "    base_folder = \"cifar-10-batches-py\"\n",
        "    url = \"https://www.cs.toronto.edu/~kriz/cifar-10-python.tar.gz\"\n",
        "    filename = \"cifar-10-python.tar.gz\"\n",
        "    tgz_md5 = \"c58f30108f718f92721af3b95e74349a\"\n",
        "    train_list = [\n",
        "        [\"data_batch_1\", \"c99cafc152244af753f735de768cd75f\"],\n",
        "        [\"data_batch_2\", \"d4bba439e000b95fd0a9bffe97cbabec\"],\n",
        "        [\"data_batch_3\", \"54ebc095f3ab1f0389bbae665268c751\"],\n",
        "        [\"data_batch_4\", \"634d18415352ddfa80567beed471001a\"],\n",
        "        [\"data_batch_5\", \"482c414d41f54cd18b22e5b47cb7c3cb\"],\n",
        "    ]\n",
        "\n",
        "    test_list = [\n",
        "        [\"test_batch\", \"40351d587109b95175f43aff81a1287e\"],\n",
        "    ]\n",
        "    meta = {\n",
        "        \"filename\": \"batches.meta\",\n",
        "        \"key\": \"label_names\",\n",
        "        \"md5\": \"5ff9c542aee3614f3951f8cda6e48888\",\n",
        "    }\n",
        "\n",
        "    def __init__(\n",
        "        self,\n",
        "        root: str,\n",
        "        train: bool = True,\n",
        "        transform: Optional[Callable] = None,\n",
        "        target_transform: Optional[Callable] = None,\n",
        "        sequence=None,\n",
        "    ) -> None:\n",
        "\n",
        "        super(indices_CIFAR10, self).__init__(\n",
        "            root, transform=transform, target_transform=target_transform\n",
        "        )\n",
        "\n",
        "        self.train = train  # training set or test set\n",
        "\n",
        "        self.download()\n",
        "\n",
        "        if not self._check_integrity():\n",
        "            raise RuntimeError(\n",
        "                \"Dataset not found or corrupted even though we tried to download it\"\n",
        "            )\n",
        "\n",
        "        if self.train:\n",
        "            downloaded_list = self.train_list\n",
        "        else:\n",
        "            downloaded_list = self.test_list\n",
        "\n",
        "        self.data: Any = []\n",
        "        self.targets = []\n",
        "\n",
        "        # now load the picked numpy arrays\n",
        "        for file_name, checksum in downloaded_list:\n",
        "            file_path = os.path.join(self.root, self.base_folder, file_name)\n",
        "            with open(file_path, \"rb\") as f:\n",
        "                entry = pickle.load(f, encoding=\"latin1\")\n",
        "                self.data.append(entry[\"data\"])\n",
        "                if \"labels\" in entry:\n",
        "                    self.targets.extend(entry[\"labels\"])\n",
        "                else:\n",
        "                    self.targets.extend(entry[\"fine_labels\"])\n",
        "\n",
        "        self.data = np.vstack(self.data).reshape(-1, 3, 32, 32)\n",
        "        self.data = self.data.transpose((0, 2, 3, 1))  # convert to HWC\n",
        "\n",
        "        self._load_meta()\n",
        "        if sequence is not None:\n",
        "            self.sequence = sequence\n",
        "        else:\n",
        "            self.sequence = np.arange(len(self.data))\n",
        "\n",
        "    def _load_meta(self) -> None:\n",
        "        path = os.path.join(self.root, self.base_folder, self.meta[\"filename\"])\n",
        "        if not check_integrity(path, self.meta[\"md5\"]):\n",
        "            raise RuntimeError(\"Dataset metadata file not found or corrupted\")\n",
        "        with open(path, \"rb\") as infile:\n",
        "            data = pickle.load(infile, encoding=\"latin1\")\n",
        "            self.classes = data[self.meta[\"key\"]]\n",
        "        self.class_to_idx = {_class: i for i, _class in enumerate(self.classes)}\n",
        "\n",
        "    def __getitem__(self, index: int) -> Tuple[Any, Any]:\n",
        "        \"\"\"\n",
        "        Args:\n",
        "            index (int): Index\n",
        "        Returns:\n",
        "            tuple: (image, target) where target is index of the target class.\n",
        "        \"\"\"\n",
        "        img, target = self.data[self.sequence[index]], self.targets[self.sequence[index]]\n",
        "\n",
        "        # doing this so that it is consistent with all other datasets\n",
        "        # to return a PIL Image\n",
        "        img = Image.fromarray(img)\n",
        "\n",
        "        if self.transform is not None:\n",
        "            img = self.transform(img)\n",
        "\n",
        "        if self.target_transform is not None:\n",
        "            target = self.target_transform(target)\n",
        "\n",
        "        return index, img, target\n",
        "\n",
        "    def __len__(self) -> int:\n",
        "        return len(self.sequence)\n",
        "\n",
        "    def _check_integrity(self) -> bool:\n",
        "        root = self.root\n",
        "        for fentry in self.train_list + self.test_list:\n",
        "            filename, md5 = fentry[0], fentry[1]\n",
        "            fpath = os.path.join(root, self.base_folder, filename)\n",
        "            if not check_integrity(fpath, md5):\n",
        "                return False\n",
        "        return True\n",
        "\n",
        "    def download(self) -> None:\n",
        "        if self._check_integrity():\n",
        "            print(\"Files already downloaded and verified\")\n",
        "            return\n",
        "        download_and_extract_archive(\n",
        "            self.url, self.root, filename=self.filename, md5=self.tgz_md5\n",
        "        )\n",
        "\n",
        "    def extra_repr(self) -> str:\n",
        "        return \"Split: {}\".format(\"Train\" if self.train is True else \"Test\")\n",
        "\n",
        "class CIFAR10DataModule:\n",
        "    def __init__(self, data_dir=\"./data\", batch_size=960, test_batch_size=100, num_workers=4):\n",
        "        self.data_dir = data_dir\n",
        "        self.batch_size = batch_size\n",
        "        self.test_batch_size = test_batch_size\n",
        "        self.num_workers = num_workers\n",
        "\n",
        "        self.transform = transforms.Compose([\n",
        "            transforms.ToTensor(),\n",
        "            transforms.Normalize((0.5, 0.5, 0.5), (0.5, 0.5, 0.5)),\n",
        "        ])\n",
        "        self.data_aug_transform = transforms.Compose([\n",
        "            transforms.RandomCrop(32, padding=4),\n",
        "            transforms.RandomHorizontalFlip(),\n",
        "            transforms.ToTensor(),\n",
        "            transforms.Normalize((0.5, 0.5, 0.5), (0.5, 0.5, 0.5)),\n",
        "        ])\n",
        "\n",
        "    def setup(self, double_irlomo=False):\n",
        "        full_dataset = indices_CIFAR10(self.data_dir, train=True, transform=self.data_aug_transform)\n",
        "\n",
        "        indices = list(range(len(full_dataset)))\n",
        "        train_indices = indices[::2]\n",
        "        val_indices = indices[1::2]\n",
        "\n",
        "        self.train_split_1 = Subset(full_dataset, train_indices)\n",
        "        self.train_split_2 = Subset(full_dataset, val_indices)\n",
        "        self.train_split_2_indices = val_indices  # needed for irreducible loss tracking\n",
        "\n",
        "        self.test_dataset = indices_CIFAR10(self.data_dir, train=False, transform=self.transform)\n",
        "\n",
        "    def get_train_loader_split1(self):\n",
        "        return DataLoader(self.train_split_1, batch_size=128, shuffle=True, num_workers=self.num_workers)\n",
        "\n",
        "    def get_train_loader_split2(self):\n",
        "        return DataLoader(self.train_split_2, batch_size=1, shuffle=False, num_workers=self.num_workers)\n",
        "\n",
        "    def get_test_loader(self):\n",
        "        return DataLoader(self.test_dataset, batch_size=self.test_batch_size, shuffle=False, num_workers=self.num_workers)"
      ],
      "metadata": {
        "id": "p6SZSo9GfyOa"
      },
      "execution_count": null,
      "outputs": []
    },
    {
      "cell_type": "markdown",
      "source": [
        "**Training IL Model:**\n",
        "\n",
        "> **Data augmentation:** On CIFAR-10, CIFAR-100, and CINIC-10, we train using data augmentation (random crop and horizontal flip), both for training the IL model, and in the main training runs. Remember that we only compute the irreducible losses once at the start of training.\n",
        "\n",
        "> We can efficiently compute the IL with an “irreducible loss model\" (IL model) that is smaller than the target model and has low accuracy . ResNet18 IL model trained for 37x fewer steps than each target model.\n",
        "\n",
        "Irreducible loss models can be small and cheap. In our\n",
        "default setting, both the target model and IL model have the same architecture (ResNet-18).The smaller IL model accelerates training as much or more than the larger model, even though its final accuracy is far lower than the target ResNet18 (11.5% lower on CIFAR-10, 7% on CIFAR-100, and 8.1% on CINIC-10).\n",
        "\n"
      ],
      "metadata": {
        "id": "Yl_iVs3Tnyoq"
      }
    },
    {
      "cell_type": "code",
      "source": [
        "# === CONTINUATION CODE: RHO-LOSS Training on CIFAR-10 ===\n",
        "\n",
        "import torch\n",
        "import torch.nn.functional as F\n",
        "import torch.optim as optim\n",
        "from tqdm import tqdm, trange\n",
        "import random\n",
        "import warnings\n",
        "warnings.filterwarnings(\"ignore\")\n",
        "\n",
        "# ====== Set device and seed ======\n",
        "torch.manual_seed(42)\n",
        "random.seed(42)\n",
        "device = torch.device(\"cuda\" if torch.cuda.is_available() else \"cpu\")\n",
        "\n",
        "# ====== Initialize DataModule and Prepare Splits ======\n",
        "dm = CIFAR10DataModule()\n",
        "dm.setup()\n",
        "\n",
        "train_loader_il = dm.get_train_loader_split1()\n",
        "eval_loader_il = dm.get_train_loader_split2()\n",
        "test_loader = dm.get_test_loader()\n",
        "train_ids = dm.train_split_2_indices\n",
        "\n",
        "# ====== Step 1: Train IL Model ======\n",
        "il_model = ResNet18().to(device)\n",
        "il_optimizer = optim.AdamW(il_model.parameters(), lr=1e-3)\n",
        "criterion = torch.nn.CrossEntropyLoss()\n",
        "\n",
        "for epoch in trange(30, desc=\"Training IL Model\"):\n",
        "    il_model.train()\n",
        "    correct, total = 0, 0\n",
        "    for _, x, y in train_loader_il:\n",
        "        x, y = x.to(device), y.to(device)\n",
        "        il_optimizer.zero_grad()\n",
        "        logits = il_model(x)\n",
        "        loss = criterion(logits, y)\n",
        "        loss.backward()\n",
        "        il_optimizer.step()\n",
        "        correct += (logits.argmax(1) == y).sum().item()\n",
        "        total += y.size(0)\n",
        "    acc = 100.0 * correct / total\n",
        "    print(f\"[IL Model] Epoch {epoch+1}: Accuracy = {acc:.2f}%\")\n",
        "    if acc >= 60.0:\n",
        "        break"
      ],
      "metadata": {
        "colab": {
          "base_uri": "https://localhost:8080/"
        },
        "id": "-akq9ioIiK-4",
        "outputId": "c6cb8f47-b430-477b-8c42-9eaeac8e1434"
      },
      "execution_count": 3,
      "outputs": [
        {
          "output_type": "stream",
          "name": "stdout",
          "text": [
            "Files already downloaded and verified\n",
            "Files already downloaded and verified\n",
            "Training IL Model:   3%|▎         | 1/30 [00:22<10:41, 22.12s/it][IL Model] Epoch 1: Accuracy = 36.78%\n",
            "Training IL Model:   7%|▋         | 2/30 [00:44<10:21, 22.20s/it][IL Model] Epoch 2: Accuracy = 52.94%\n",
            "Training IL Model:  10%|█         | 3/30 [01:06<09:58, 22.15s/it][IL Model] Epoch 3: Accuracy = 61.00%\n"
          ]
        }
      ]
    },
    {
      "cell_type": "markdown",
      "source": [
        "**Compute Irreducible Loss**"
      ],
      "metadata": {
        "id": "_2hE9mJzo7rj"
      }
    },
    {
      "cell_type": "code",
      "source": [
        "print(\"Computing irreducible loss on split_2...\")\n",
        "il_model.eval()\n",
        "irreducible_loss = {}\n",
        "with torch.no_grad():\n",
        "    for idx, (_, x, y) in tqdm(zip(train_ids, eval_loader_il), total=len(train_ids), desc=\"Computing IL\"):\n",
        "        x, y = x.to(device), y.to(device)\n",
        "        loss = F.cross_entropy(il_model(x), y).item()\n",
        "        irreducible_loss[idx] = loss"
      ],
      "metadata": {
        "colab": {
          "base_uri": "https://localhost:8080/"
        },
        "id": "_yz9RIo-o6pz",
        "outputId": "f71289e4-5ed2-41ee-a32f-65922ea831b0"
      },
      "execution_count": null,
      "outputs": [
        {
          "output_type": "stream",
          "name": "stdout",
          "text": [
            "Computing irreducible loss on split_2...\n"
          ]
        },
        {
          "output_type": "stream",
          "name": "stderr",
          "text": [
            "Computing IL: 100%|██████████| 25000/25000 [02:30<00:00, 165.75it/s]\n"
          ]
        }
      ]
    },
    {
      "cell_type": "markdown",
      "source": [
        "**Training Target Model with RHO-LOSS**\n",
        "\n",
        "> **Hyperparameters:** All models are trained using the AdamW optimizer with default PyTorch hyperparameters (β1=0.9, β2=0.999, and weight decay of 0.01, learning rate 0.001), a nb = 32 ( nB = 320 , meaning we select nB/nb = 10% of points.We use between 2 and 10 seeds for each experiment\n"
      ],
      "metadata": {
        "id": "Pu611-uSpB1j"
      }
    },
    {
      "cell_type": "code",
      "source": [
        "# ====== Step 3: Train Target Model with RHO-LOSS ======\n",
        "target_model = ResNet18().to(device)\n",
        "target_optimizer = optim.AdamW(target_model.parameters(), lr=1e-3)\n",
        "topk = 32\n",
        "reached_80 = reached_875 = False\n",
        "\n",
        "for epoch in trange(1, 300, desc=\"Training Target Model\"):\n",
        "    target_model.train()\n",
        "    random.shuffle(train_ids)\n",
        "    for i in range(0, len(train_ids), 320):\n",
        "        ids = train_ids[i:i+320]\n",
        "        x_b, y_b, il_b = [], [], []\n",
        "        for idx in ids:\n",
        "            _, x, y = dm.train_split_2.dataset[idx]\n",
        "            x_b.append(x)\n",
        "            y_b.append(y)\n",
        "            il_b.append(irreducible_loss[idx])\n",
        "\n",
        "        if len(x_b) < topk:\n",
        "            continue  # skip if batch too small\n",
        "\n",
        "        x_tensor = torch.stack(x_b).to(device)\n",
        "        y_tensor = torch.tensor(y_b).to(device)\n",
        "        il_tensor = torch.tensor(il_b).to(device)\n",
        "\n",
        "        logits = target_model(x_tensor)\n",
        "        losses = F.cross_entropy(logits, y_tensor, reduction='none')\n",
        "        rho = losses - il_tensor\n",
        "        top_indices = torch.topk(rho, topk).indices\n",
        "        selected_loss = losses[top_indices].mean()\n",
        "\n",
        "        target_optimizer.zero_grad()\n",
        "        selected_loss.backward()\n",
        "        target_optimizer.step()\n",
        "\n",
        "    # ====== Evaluate on Test Set ======\n",
        "    target_model.eval()\n",
        "    correct, total = 0, 0\n",
        "    with torch.no_grad():\n",
        "        for _, x, y in test_loader:\n",
        "            x, y = x.to(device), y.to(device)\n",
        "            pred = target_model(x).argmax(1)\n",
        "            correct += (pred == y).sum().item()\n",
        "            total += y.size(0)\n",
        "    acc = 100.0 * correct / total\n",
        "    print(f\"[Target Model] Epoch {epoch}: Accuracy = {acc:.2f}%\")\n",
        "    if not reached_80 and acc >= 80.0:\n",
        "        print(f\"✅ Reached 80% at epoch {epoch}\")\n",
        "        reached_80 = True\n",
        "    if not reached_875 and acc >= 87.5:\n",
        "        print(f\"✅ Reached 87.5% at epoch {epoch}\")\n",
        "        reached_875 = True\n",
        "    if reached_80 and reached_875:\n",
        "        break"
      ],
      "metadata": {
        "colab": {
          "base_uri": "https://localhost:8080/",
          "height": 1000
        },
        "id": "l7mLZGLy0O_D",
        "outputId": "0de090ae-aec7-4e5f-d040-06cbde1f41db"
      },
      "execution_count": null,
      "outputs": [
        {
          "output_type": "stream",
          "name": "stderr",
          "text": [
            "Training Target Model:   0%|          | 1/299 [00:24<2:01:57, 24.56s/it]"
          ]
        },
        {
          "output_type": "stream",
          "name": "stdout",
          "text": [
            "[Target Model] Epoch 1: Accuracy = 27.38%\n"
          ]
        },
        {
          "output_type": "stream",
          "name": "stderr",
          "text": [
            "\rTraining Target Model:   1%|          | 2/299 [00:49<2:03:06, 24.87s/it]"
          ]
        },
        {
          "output_type": "stream",
          "name": "stdout",
          "text": [
            "[Target Model] Epoch 2: Accuracy = 30.19%\n"
          ]
        },
        {
          "output_type": "stream",
          "name": "stderr",
          "text": [
            "\rTraining Target Model:   1%|          | 3/299 [01:13<2:01:01, 24.53s/it]"
          ]
        },
        {
          "output_type": "stream",
          "name": "stdout",
          "text": [
            "[Target Model] Epoch 3: Accuracy = 38.01%\n"
          ]
        },
        {
          "output_type": "stream",
          "name": "stderr",
          "text": [
            "\rTraining Target Model:   1%|▏         | 4/299 [01:37<1:59:54, 24.39s/it]"
          ]
        },
        {
          "output_type": "stream",
          "name": "stdout",
          "text": [
            "[Target Model] Epoch 4: Accuracy = 34.03%\n"
          ]
        },
        {
          "output_type": "stream",
          "name": "stderr",
          "text": [
            "\rTraining Target Model:   2%|▏         | 5/299 [02:02<1:59:17, 24.34s/it]"
          ]
        },
        {
          "output_type": "stream",
          "name": "stdout",
          "text": [
            "[Target Model] Epoch 5: Accuracy = 42.23%\n"
          ]
        },
        {
          "output_type": "stream",
          "name": "stderr",
          "text": [
            "\rTraining Target Model:   2%|▏         | 6/299 [02:26<1:58:39, 24.30s/it]"
          ]
        },
        {
          "output_type": "stream",
          "name": "stdout",
          "text": [
            "[Target Model] Epoch 6: Accuracy = 35.39%\n"
          ]
        },
        {
          "output_type": "stream",
          "name": "stderr",
          "text": [
            "\rTraining Target Model:   2%|▏         | 7/299 [02:50<1:57:52, 24.22s/it]"
          ]
        },
        {
          "output_type": "stream",
          "name": "stdout",
          "text": [
            "[Target Model] Epoch 7: Accuracy = 49.84%\n"
          ]
        },
        {
          "output_type": "stream",
          "name": "stderr",
          "text": [
            "\rTraining Target Model:   3%|▎         | 8/299 [03:14<1:56:58, 24.12s/it]"
          ]
        },
        {
          "output_type": "stream",
          "name": "stdout",
          "text": [
            "[Target Model] Epoch 8: Accuracy = 51.95%\n"
          ]
        },
        {
          "output_type": "stream",
          "name": "stderr",
          "text": [
            "\rTraining Target Model:   3%|▎         | 9/299 [03:38<1:55:59, 24.00s/it]"
          ]
        },
        {
          "output_type": "stream",
          "name": "stdout",
          "text": [
            "[Target Model] Epoch 9: Accuracy = 52.67%\n"
          ]
        },
        {
          "output_type": "stream",
          "name": "stderr",
          "text": [
            "\rTraining Target Model:   3%|▎         | 10/299 [04:01<1:55:08, 23.91s/it]"
          ]
        },
        {
          "output_type": "stream",
          "name": "stdout",
          "text": [
            "[Target Model] Epoch 10: Accuracy = 59.92%\n"
          ]
        },
        {
          "output_type": "stream",
          "name": "stderr",
          "text": [
            "\rTraining Target Model:   4%|▎         | 11/299 [04:25<1:54:36, 23.88s/it]"
          ]
        },
        {
          "output_type": "stream",
          "name": "stdout",
          "text": [
            "[Target Model] Epoch 11: Accuracy = 63.54%\n"
          ]
        },
        {
          "output_type": "stream",
          "name": "stderr",
          "text": [
            "\rTraining Target Model:   4%|▍         | 12/299 [04:50<1:55:17, 24.10s/it]"
          ]
        },
        {
          "output_type": "stream",
          "name": "stdout",
          "text": [
            "[Target Model] Epoch 12: Accuracy = 59.04%\n"
          ]
        },
        {
          "output_type": "stream",
          "name": "stderr",
          "text": [
            "\rTraining Target Model:   4%|▍         | 13/299 [05:13<1:54:19, 23.98s/it]"
          ]
        },
        {
          "output_type": "stream",
          "name": "stdout",
          "text": [
            "[Target Model] Epoch 13: Accuracy = 65.04%\n"
          ]
        },
        {
          "output_type": "stream",
          "name": "stderr",
          "text": [
            "\rTraining Target Model:   5%|▍         | 14/299 [05:37<1:53:30, 23.89s/it]"
          ]
        },
        {
          "output_type": "stream",
          "name": "stdout",
          "text": [
            "[Target Model] Epoch 14: Accuracy = 67.42%\n"
          ]
        },
        {
          "output_type": "stream",
          "name": "stderr",
          "text": [
            "\rTraining Target Model:   5%|▌         | 15/299 [06:01<1:52:49, 23.84s/it]"
          ]
        },
        {
          "output_type": "stream",
          "name": "stdout",
          "text": [
            "[Target Model] Epoch 15: Accuracy = 65.18%\n"
          ]
        },
        {
          "output_type": "stream",
          "name": "stderr",
          "text": [
            "\rTraining Target Model:   5%|▌         | 16/299 [06:25<1:52:11, 23.79s/it]"
          ]
        },
        {
          "output_type": "stream",
          "name": "stdout",
          "text": [
            "[Target Model] Epoch 16: Accuracy = 69.44%\n"
          ]
        },
        {
          "output_type": "stream",
          "name": "stderr",
          "text": [
            "\rTraining Target Model:   6%|▌         | 17/299 [06:48<1:51:37, 23.75s/it]"
          ]
        },
        {
          "output_type": "stream",
          "name": "stdout",
          "text": [
            "[Target Model] Epoch 17: Accuracy = 70.48%\n"
          ]
        },
        {
          "output_type": "stream",
          "name": "stderr",
          "text": [
            "\rTraining Target Model:   6%|▌         | 18/299 [07:12<1:51:08, 23.73s/it]"
          ]
        },
        {
          "output_type": "stream",
          "name": "stdout",
          "text": [
            "[Target Model] Epoch 18: Accuracy = 69.70%\n"
          ]
        },
        {
          "output_type": "stream",
          "name": "stderr",
          "text": [
            "\rTraining Target Model:   6%|▋         | 19/299 [07:36<1:50:38, 23.71s/it]"
          ]
        },
        {
          "output_type": "stream",
          "name": "stdout",
          "text": [
            "[Target Model] Epoch 19: Accuracy = 71.65%\n"
          ]
        },
        {
          "output_type": "stream",
          "name": "stderr",
          "text": [
            "\rTraining Target Model:   7%|▋         | 20/299 [07:59<1:50:09, 23.69s/it]"
          ]
        },
        {
          "output_type": "stream",
          "name": "stdout",
          "text": [
            "[Target Model] Epoch 20: Accuracy = 69.85%\n"
          ]
        },
        {
          "output_type": "stream",
          "name": "stderr",
          "text": [
            "\rTraining Target Model:   7%|▋         | 21/299 [08:23<1:49:47, 23.70s/it]"
          ]
        },
        {
          "output_type": "stream",
          "name": "stdout",
          "text": [
            "[Target Model] Epoch 21: Accuracy = 73.87%\n"
          ]
        },
        {
          "output_type": "stream",
          "name": "stderr",
          "text": [
            "\rTraining Target Model:   7%|▋         | 22/299 [08:47<1:49:25, 23.70s/it]"
          ]
        },
        {
          "output_type": "stream",
          "name": "stdout",
          "text": [
            "[Target Model] Epoch 22: Accuracy = 75.10%\n"
          ]
        },
        {
          "output_type": "stream",
          "name": "stderr",
          "text": [
            "\rTraining Target Model:   8%|▊         | 23/299 [09:10<1:49:07, 23.72s/it]"
          ]
        },
        {
          "output_type": "stream",
          "name": "stdout",
          "text": [
            "[Target Model] Epoch 23: Accuracy = 74.25%\n"
          ]
        },
        {
          "output_type": "stream",
          "name": "stderr",
          "text": [
            "\rTraining Target Model:   8%|▊         | 24/299 [09:34<1:48:39, 23.71s/it]"
          ]
        },
        {
          "output_type": "stream",
          "name": "stdout",
          "text": [
            "[Target Model] Epoch 24: Accuracy = 75.28%\n"
          ]
        },
        {
          "output_type": "stream",
          "name": "stderr",
          "text": [
            "\rTraining Target Model:   8%|▊         | 25/299 [09:58<1:48:14, 23.70s/it]"
          ]
        },
        {
          "output_type": "stream",
          "name": "stdout",
          "text": [
            "[Target Model] Epoch 25: Accuracy = 76.41%\n"
          ]
        },
        {
          "output_type": "stream",
          "name": "stderr",
          "text": [
            "\rTraining Target Model:   9%|▊         | 26/299 [10:21<1:47:48, 23.70s/it]"
          ]
        },
        {
          "output_type": "stream",
          "name": "stdout",
          "text": [
            "[Target Model] Epoch 26: Accuracy = 76.63%\n"
          ]
        },
        {
          "output_type": "stream",
          "name": "stderr",
          "text": [
            "\rTraining Target Model:   9%|▉         | 27/299 [10:45<1:47:25, 23.70s/it]"
          ]
        },
        {
          "output_type": "stream",
          "name": "stdout",
          "text": [
            "[Target Model] Epoch 27: Accuracy = 76.64%\n"
          ]
        },
        {
          "output_type": "stream",
          "name": "stderr",
          "text": [
            "\rTraining Target Model:   9%|▉         | 28/299 [11:09<1:46:58, 23.68s/it]"
          ]
        },
        {
          "output_type": "stream",
          "name": "stdout",
          "text": [
            "[Target Model] Epoch 28: Accuracy = 77.90%\n"
          ]
        },
        {
          "output_type": "stream",
          "name": "stderr",
          "text": [
            "\rTraining Target Model:  10%|▉         | 29/299 [11:32<1:46:37, 23.70s/it]"
          ]
        },
        {
          "output_type": "stream",
          "name": "stdout",
          "text": [
            "[Target Model] Epoch 29: Accuracy = 76.58%\n"
          ]
        },
        {
          "output_type": "stream",
          "name": "stderr",
          "text": [
            "\rTraining Target Model:  10%|█         | 30/299 [11:56<1:46:14, 23.70s/it]"
          ]
        },
        {
          "output_type": "stream",
          "name": "stdout",
          "text": [
            "[Target Model] Epoch 30: Accuracy = 77.20%\n"
          ]
        },
        {
          "output_type": "stream",
          "name": "stderr",
          "text": [
            "\rTraining Target Model:  10%|█         | 31/299 [12:20<1:45:51, 23.70s/it]"
          ]
        },
        {
          "output_type": "stream",
          "name": "stdout",
          "text": [
            "[Target Model] Epoch 31: Accuracy = 77.18%\n"
          ]
        },
        {
          "output_type": "stream",
          "name": "stderr",
          "text": [
            "\rTraining Target Model:  11%|█         | 32/299 [12:44<1:45:20, 23.67s/it]"
          ]
        },
        {
          "output_type": "stream",
          "name": "stdout",
          "text": [
            "[Target Model] Epoch 32: Accuracy = 77.96%\n"
          ]
        },
        {
          "output_type": "stream",
          "name": "stderr",
          "text": [
            "\rTraining Target Model:  11%|█         | 33/299 [13:07<1:44:54, 23.66s/it]"
          ]
        },
        {
          "output_type": "stream",
          "name": "stdout",
          "text": [
            "[Target Model] Epoch 33: Accuracy = 78.70%\n"
          ]
        },
        {
          "output_type": "stream",
          "name": "stderr",
          "text": [
            "\rTraining Target Model:  11%|█▏        | 34/299 [13:31<1:44:26, 23.65s/it]"
          ]
        },
        {
          "output_type": "stream",
          "name": "stdout",
          "text": [
            "[Target Model] Epoch 34: Accuracy = 78.38%\n"
          ]
        },
        {
          "output_type": "stream",
          "name": "stderr",
          "text": [
            "\rTraining Target Model:  12%|█▏        | 35/299 [13:55<1:44:13, 23.69s/it]"
          ]
        },
        {
          "output_type": "stream",
          "name": "stdout",
          "text": [
            "[Target Model] Epoch 35: Accuracy = 78.33%\n"
          ]
        },
        {
          "output_type": "stream",
          "name": "stderr",
          "text": [
            "\rTraining Target Model:  12%|█▏        | 36/299 [14:18<1:43:47, 23.68s/it]"
          ]
        },
        {
          "output_type": "stream",
          "name": "stdout",
          "text": [
            "[Target Model] Epoch 36: Accuracy = 79.00%\n"
          ]
        },
        {
          "output_type": "stream",
          "name": "stderr",
          "text": [
            "\rTraining Target Model:  12%|█▏        | 37/299 [14:42<1:43:16, 23.65s/it]"
          ]
        },
        {
          "output_type": "stream",
          "name": "stdout",
          "text": [
            "[Target Model] Epoch 37: Accuracy = 79.19%\n"
          ]
        },
        {
          "output_type": "stream",
          "name": "stderr",
          "text": [
            "\rTraining Target Model:  13%|█▎        | 38/299 [15:05<1:42:55, 23.66s/it]"
          ]
        },
        {
          "output_type": "stream",
          "name": "stdout",
          "text": [
            "[Target Model] Epoch 38: Accuracy = 78.85%\n"
          ]
        },
        {
          "output_type": "stream",
          "name": "stderr",
          "text": [
            "\rTraining Target Model:  13%|█▎        | 39/299 [15:29<1:42:46, 23.72s/it]"
          ]
        },
        {
          "output_type": "stream",
          "name": "stdout",
          "text": [
            "[Target Model] Epoch 39: Accuracy = 78.78%\n"
          ]
        },
        {
          "output_type": "stream",
          "name": "stderr",
          "text": [
            "\rTraining Target Model:  13%|█▎        | 40/299 [15:53<1:42:45, 23.80s/it]"
          ]
        },
        {
          "output_type": "stream",
          "name": "stdout",
          "text": [
            "[Target Model] Epoch 40: Accuracy = 79.58%\n"
          ]
        },
        {
          "output_type": "stream",
          "name": "stderr",
          "text": [
            "\rTraining Target Model:  14%|█▎        | 41/299 [16:17<1:42:34, 23.85s/it]"
          ]
        },
        {
          "output_type": "stream",
          "name": "stdout",
          "text": [
            "[Target Model] Epoch 41: Accuracy = 78.85%\n"
          ]
        },
        {
          "output_type": "stream",
          "name": "stderr",
          "text": [
            "\rTraining Target Model:  14%|█▍        | 42/299 [16:41<1:42:32, 23.94s/it]"
          ]
        },
        {
          "output_type": "stream",
          "name": "stdout",
          "text": [
            "[Target Model] Epoch 42: Accuracy = 79.23%\n"
          ]
        },
        {
          "output_type": "stream",
          "name": "stderr",
          "text": [
            "\rTraining Target Model:  14%|█▍        | 43/299 [17:06<1:42:28, 24.02s/it]"
          ]
        },
        {
          "output_type": "stream",
          "name": "stdout",
          "text": [
            "[Target Model] Epoch 43: Accuracy = 78.74%\n"
          ]
        },
        {
          "output_type": "stream",
          "name": "stderr",
          "text": [
            "\rTraining Target Model:  15%|█▍        | 44/299 [17:30<1:42:20, 24.08s/it]"
          ]
        },
        {
          "output_type": "stream",
          "name": "stdout",
          "text": [
            "[Target Model] Epoch 44: Accuracy = 79.92%\n"
          ]
        },
        {
          "output_type": "stream",
          "name": "stderr",
          "text": [
            "\rTraining Target Model:  15%|█▌        | 45/299 [17:54<1:42:14, 24.15s/it]"
          ]
        },
        {
          "output_type": "stream",
          "name": "stdout",
          "text": [
            "[Target Model] Epoch 45: Accuracy = 80.24%\n",
            "✅ Reached 80% at epoch 45\n"
          ]
        },
        {
          "output_type": "stream",
          "name": "stderr",
          "text": [
            "\rTraining Target Model:  15%|█▌        | 46/299 [18:19<1:42:12, 24.24s/it]"
          ]
        },
        {
          "output_type": "stream",
          "name": "stdout",
          "text": [
            "[Target Model] Epoch 46: Accuracy = 79.93%\n"
          ]
        },
        {
          "output_type": "stream",
          "name": "stderr",
          "text": [
            "\rTraining Target Model:  16%|█▌        | 47/299 [18:43<1:41:47, 24.24s/it]"
          ]
        },
        {
          "output_type": "stream",
          "name": "stdout",
          "text": [
            "[Target Model] Epoch 47: Accuracy = 80.94%\n"
          ]
        },
        {
          "output_type": "stream",
          "name": "stderr",
          "text": [
            "\rTraining Target Model:  16%|█▌        | 48/299 [19:07<1:41:24, 24.24s/it]"
          ]
        },
        {
          "output_type": "stream",
          "name": "stdout",
          "text": [
            "[Target Model] Epoch 48: Accuracy = 80.94%\n"
          ]
        },
        {
          "output_type": "stream",
          "name": "stderr",
          "text": [
            "\rTraining Target Model:  16%|█▋        | 49/299 [19:31<1:41:02, 24.25s/it]"
          ]
        },
        {
          "output_type": "stream",
          "name": "stdout",
          "text": [
            "[Target Model] Epoch 49: Accuracy = 81.37%\n"
          ]
        },
        {
          "output_type": "stream",
          "name": "stderr",
          "text": [
            "\rTraining Target Model:  17%|█▋        | 50/299 [19:56<1:40:40, 24.26s/it]"
          ]
        },
        {
          "output_type": "stream",
          "name": "stdout",
          "text": [
            "[Target Model] Epoch 50: Accuracy = 80.52%\n"
          ]
        },
        {
          "output_type": "stream",
          "name": "stderr",
          "text": [
            "\rTraining Target Model:  17%|█▋        | 51/299 [20:20<1:40:03, 24.21s/it]"
          ]
        },
        {
          "output_type": "stream",
          "name": "stdout",
          "text": [
            "[Target Model] Epoch 51: Accuracy = 80.29%\n"
          ]
        },
        {
          "output_type": "stream",
          "name": "stderr",
          "text": [
            "\rTraining Target Model:  17%|█▋        | 52/299 [20:44<1:39:31, 24.17s/it]"
          ]
        },
        {
          "output_type": "stream",
          "name": "stdout",
          "text": [
            "[Target Model] Epoch 52: Accuracy = 81.07%\n"
          ]
        },
        {
          "output_type": "stream",
          "name": "stderr",
          "text": [
            "\rTraining Target Model:  18%|█▊        | 53/299 [21:08<1:38:54, 24.12s/it]"
          ]
        },
        {
          "output_type": "stream",
          "name": "stdout",
          "text": [
            "[Target Model] Epoch 53: Accuracy = 82.32%\n"
          ]
        },
        {
          "output_type": "stream",
          "name": "stderr",
          "text": [
            "\rTraining Target Model:  18%|█▊        | 54/299 [21:32<1:38:24, 24.10s/it]"
          ]
        },
        {
          "output_type": "stream",
          "name": "stdout",
          "text": [
            "[Target Model] Epoch 54: Accuracy = 81.88%\n"
          ]
        },
        {
          "output_type": "stream",
          "name": "stderr",
          "text": [
            "\rTraining Target Model:  18%|█▊        | 55/299 [21:56<1:37:53, 24.07s/it]"
          ]
        },
        {
          "output_type": "stream",
          "name": "stdout",
          "text": [
            "[Target Model] Epoch 55: Accuracy = 80.41%\n"
          ]
        },
        {
          "output_type": "stream",
          "name": "stderr",
          "text": [
            "\rTraining Target Model:  19%|█▊        | 56/299 [22:20<1:37:06, 23.98s/it]"
          ]
        },
        {
          "output_type": "stream",
          "name": "stdout",
          "text": [
            "[Target Model] Epoch 56: Accuracy = 81.28%\n"
          ]
        },
        {
          "output_type": "stream",
          "name": "stderr",
          "text": [
            "\rTraining Target Model:  19%|█▉        | 57/299 [22:43<1:36:25, 23.91s/it]"
          ]
        },
        {
          "output_type": "stream",
          "name": "stdout",
          "text": [
            "[Target Model] Epoch 57: Accuracy = 81.85%\n"
          ]
        },
        {
          "output_type": "stream",
          "name": "stderr",
          "text": [
            "\rTraining Target Model:  19%|█▉        | 58/299 [23:07<1:35:43, 23.83s/it]"
          ]
        },
        {
          "output_type": "stream",
          "name": "stdout",
          "text": [
            "[Target Model] Epoch 58: Accuracy = 81.84%\n"
          ]
        },
        {
          "output_type": "stream",
          "name": "stderr",
          "text": [
            "\rTraining Target Model:  20%|█▉        | 59/299 [23:31<1:35:10, 23.79s/it]"
          ]
        },
        {
          "output_type": "stream",
          "name": "stdout",
          "text": [
            "[Target Model] Epoch 59: Accuracy = 80.17%\n"
          ]
        },
        {
          "output_type": "stream",
          "name": "stderr",
          "text": [
            "\rTraining Target Model:  20%|██        | 60/299 [23:54<1:34:34, 23.74s/it]"
          ]
        },
        {
          "output_type": "stream",
          "name": "stdout",
          "text": [
            "[Target Model] Epoch 60: Accuracy = 82.12%\n"
          ]
        },
        {
          "output_type": "stream",
          "name": "stderr",
          "text": [
            "\rTraining Target Model:  20%|██        | 61/299 [24:18<1:34:02, 23.71s/it]"
          ]
        },
        {
          "output_type": "stream",
          "name": "stdout",
          "text": [
            "[Target Model] Epoch 61: Accuracy = 81.09%\n"
          ]
        },
        {
          "output_type": "stream",
          "name": "stderr",
          "text": [
            "\rTraining Target Model:  21%|██        | 62/299 [24:42<1:33:32, 23.68s/it]"
          ]
        },
        {
          "output_type": "stream",
          "name": "stdout",
          "text": [
            "[Target Model] Epoch 62: Accuracy = 83.73%\n"
          ]
        },
        {
          "output_type": "stream",
          "name": "stderr",
          "text": [
            "\rTraining Target Model:  21%|██        | 63/299 [25:05<1:33:00, 23.65s/it]"
          ]
        },
        {
          "output_type": "stream",
          "name": "stdout",
          "text": [
            "[Target Model] Epoch 63: Accuracy = 82.99%\n"
          ]
        },
        {
          "output_type": "stream",
          "name": "stderr",
          "text": [
            "\rTraining Target Model:  21%|██▏       | 64/299 [25:29<1:32:38, 23.65s/it]"
          ]
        },
        {
          "output_type": "stream",
          "name": "stdout",
          "text": [
            "[Target Model] Epoch 64: Accuracy = 82.30%\n"
          ]
        },
        {
          "output_type": "stream",
          "name": "stderr",
          "text": [
            "\rTraining Target Model:  22%|██▏       | 65/299 [25:53<1:32:15, 23.66s/it]"
          ]
        },
        {
          "output_type": "stream",
          "name": "stdout",
          "text": [
            "[Target Model] Epoch 65: Accuracy = 83.61%\n"
          ]
        },
        {
          "output_type": "stream",
          "name": "stderr",
          "text": [
            "\rTraining Target Model:  22%|██▏       | 66/299 [26:16<1:31:53, 23.66s/it]"
          ]
        },
        {
          "output_type": "stream",
          "name": "stdout",
          "text": [
            "[Target Model] Epoch 66: Accuracy = 82.39%\n"
          ]
        },
        {
          "output_type": "stream",
          "name": "stderr",
          "text": [
            "\rTraining Target Model:  22%|██▏       | 67/299 [26:40<1:31:30, 23.67s/it]"
          ]
        },
        {
          "output_type": "stream",
          "name": "stdout",
          "text": [
            "[Target Model] Epoch 67: Accuracy = 80.86%\n"
          ]
        },
        {
          "output_type": "stream",
          "name": "stderr",
          "text": [
            "\rTraining Target Model:  23%|██▎       | 68/299 [27:04<1:31:05, 23.66s/it]"
          ]
        },
        {
          "output_type": "stream",
          "name": "stdout",
          "text": [
            "[Target Model] Epoch 68: Accuracy = 82.72%\n"
          ]
        },
        {
          "output_type": "stream",
          "name": "stderr",
          "text": [
            "\rTraining Target Model:  23%|██▎       | 69/299 [27:27<1:30:43, 23.67s/it]"
          ]
        },
        {
          "output_type": "stream",
          "name": "stdout",
          "text": [
            "[Target Model] Epoch 69: Accuracy = 83.67%\n"
          ]
        },
        {
          "output_type": "stream",
          "name": "stderr",
          "text": [
            "\rTraining Target Model:  23%|██▎       | 70/299 [27:51<1:30:20, 23.67s/it]"
          ]
        },
        {
          "output_type": "stream",
          "name": "stdout",
          "text": [
            "[Target Model] Epoch 70: Accuracy = 83.50%\n"
          ]
        },
        {
          "output_type": "stream",
          "name": "stderr",
          "text": [
            "\rTraining Target Model:  24%|██▎       | 71/299 [28:15<1:29:56, 23.67s/it]"
          ]
        },
        {
          "output_type": "stream",
          "name": "stdout",
          "text": [
            "[Target Model] Epoch 71: Accuracy = 83.89%\n"
          ]
        },
        {
          "output_type": "stream",
          "name": "stderr",
          "text": [
            "\rTraining Target Model:  24%|██▍       | 72/299 [28:38<1:29:32, 23.67s/it]"
          ]
        },
        {
          "output_type": "stream",
          "name": "stdout",
          "text": [
            "[Target Model] Epoch 72: Accuracy = 82.74%\n"
          ]
        },
        {
          "output_type": "stream",
          "name": "stderr",
          "text": [
            "\rTraining Target Model:  24%|██▍       | 73/299 [29:02<1:29:05, 23.65s/it]"
          ]
        },
        {
          "output_type": "stream",
          "name": "stdout",
          "text": [
            "[Target Model] Epoch 73: Accuracy = 82.89%\n"
          ]
        },
        {
          "output_type": "stream",
          "name": "stderr",
          "text": [
            "\rTraining Target Model:  25%|██▍       | 74/299 [29:25<1:28:38, 23.64s/it]"
          ]
        },
        {
          "output_type": "stream",
          "name": "stdout",
          "text": [
            "[Target Model] Epoch 74: Accuracy = 83.68%\n"
          ]
        },
        {
          "output_type": "stream",
          "name": "stderr",
          "text": [
            "\rTraining Target Model:  25%|██▌       | 75/299 [29:49<1:28:13, 23.63s/it]"
          ]
        },
        {
          "output_type": "stream",
          "name": "stdout",
          "text": [
            "[Target Model] Epoch 75: Accuracy = 84.74%\n"
          ]
        },
        {
          "output_type": "stream",
          "name": "stderr",
          "text": [
            "\rTraining Target Model:  25%|██▌       | 76/299 [30:13<1:27:53, 23.65s/it]"
          ]
        },
        {
          "output_type": "stream",
          "name": "stdout",
          "text": [
            "[Target Model] Epoch 76: Accuracy = 84.41%\n"
          ]
        },
        {
          "output_type": "stream",
          "name": "stderr",
          "text": [
            "\rTraining Target Model:  26%|██▌       | 77/299 [30:37<1:27:49, 23.74s/it]"
          ]
        },
        {
          "output_type": "stream",
          "name": "stdout",
          "text": [
            "[Target Model] Epoch 77: Accuracy = 84.25%\n"
          ]
        },
        {
          "output_type": "stream",
          "name": "stderr",
          "text": [
            "\rTraining Target Model:  26%|██▌       | 78/299 [31:01<1:27:58, 23.89s/it]"
          ]
        },
        {
          "output_type": "stream",
          "name": "stdout",
          "text": [
            "[Target Model] Epoch 78: Accuracy = 83.20%\n"
          ]
        },
        {
          "output_type": "stream",
          "name": "stderr",
          "text": [
            "\rTraining Target Model:  26%|██▋       | 79/299 [31:25<1:27:51, 23.96s/it]"
          ]
        },
        {
          "output_type": "stream",
          "name": "stdout",
          "text": [
            "[Target Model] Epoch 79: Accuracy = 84.05%\n"
          ]
        },
        {
          "output_type": "stream",
          "name": "stderr",
          "text": [
            "\rTraining Target Model:  27%|██▋       | 80/299 [31:49<1:27:42, 24.03s/it]"
          ]
        },
        {
          "output_type": "stream",
          "name": "stdout",
          "text": [
            "[Target Model] Epoch 80: Accuracy = 83.92%\n"
          ]
        },
        {
          "output_type": "stream",
          "name": "stderr",
          "text": [
            "\rTraining Target Model:  27%|██▋       | 81/299 [32:14<1:27:43, 24.14s/it]"
          ]
        },
        {
          "output_type": "stream",
          "name": "stdout",
          "text": [
            "[Target Model] Epoch 81: Accuracy = 83.50%\n"
          ]
        },
        {
          "output_type": "stream",
          "name": "stderr",
          "text": [
            "\rTraining Target Model:  27%|██▋       | 82/299 [32:38<1:27:27, 24.18s/it]"
          ]
        },
        {
          "output_type": "stream",
          "name": "stdout",
          "text": [
            "[Target Model] Epoch 82: Accuracy = 83.69%\n"
          ]
        },
        {
          "output_type": "stream",
          "name": "stderr",
          "text": [
            "\rTraining Target Model:  28%|██▊       | 83/299 [33:02<1:27:13, 24.23s/it]"
          ]
        },
        {
          "output_type": "stream",
          "name": "stdout",
          "text": [
            "[Target Model] Epoch 83: Accuracy = 84.31%\n"
          ]
        },
        {
          "output_type": "stream",
          "name": "stderr",
          "text": [
            "\rTraining Target Model:  28%|██▊       | 84/299 [33:26<1:26:49, 24.23s/it]"
          ]
        },
        {
          "output_type": "stream",
          "name": "stdout",
          "text": [
            "[Target Model] Epoch 84: Accuracy = 83.84%\n"
          ]
        },
        {
          "output_type": "stream",
          "name": "stderr",
          "text": [
            "\rTraining Target Model:  28%|██▊       | 85/299 [33:51<1:26:26, 24.23s/it]"
          ]
        },
        {
          "output_type": "stream",
          "name": "stdout",
          "text": [
            "[Target Model] Epoch 85: Accuracy = 83.79%\n"
          ]
        },
        {
          "output_type": "stream",
          "name": "stderr",
          "text": [
            "\rTraining Target Model:  29%|██▉       | 86/299 [34:15<1:25:56, 24.21s/it]"
          ]
        },
        {
          "output_type": "stream",
          "name": "stdout",
          "text": [
            "[Target Model] Epoch 86: Accuracy = 83.60%\n"
          ]
        },
        {
          "output_type": "stream",
          "name": "stderr",
          "text": [
            "\rTraining Target Model:  29%|██▉       | 87/299 [34:39<1:25:16, 24.13s/it]"
          ]
        },
        {
          "output_type": "stream",
          "name": "stdout",
          "text": [
            "[Target Model] Epoch 87: Accuracy = 85.32%\n"
          ]
        },
        {
          "output_type": "stream",
          "name": "stderr",
          "text": [
            "\rTraining Target Model:  29%|██▉       | 88/299 [35:03<1:24:45, 24.10s/it]"
          ]
        },
        {
          "output_type": "stream",
          "name": "stdout",
          "text": [
            "[Target Model] Epoch 88: Accuracy = 85.24%\n"
          ]
        },
        {
          "output_type": "stream",
          "name": "stderr",
          "text": [
            "\rTraining Target Model:  30%|██▉       | 89/299 [35:27<1:24:01, 24.01s/it]"
          ]
        },
        {
          "output_type": "stream",
          "name": "stdout",
          "text": [
            "[Target Model] Epoch 89: Accuracy = 84.02%\n"
          ]
        },
        {
          "output_type": "stream",
          "name": "stderr",
          "text": [
            "\rTraining Target Model:  30%|███       | 90/299 [35:50<1:23:14, 23.90s/it]"
          ]
        },
        {
          "output_type": "stream",
          "name": "stdout",
          "text": [
            "[Target Model] Epoch 90: Accuracy = 84.67%\n"
          ]
        },
        {
          "output_type": "stream",
          "name": "stderr",
          "text": [
            "\rTraining Target Model:  30%|███       | 91/299 [36:14<1:22:38, 23.84s/it]"
          ]
        },
        {
          "output_type": "stream",
          "name": "stdout",
          "text": [
            "[Target Model] Epoch 91: Accuracy = 84.93%\n"
          ]
        },
        {
          "output_type": "stream",
          "name": "stderr",
          "text": [
            "\rTraining Target Model:  31%|███       | 92/299 [36:38<1:22:04, 23.79s/it]"
          ]
        },
        {
          "output_type": "stream",
          "name": "stdout",
          "text": [
            "[Target Model] Epoch 92: Accuracy = 84.68%\n"
          ]
        },
        {
          "output_type": "stream",
          "name": "stderr",
          "text": [
            "\rTraining Target Model:  31%|███       | 93/299 [37:01<1:21:30, 23.74s/it]"
          ]
        },
        {
          "output_type": "stream",
          "name": "stdout",
          "text": [
            "[Target Model] Epoch 93: Accuracy = 84.59%\n"
          ]
        },
        {
          "output_type": "stream",
          "name": "stderr",
          "text": [
            "\rTraining Target Model:  31%|███▏      | 94/299 [37:25<1:20:58, 23.70s/it]"
          ]
        },
        {
          "output_type": "stream",
          "name": "stdout",
          "text": [
            "[Target Model] Epoch 94: Accuracy = 85.06%\n"
          ]
        },
        {
          "output_type": "stream",
          "name": "stderr",
          "text": [
            "\rTraining Target Model:  32%|███▏      | 95/299 [37:49<1:20:31, 23.68s/it]"
          ]
        },
        {
          "output_type": "stream",
          "name": "stdout",
          "text": [
            "[Target Model] Epoch 95: Accuracy = 84.51%\n"
          ]
        },
        {
          "output_type": "stream",
          "name": "stderr",
          "text": [
            "\rTraining Target Model:  32%|███▏      | 96/299 [38:12<1:20:06, 23.68s/it]"
          ]
        },
        {
          "output_type": "stream",
          "name": "stdout",
          "text": [
            "[Target Model] Epoch 96: Accuracy = 84.22%\n"
          ]
        },
        {
          "output_type": "stream",
          "name": "stderr",
          "text": [
            "\rTraining Target Model:  32%|███▏      | 97/299 [38:36<1:19:38, 23.66s/it]"
          ]
        },
        {
          "output_type": "stream",
          "name": "stdout",
          "text": [
            "[Target Model] Epoch 97: Accuracy = 85.14%\n"
          ]
        },
        {
          "output_type": "stream",
          "name": "stderr",
          "text": [
            "\rTraining Target Model:  33%|███▎      | 98/299 [38:59<1:19:12, 23.64s/it]"
          ]
        },
        {
          "output_type": "stream",
          "name": "stdout",
          "text": [
            "[Target Model] Epoch 98: Accuracy = 84.21%\n"
          ]
        },
        {
          "output_type": "stream",
          "name": "stderr",
          "text": [
            "\rTraining Target Model:  33%|███▎      | 99/299 [39:23<1:18:44, 23.62s/it]"
          ]
        },
        {
          "output_type": "stream",
          "name": "stdout",
          "text": [
            "[Target Model] Epoch 99: Accuracy = 84.30%\n"
          ]
        },
        {
          "output_type": "stream",
          "name": "stderr",
          "text": [
            "\rTraining Target Model:  33%|███▎      | 100/299 [39:47<1:18:19, 23.61s/it]"
          ]
        },
        {
          "output_type": "stream",
          "name": "stdout",
          "text": [
            "[Target Model] Epoch 100: Accuracy = 85.47%\n"
          ]
        },
        {
          "output_type": "stream",
          "name": "stderr",
          "text": [
            "\rTraining Target Model:  33%|███▎      | 100/299 [39:47<1:19:11, 23.87s/it]\n"
          ]
        },
        {
          "output_type": "error",
          "ename": "KeyboardInterrupt",
          "evalue": "",
          "traceback": [
            "\u001b[0;31m---------------------------------------------------------------------------\u001b[0m",
            "\u001b[0;31mKeyboardInterrupt\u001b[0m                         Traceback (most recent call last)",
            "\u001b[0;32m<ipython-input-10-75356b6ed319>\u001b[0m in \u001b[0;36m<cell line: 0>\u001b[0;34m()\u001b[0m\n\u001b[1;32m     20\u001b[0m             \u001b[0;32mcontinue\u001b[0m  \u001b[0;31m# skip if batch too small\u001b[0m\u001b[0;34m\u001b[0m\u001b[0;34m\u001b[0m\u001b[0m\n\u001b[1;32m     21\u001b[0m \u001b[0;34m\u001b[0m\u001b[0m\n\u001b[0;32m---> 22\u001b[0;31m         \u001b[0mx_tensor\u001b[0m \u001b[0;34m=\u001b[0m \u001b[0mtorch\u001b[0m\u001b[0;34m.\u001b[0m\u001b[0mstack\u001b[0m\u001b[0;34m(\u001b[0m\u001b[0mx_b\u001b[0m\u001b[0;34m)\u001b[0m\u001b[0;34m.\u001b[0m\u001b[0mto\u001b[0m\u001b[0;34m(\u001b[0m\u001b[0mdevice\u001b[0m\u001b[0;34m)\u001b[0m\u001b[0;34m\u001b[0m\u001b[0;34m\u001b[0m\u001b[0m\n\u001b[0m\u001b[1;32m     23\u001b[0m         \u001b[0my_tensor\u001b[0m \u001b[0;34m=\u001b[0m \u001b[0mtorch\u001b[0m\u001b[0;34m.\u001b[0m\u001b[0mtensor\u001b[0m\u001b[0;34m(\u001b[0m\u001b[0my_b\u001b[0m\u001b[0;34m)\u001b[0m\u001b[0;34m.\u001b[0m\u001b[0mto\u001b[0m\u001b[0;34m(\u001b[0m\u001b[0mdevice\u001b[0m\u001b[0;34m)\u001b[0m\u001b[0;34m\u001b[0m\u001b[0;34m\u001b[0m\u001b[0m\n\u001b[1;32m     24\u001b[0m         \u001b[0mil_tensor\u001b[0m \u001b[0;34m=\u001b[0m \u001b[0mtorch\u001b[0m\u001b[0;34m.\u001b[0m\u001b[0mtensor\u001b[0m\u001b[0;34m(\u001b[0m\u001b[0mil_b\u001b[0m\u001b[0;34m)\u001b[0m\u001b[0;34m.\u001b[0m\u001b[0mto\u001b[0m\u001b[0;34m(\u001b[0m\u001b[0mdevice\u001b[0m\u001b[0;34m)\u001b[0m\u001b[0;34m\u001b[0m\u001b[0;34m\u001b[0m\u001b[0m\n",
            "\u001b[0;31mKeyboardInterrupt\u001b[0m: "
          ]
        }
      ]
    },
    {
      "cell_type": "markdown",
      "source": [
        "**EMA RHO**"
      ],
      "metadata": {
        "id": "edp-60wyikFN"
      }
    },
    {
      "cell_type": "code",
      "source": [
        "import torch\n",
        "import torch.nn.functional as F\n",
        "import torch.optim as optim\n",
        "from tqdm import trange\n",
        "import random\n",
        "import math\n",
        "\n",
        "# ====== Device ======\n",
        "device = torch.device(\"cuda\" if torch.cuda.is_available() else \"cpu\")\n",
        "\n",
        "# ====== Hyperparameters ======\n",
        "baseline_k = 320    # nominal batch size\n",
        "min_k      = 16     # never select fewer than this\n",
        "momentum   = 0.9    # for EMA of mean_rho\n",
        "fixed_k    = int(baseline_k * 0.1)  # 96\n",
        "cum_baseline = 0\n",
        "cum_selected = 0\n",
        "# ====== Model & Optimizer ======\n",
        "target_model     = ResNet18().to(device)\n",
        "target_optimizer = optim.AdamW(target_model.parameters(), lr=1e-3)\n",
        "sum_rho     = 0.0\n",
        "batch_count = 0\n",
        "# ====== Training Loop ======\n",
        "for epoch in trange(1, 301, desc=\"Training Target Model\"):\n",
        "    ema_rho    = None   # will be initialized on first batch\n",
        "    target_model.train()\n",
        "    random.shuffle(train_ids)\n",
        "    for batch_start in range(0, len(train_ids), baseline_k):\n",
        "        ids = train_ids[batch_start : batch_start + baseline_k]\n",
        "        x_b, y_b, il_b = [], [], []\n",
        "        for idx in ids:\n",
        "            _, x, y = dm.train_split_2.dataset[idx]\n",
        "            x_b.append(x)\n",
        "            y_b.append(y)\n",
        "            il_b.append(irreducible_loss[idx])\n",
        "        x_tensor  = torch.stack(x_b).to(device)\n",
        "        y_tensor  = torch.tensor(y_b, device=device)\n",
        "        il_tensor = torch.tensor(il_b, device=device)\n",
        "\n",
        "        # 3) Compute per-sample losses and reducible loss ρ\n",
        "        logits = target_model(x_tensor)\n",
        "        losses = F.cross_entropy(logits, y_tensor, reduction='none')\n",
        "        rho    = losses - il_tensor              # shape [batch_size]\n",
        "        mean_rho = rho.mean().item()\n",
        "        if ema_rho is None:\n",
        "            ema_rho = mean_rho\n",
        "        else:\n",
        "            ema_rho = momentum * ema_rho + (1-momentum) * mean_rho\n",
        "\n",
        "        batch_size = rho.size(0)\n",
        "        # epsilon to avoid dividing by exactly zero\n",
        "        eps = 1e-6\n",
        "        mean_p = math.exp(mean_rho)\n",
        "        ema_p  = math.exp(ema_rho)\n",
        "        ratio  = mean_p / ema_p    # == exp(mean_rho - ema_rho)\n",
        "        # compute k_raw exactly as before\n",
        "        k_raw = int(baseline_k * ratio * 0.1)\n",
        "        # first clamp into [min_k, 96], then cap to batch_size\n",
        "        k_t   = min(max(min_k, k_raw), 32)\n",
        "        k_t   = min(k_t, batch_size)\n",
        "        # 6) Select the top‑k_t highest‑ρ examples\n",
        "        top_indices   = torch.topk(rho, k_t).indices\n",
        "        selected_loss = losses[top_indices].mean()\n",
        "        cum_baseline += min(fixed_k, rho.size(0))\n",
        "        cum_selected += k_t\n",
        "        # 8) Backpropagate and step\n",
        "        target_optimizer.zero_grad()\n",
        "        selected_loss.backward()\n",
        "        target_optimizer.step()\n",
        "    # ====== Evaluation ======\n",
        "    target_model.eval()\n",
        "    correct, total = 0, 0\n",
        "    with torch.no_grad():\n",
        "        for _, x, y in test_loader:\n",
        "            x, y = x.to(device), y.to(device)\n",
        "            pred = target_model(x).argmax(1)\n",
        "            correct += (pred == y).sum().item()\n",
        "            total += y.size(0)\n",
        "    acc = 100.0 * correct / total\n",
        "    # ====== End of epoch: print cumulative reduction so far ======\n",
        "    reduction     = cum_baseline - cum_selected\n",
        "    reduction_pct = 100.0 * reduction / cum_baseline\n",
        "    print(\n",
        "        f\"[Epoch {epoch:3d}] Cumulative samples—baseline would be {cum_baseline}, \"\n",
        "        f\"actually used {cum_selected}, saved {reduction} \"\n",
        "        f\"({reduction_pct:.1f}% fewer) so far\"\n",
        "    )\n",
        "    print(f\"[Epoch {epoch:3d}] Test Accuracy = {acc:.2f}%\")\n",
        "    if acc >= 87.5:\n",
        "        print(f\"✅ Reached 87.5% at epoch {epoch}\")\n",
        "        break\n"
      ],
      "metadata": {
        "colab": {
          "base_uri": "https://localhost:8080/",
          "height": 1000
        },
        "id": "ZUcbHRjLINQ1",
        "outputId": "ea508c8c-4732-4508-f4b5-f039cf44fff9"
      },
      "execution_count": null,
      "outputs": [
        {
          "output_type": "stream",
          "name": "stderr",
          "text": [
            "Training Target Model:   0%|          | 1/300 [00:24<2:04:07, 24.91s/it]"
          ]
        },
        {
          "output_type": "stream",
          "name": "stdout",
          "text": [
            "[Epoch   1] Cumulative samples—baseline would be 2528, actually used 2340, saved 188 (7.4% fewer) so far\n",
            "[Epoch   1] Test Accuracy = 25.48%\n"
          ]
        },
        {
          "output_type": "stream",
          "name": "stderr",
          "text": [
            "\rTraining Target Model:   1%|          | 2/300 [00:49<2:02:10, 24.60s/it]"
          ]
        },
        {
          "output_type": "stream",
          "name": "stdout",
          "text": [
            "[Epoch   2] Cumulative samples—baseline would be 5056, actually used 4749, saved 307 (6.1% fewer) so far\n",
            "[Epoch   2] Test Accuracy = 34.48%\n"
          ]
        },
        {
          "output_type": "stream",
          "name": "stderr",
          "text": [
            "\rTraining Target Model:   1%|          | 3/300 [01:13<2:01:20, 24.51s/it]"
          ]
        },
        {
          "output_type": "stream",
          "name": "stdout",
          "text": [
            "[Epoch   3] Cumulative samples—baseline would be 7584, actually used 7186, saved 398 (5.2% fewer) so far\n",
            "[Epoch   3] Test Accuracy = 35.67%\n"
          ]
        },
        {
          "output_type": "stream",
          "name": "stderr",
          "text": [
            "\rTraining Target Model:   1%|▏         | 4/300 [01:37<2:00:20, 24.39s/it]"
          ]
        },
        {
          "output_type": "stream",
          "name": "stdout",
          "text": [
            "[Epoch   4] Cumulative samples—baseline would be 10112, actually used 9636, saved 476 (4.7% fewer) so far\n",
            "[Epoch   4] Test Accuracy = 41.53%\n"
          ]
        },
        {
          "output_type": "stream",
          "name": "stderr",
          "text": [
            "\rTraining Target Model:   2%|▏         | 5/300 [02:02<1:59:48, 24.37s/it]"
          ]
        },
        {
          "output_type": "stream",
          "name": "stdout",
          "text": [
            "[Epoch   5] Cumulative samples—baseline would be 12640, actually used 12060, saved 580 (4.6% fewer) so far\n",
            "[Epoch   5] Test Accuracy = 40.29%\n"
          ]
        },
        {
          "output_type": "stream",
          "name": "stderr",
          "text": [
            "\rTraining Target Model:   2%|▏         | 6/300 [02:26<1:59:02, 24.29s/it]"
          ]
        },
        {
          "output_type": "stream",
          "name": "stdout",
          "text": [
            "[Epoch   6] Cumulative samples—baseline would be 15168, actually used 14486, saved 682 (4.5% fewer) so far\n",
            "[Epoch   6] Test Accuracy = 45.12%\n"
          ]
        },
        {
          "output_type": "stream",
          "name": "stderr",
          "text": [
            "\rTraining Target Model:   2%|▏         | 7/300 [02:50<1:58:20, 24.23s/it]"
          ]
        },
        {
          "output_type": "stream",
          "name": "stdout",
          "text": [
            "[Epoch   7] Cumulative samples—baseline would be 17696, actually used 16922, saved 774 (4.4% fewer) so far\n",
            "[Epoch   7] Test Accuracy = 52.00%\n"
          ]
        },
        {
          "output_type": "stream",
          "name": "stderr",
          "text": [
            "\rTraining Target Model:   3%|▎         | 8/300 [03:14<1:57:49, 24.21s/it]"
          ]
        },
        {
          "output_type": "stream",
          "name": "stdout",
          "text": [
            "[Epoch   8] Cumulative samples—baseline would be 20224, actually used 19379, saved 845 (4.2% fewer) so far\n",
            "[Epoch   8] Test Accuracy = 50.48%\n"
          ]
        },
        {
          "output_type": "stream",
          "name": "stderr",
          "text": [
            "\rTraining Target Model:   3%|▎         | 9/300 [03:38<1:57:21, 24.20s/it]"
          ]
        },
        {
          "output_type": "stream",
          "name": "stdout",
          "text": [
            "[Epoch   9] Cumulative samples—baseline would be 22752, actually used 21815, saved 937 (4.1% fewer) so far\n",
            "[Epoch   9] Test Accuracy = 55.10%\n"
          ]
        },
        {
          "output_type": "stream",
          "name": "stderr",
          "text": [
            "\rTraining Target Model:   3%|▎         | 10/300 [04:03<1:57:03, 24.22s/it]"
          ]
        },
        {
          "output_type": "stream",
          "name": "stdout",
          "text": [
            "[Epoch  10] Cumulative samples—baseline would be 25280, actually used 24259, saved 1021 (4.0% fewer) so far\n",
            "[Epoch  10] Test Accuracy = 52.55%\n"
          ]
        },
        {
          "output_type": "stream",
          "name": "stderr",
          "text": [
            "\rTraining Target Model:   4%|▎         | 11/300 [04:27<1:56:34, 24.20s/it]"
          ]
        },
        {
          "output_type": "stream",
          "name": "stdout",
          "text": [
            "[Epoch  11] Cumulative samples—baseline would be 27808, actually used 26707, saved 1101 (4.0% fewer) so far\n",
            "[Epoch  11] Test Accuracy = 56.56%\n"
          ]
        },
        {
          "output_type": "stream",
          "name": "stderr",
          "text": [
            "\rTraining Target Model:   4%|▍         | 12/300 [04:51<1:55:47, 24.12s/it]"
          ]
        },
        {
          "output_type": "stream",
          "name": "stdout",
          "text": [
            "[Epoch  12] Cumulative samples—baseline would be 30336, actually used 29170, saved 1166 (3.8% fewer) so far\n",
            "[Epoch  12] Test Accuracy = 58.57%\n"
          ]
        },
        {
          "output_type": "stream",
          "name": "stderr",
          "text": [
            "\rTraining Target Model:   4%|▍         | 13/300 [05:15<1:55:00, 24.04s/it]"
          ]
        },
        {
          "output_type": "stream",
          "name": "stdout",
          "text": [
            "[Epoch  13] Cumulative samples—baseline would be 32864, actually used 31642, saved 1222 (3.7% fewer) so far\n",
            "[Epoch  13] Test Accuracy = 59.18%\n"
          ]
        },
        {
          "output_type": "stream",
          "name": "stderr",
          "text": [
            "\rTraining Target Model:   5%|▍         | 14/300 [05:38<1:54:14, 23.97s/it]"
          ]
        },
        {
          "output_type": "stream",
          "name": "stdout",
          "text": [
            "[Epoch  14] Cumulative samples—baseline would be 35392, actually used 34092, saved 1300 (3.7% fewer) so far\n",
            "[Epoch  14] Test Accuracy = 62.50%\n"
          ]
        },
        {
          "output_type": "stream",
          "name": "stderr",
          "text": [
            "\rTraining Target Model:   5%|▌         | 15/300 [06:02<1:53:31, 23.90s/it]"
          ]
        },
        {
          "output_type": "stream",
          "name": "stdout",
          "text": [
            "[Epoch  15] Cumulative samples—baseline would be 37920, actually used 36539, saved 1381 (3.6% fewer) so far\n",
            "[Epoch  15] Test Accuracy = 64.93%\n"
          ]
        },
        {
          "output_type": "stream",
          "name": "stderr",
          "text": [
            "\rTraining Target Model:   5%|▌         | 16/300 [06:26<1:52:59, 23.87s/it]"
          ]
        },
        {
          "output_type": "stream",
          "name": "stdout",
          "text": [
            "[Epoch  16] Cumulative samples—baseline would be 40448, actually used 39004, saved 1444 (3.6% fewer) so far\n",
            "[Epoch  16] Test Accuracy = 65.59%\n"
          ]
        },
        {
          "output_type": "stream",
          "name": "stderr",
          "text": [
            "\rTraining Target Model:   6%|▌         | 17/300 [06:50<1:52:28, 23.85s/it]"
          ]
        },
        {
          "output_type": "stream",
          "name": "stdout",
          "text": [
            "[Epoch  17] Cumulative samples—baseline would be 42976, actually used 41475, saved 1501 (3.5% fewer) so far\n",
            "[Epoch  17] Test Accuracy = 69.82%\n"
          ]
        },
        {
          "output_type": "stream",
          "name": "stderr",
          "text": [
            "\rTraining Target Model:   6%|▌         | 18/300 [07:13<1:51:59, 23.83s/it]"
          ]
        },
        {
          "output_type": "stream",
          "name": "stdout",
          "text": [
            "[Epoch  18] Cumulative samples—baseline would be 45504, actually used 43940, saved 1564 (3.4% fewer) so far\n",
            "[Epoch  18] Test Accuracy = 68.82%\n"
          ]
        },
        {
          "output_type": "stream",
          "name": "stderr",
          "text": [
            "\rTraining Target Model:   6%|▋         | 19/300 [07:37<1:51:30, 23.81s/it]"
          ]
        },
        {
          "output_type": "stream",
          "name": "stdout",
          "text": [
            "[Epoch  19] Cumulative samples—baseline would be 48032, actually used 46407, saved 1625 (3.4% fewer) so far\n",
            "[Epoch  19] Test Accuracy = 70.60%\n"
          ]
        },
        {
          "output_type": "stream",
          "name": "stderr",
          "text": [
            "\rTraining Target Model:   7%|▋         | 20/300 [08:01<1:51:05, 23.80s/it]"
          ]
        },
        {
          "output_type": "stream",
          "name": "stdout",
          "text": [
            "[Epoch  20] Cumulative samples—baseline would be 50560, actually used 48877, saved 1683 (3.3% fewer) so far\n",
            "[Epoch  20] Test Accuracy = 69.89%\n"
          ]
        },
        {
          "output_type": "stream",
          "name": "stderr",
          "text": [
            "\rTraining Target Model:   7%|▋         | 21/300 [08:25<1:50:33, 23.78s/it]"
          ]
        },
        {
          "output_type": "stream",
          "name": "stdout",
          "text": [
            "[Epoch  21] Cumulative samples—baseline would be 53088, actually used 51351, saved 1737 (3.3% fewer) so far\n",
            "[Epoch  21] Test Accuracy = 74.20%\n"
          ]
        },
        {
          "output_type": "stream",
          "name": "stderr",
          "text": [
            "\rTraining Target Model:   7%|▋         | 22/300 [08:49<1:50:14, 23.79s/it]"
          ]
        },
        {
          "output_type": "stream",
          "name": "stdout",
          "text": [
            "[Epoch  22] Cumulative samples—baseline would be 55616, actually used 53805, saved 1811 (3.3% fewer) so far\n",
            "[Epoch  22] Test Accuracy = 71.51%\n"
          ]
        },
        {
          "output_type": "stream",
          "name": "stderr",
          "text": [
            "\rTraining Target Model:   8%|▊         | 23/300 [09:12<1:49:43, 23.77s/it]"
          ]
        },
        {
          "output_type": "stream",
          "name": "stdout",
          "text": [
            "[Epoch  23] Cumulative samples—baseline would be 58144, actually used 56264, saved 1880 (3.2% fewer) so far\n",
            "[Epoch  23] Test Accuracy = 73.77%\n"
          ]
        },
        {
          "output_type": "stream",
          "name": "stderr",
          "text": [
            "\rTraining Target Model:   8%|▊         | 24/300 [09:36<1:49:16, 23.75s/it]"
          ]
        },
        {
          "output_type": "stream",
          "name": "stdout",
          "text": [
            "[Epoch  24] Cumulative samples—baseline would be 60672, actually used 58721, saved 1951 (3.2% fewer) so far\n",
            "[Epoch  24] Test Accuracy = 70.49%\n"
          ]
        },
        {
          "output_type": "stream",
          "name": "stderr",
          "text": [
            "\rTraining Target Model:   8%|▊         | 25/300 [10:00<1:49:05, 23.80s/it]"
          ]
        },
        {
          "output_type": "stream",
          "name": "stdout",
          "text": [
            "[Epoch  25] Cumulative samples—baseline would be 63200, actually used 61187, saved 2013 (3.2% fewer) so far\n",
            "[Epoch  25] Test Accuracy = 74.07%\n"
          ]
        },
        {
          "output_type": "stream",
          "name": "stderr",
          "text": [
            "\rTraining Target Model:   9%|▊         | 26/300 [10:24<1:48:41, 23.80s/it]"
          ]
        },
        {
          "output_type": "stream",
          "name": "stdout",
          "text": [
            "[Epoch  26] Cumulative samples—baseline would be 65728, actually used 63657, saved 2071 (3.2% fewer) so far\n",
            "[Epoch  26] Test Accuracy = 74.76%\n"
          ]
        },
        {
          "output_type": "stream",
          "name": "stderr",
          "text": [
            "\rTraining Target Model:   9%|▉         | 27/300 [10:48<1:48:28, 23.84s/it]"
          ]
        },
        {
          "output_type": "stream",
          "name": "stdout",
          "text": [
            "[Epoch  27] Cumulative samples—baseline would be 68256, actually used 66121, saved 2135 (3.1% fewer) so far\n",
            "[Epoch  27] Test Accuracy = 74.48%\n"
          ]
        },
        {
          "output_type": "stream",
          "name": "stderr",
          "text": [
            "\rTraining Target Model:   9%|▉         | 28/300 [11:11<1:47:59, 23.82s/it]"
          ]
        },
        {
          "output_type": "stream",
          "name": "stdout",
          "text": [
            "[Epoch  28] Cumulative samples—baseline would be 70784, actually used 68573, saved 2211 (3.1% fewer) so far\n",
            "[Epoch  28] Test Accuracy = 76.09%\n"
          ]
        },
        {
          "output_type": "stream",
          "name": "stderr",
          "text": [
            "\rTraining Target Model:  10%|▉         | 29/300 [11:35<1:47:38, 23.83s/it]"
          ]
        },
        {
          "output_type": "stream",
          "name": "stdout",
          "text": [
            "[Epoch  29] Cumulative samples—baseline would be 73312, actually used 71045, saved 2267 (3.1% fewer) so far\n",
            "[Epoch  29] Test Accuracy = 74.92%\n"
          ]
        },
        {
          "output_type": "stream",
          "name": "stderr",
          "text": [
            "\rTraining Target Model:  10%|█         | 30/300 [11:59<1:47:15, 23.84s/it]"
          ]
        },
        {
          "output_type": "stream",
          "name": "stdout",
          "text": [
            "[Epoch  30] Cumulative samples—baseline would be 75840, actually used 73514, saved 2326 (3.1% fewer) so far\n",
            "[Epoch  30] Test Accuracy = 76.39%\n"
          ]
        },
        {
          "output_type": "stream",
          "name": "stderr",
          "text": [
            "\rTraining Target Model:  10%|█         | 31/300 [12:23<1:46:44, 23.81s/it]"
          ]
        },
        {
          "output_type": "stream",
          "name": "stdout",
          "text": [
            "[Epoch  31] Cumulative samples—baseline would be 78368, actually used 75975, saved 2393 (3.1% fewer) so far\n",
            "[Epoch  31] Test Accuracy = 77.34%\n"
          ]
        },
        {
          "output_type": "stream",
          "name": "stderr",
          "text": [
            "\rTraining Target Model:  11%|█         | 32/300 [12:47<1:46:19, 23.80s/it]"
          ]
        },
        {
          "output_type": "stream",
          "name": "stdout",
          "text": [
            "[Epoch  32] Cumulative samples—baseline would be 80896, actually used 78446, saved 2450 (3.0% fewer) so far\n",
            "[Epoch  32] Test Accuracy = 75.49%\n"
          ]
        },
        {
          "output_type": "stream",
          "name": "stderr",
          "text": [
            "\rTraining Target Model:  11%|█         | 33/300 [13:10<1:45:57, 23.81s/it]"
          ]
        },
        {
          "output_type": "stream",
          "name": "stdout",
          "text": [
            "[Epoch  33] Cumulative samples—baseline would be 83424, actually used 80911, saved 2513 (3.0% fewer) so far\n",
            "[Epoch  33] Test Accuracy = 76.89%\n"
          ]
        },
        {
          "output_type": "stream",
          "name": "stderr",
          "text": [
            "\rTraining Target Model:  11%|█▏        | 34/300 [13:34<1:45:28, 23.79s/it]"
          ]
        },
        {
          "output_type": "stream",
          "name": "stdout",
          "text": [
            "[Epoch  34] Cumulative samples—baseline would be 85952, actually used 83376, saved 2576 (3.0% fewer) so far\n",
            "[Epoch  34] Test Accuracy = 78.40%\n"
          ]
        },
        {
          "output_type": "stream",
          "name": "stderr",
          "text": [
            "\rTraining Target Model:  12%|█▏        | 35/300 [13:58<1:45:04, 23.79s/it]"
          ]
        },
        {
          "output_type": "stream",
          "name": "stdout",
          "text": [
            "[Epoch  35] Cumulative samples—baseline would be 88480, actually used 85847, saved 2633 (3.0% fewer) so far\n",
            "[Epoch  35] Test Accuracy = 78.16%\n"
          ]
        },
        {
          "output_type": "stream",
          "name": "stderr",
          "text": [
            "\rTraining Target Model:  12%|█▏        | 36/300 [14:22<1:44:37, 23.78s/it]"
          ]
        },
        {
          "output_type": "stream",
          "name": "stdout",
          "text": [
            "[Epoch  36] Cumulative samples—baseline would be 91008, actually used 88323, saved 2685 (3.0% fewer) so far\n",
            "[Epoch  36] Test Accuracy = 77.87%\n"
          ]
        },
        {
          "output_type": "stream",
          "name": "stderr",
          "text": [
            "\rTraining Target Model:  12%|█▏        | 37/300 [14:46<1:44:24, 23.82s/it]"
          ]
        },
        {
          "output_type": "stream",
          "name": "stdout",
          "text": [
            "[Epoch  37] Cumulative samples—baseline would be 93536, actually used 90789, saved 2747 (2.9% fewer) so far\n",
            "[Epoch  37] Test Accuracy = 78.41%\n"
          ]
        },
        {
          "output_type": "stream",
          "name": "stderr",
          "text": [
            "\rTraining Target Model:  13%|█▎        | 38/300 [15:09<1:43:59, 23.81s/it]"
          ]
        },
        {
          "output_type": "stream",
          "name": "stdout",
          "text": [
            "[Epoch  38] Cumulative samples—baseline would be 96064, actually used 93259, saved 2805 (2.9% fewer) so far\n",
            "[Epoch  38] Test Accuracy = 79.12%\n"
          ]
        },
        {
          "output_type": "stream",
          "name": "stderr",
          "text": [
            "\rTraining Target Model:  13%|█▎        | 39/300 [15:33<1:43:28, 23.79s/it]"
          ]
        },
        {
          "output_type": "stream",
          "name": "stdout",
          "text": [
            "[Epoch  39] Cumulative samples—baseline would be 98592, actually used 95720, saved 2872 (2.9% fewer) so far\n",
            "[Epoch  39] Test Accuracy = 79.87%\n"
          ]
        },
        {
          "output_type": "stream",
          "name": "stderr",
          "text": [
            "\rTraining Target Model:  13%|█▎        | 40/300 [15:57<1:43:07, 23.80s/it]"
          ]
        },
        {
          "output_type": "stream",
          "name": "stdout",
          "text": [
            "[Epoch  40] Cumulative samples—baseline would be 101120, actually used 98188, saved 2932 (2.9% fewer) so far\n",
            "[Epoch  40] Test Accuracy = 78.24%\n"
          ]
        },
        {
          "output_type": "stream",
          "name": "stderr",
          "text": [
            "\rTraining Target Model:  14%|█▎        | 41/300 [16:21<1:43:22, 23.95s/it]"
          ]
        },
        {
          "output_type": "stream",
          "name": "stdout",
          "text": [
            "[Epoch  41] Cumulative samples—baseline would be 103648, actually used 100647, saved 3001 (2.9% fewer) so far\n",
            "[Epoch  41] Test Accuracy = 80.51%\n"
          ]
        },
        {
          "output_type": "stream",
          "name": "stderr",
          "text": [
            "\rTraining Target Model:  14%|█▍        | 42/300 [16:45<1:42:44, 23.89s/it]"
          ]
        },
        {
          "output_type": "stream",
          "name": "stdout",
          "text": [
            "[Epoch  42] Cumulative samples—baseline would be 106176, actually used 103115, saved 3061 (2.9% fewer) so far\n",
            "[Epoch  42] Test Accuracy = 80.69%\n"
          ]
        },
        {
          "output_type": "stream",
          "name": "stderr",
          "text": [
            "\rTraining Target Model:  14%|█▍        | 43/300 [17:09<1:42:13, 23.87s/it]"
          ]
        },
        {
          "output_type": "stream",
          "name": "stdout",
          "text": [
            "[Epoch  43] Cumulative samples—baseline would be 108704, actually used 105580, saved 3124 (2.9% fewer) so far\n",
            "[Epoch  43] Test Accuracy = 79.28%\n"
          ]
        },
        {
          "output_type": "stream",
          "name": "stderr",
          "text": [
            "\rTraining Target Model:  15%|█▍        | 44/300 [17:33<1:41:40, 23.83s/it]"
          ]
        },
        {
          "output_type": "stream",
          "name": "stdout",
          "text": [
            "[Epoch  44] Cumulative samples—baseline would be 111232, actually used 108052, saved 3180 (2.9% fewer) so far\n",
            "[Epoch  44] Test Accuracy = 79.05%\n"
          ]
        },
        {
          "output_type": "stream",
          "name": "stderr",
          "text": [
            "\rTraining Target Model:  15%|█▌        | 45/300 [17:56<1:41:14, 23.82s/it]"
          ]
        },
        {
          "output_type": "stream",
          "name": "stdout",
          "text": [
            "[Epoch  45] Cumulative samples—baseline would be 113760, actually used 110525, saved 3235 (2.8% fewer) so far\n",
            "[Epoch  45] Test Accuracy = 79.27%\n"
          ]
        },
        {
          "output_type": "stream",
          "name": "stderr",
          "text": [
            "\rTraining Target Model:  15%|█▌        | 46/300 [18:20<1:40:47, 23.81s/it]"
          ]
        },
        {
          "output_type": "stream",
          "name": "stdout",
          "text": [
            "[Epoch  46] Cumulative samples—baseline would be 116288, actually used 112996, saved 3292 (2.8% fewer) so far\n",
            "[Epoch  46] Test Accuracy = 77.61%\n"
          ]
        },
        {
          "output_type": "stream",
          "name": "stderr",
          "text": [
            "\rTraining Target Model:  16%|█▌        | 47/300 [18:44<1:40:23, 23.81s/it]"
          ]
        },
        {
          "output_type": "stream",
          "name": "stdout",
          "text": [
            "[Epoch  47] Cumulative samples—baseline would be 118816, actually used 115461, saved 3355 (2.8% fewer) so far\n",
            "[Epoch  47] Test Accuracy = 80.60%\n"
          ]
        },
        {
          "output_type": "stream",
          "name": "stderr",
          "text": [
            "\rTraining Target Model:  16%|█▌        | 48/300 [19:08<1:40:03, 23.82s/it]"
          ]
        },
        {
          "output_type": "stream",
          "name": "stdout",
          "text": [
            "[Epoch  48] Cumulative samples—baseline would be 121344, actually used 117927, saved 3417 (2.8% fewer) so far\n",
            "[Epoch  48] Test Accuracy = 80.03%\n"
          ]
        },
        {
          "output_type": "stream",
          "name": "stderr",
          "text": [
            "\rTraining Target Model:  16%|█▋        | 49/300 [19:32<1:39:47, 23.86s/it]"
          ]
        },
        {
          "output_type": "stream",
          "name": "stdout",
          "text": [
            "[Epoch  49] Cumulative samples—baseline would be 123872, actually used 120387, saved 3485 (2.8% fewer) so far\n",
            "[Epoch  49] Test Accuracy = 80.60%\n"
          ]
        },
        {
          "output_type": "stream",
          "name": "stderr",
          "text": [
            "\rTraining Target Model:  17%|█▋        | 50/300 [19:57<1:40:29, 24.12s/it]"
          ]
        },
        {
          "output_type": "stream",
          "name": "stdout",
          "text": [
            "[Epoch  50] Cumulative samples—baseline would be 126400, actually used 122868, saved 3532 (2.8% fewer) so far\n",
            "[Epoch  50] Test Accuracy = 79.88%\n"
          ]
        },
        {
          "output_type": "stream",
          "name": "stderr",
          "text": [
            "\rTraining Target Model:  17%|█▋        | 51/300 [20:21<1:39:53, 24.07s/it]"
          ]
        },
        {
          "output_type": "stream",
          "name": "stdout",
          "text": [
            "[Epoch  51] Cumulative samples—baseline would be 128928, actually used 125334, saved 3594 (2.8% fewer) so far\n",
            "[Epoch  51] Test Accuracy = 80.44%\n"
          ]
        },
        {
          "output_type": "stream",
          "name": "stderr",
          "text": [
            "\rTraining Target Model:  17%|█▋        | 52/300 [20:44<1:39:20, 24.04s/it]"
          ]
        },
        {
          "output_type": "stream",
          "name": "stdout",
          "text": [
            "[Epoch  52] Cumulative samples—baseline would be 131456, actually used 127780, saved 3676 (2.8% fewer) so far\n",
            "[Epoch  52] Test Accuracy = 81.70%\n"
          ]
        },
        {
          "output_type": "stream",
          "name": "stderr",
          "text": [
            "\rTraining Target Model:  18%|█▊        | 53/300 [21:09<1:39:01, 24.05s/it]"
          ]
        },
        {
          "output_type": "stream",
          "name": "stdout",
          "text": [
            "[Epoch  53] Cumulative samples—baseline would be 133984, actually used 130255, saved 3729 (2.8% fewer) so far\n",
            "[Epoch  53] Test Accuracy = 81.56%\n"
          ]
        },
        {
          "output_type": "stream",
          "name": "stderr",
          "text": [
            "\rTraining Target Model:  18%|█▊        | 54/300 [21:33<1:38:38, 24.06s/it]"
          ]
        },
        {
          "output_type": "stream",
          "name": "stdout",
          "text": [
            "[Epoch  54] Cumulative samples—baseline would be 136512, actually used 132712, saved 3800 (2.8% fewer) so far\n",
            "[Epoch  54] Test Accuracy = 81.68%\n"
          ]
        },
        {
          "output_type": "stream",
          "name": "stderr",
          "text": [
            "\rTraining Target Model:  18%|█▊        | 55/300 [21:57<1:38:15, 24.06s/it]"
          ]
        },
        {
          "output_type": "stream",
          "name": "stdout",
          "text": [
            "[Epoch  55] Cumulative samples—baseline would be 139040, actually used 135182, saved 3858 (2.8% fewer) so far\n",
            "[Epoch  55] Test Accuracy = 80.47%\n"
          ]
        },
        {
          "output_type": "stream",
          "name": "stderr",
          "text": [
            "\rTraining Target Model:  19%|█▊        | 56/300 [22:21<1:38:06, 24.13s/it]"
          ]
        },
        {
          "output_type": "stream",
          "name": "stdout",
          "text": [
            "[Epoch  56] Cumulative samples—baseline would be 141568, actually used 137641, saved 3927 (2.8% fewer) so far\n",
            "[Epoch  56] Test Accuracy = 82.59%\n"
          ]
        },
        {
          "output_type": "stream",
          "name": "stderr",
          "text": [
            "\rTraining Target Model:  19%|█▉        | 57/300 [22:45<1:37:49, 24.15s/it]"
          ]
        },
        {
          "output_type": "stream",
          "name": "stdout",
          "text": [
            "[Epoch  57] Cumulative samples—baseline would be 144096, actually used 140104, saved 3992 (2.8% fewer) so far\n",
            "[Epoch  57] Test Accuracy = 81.53%\n"
          ]
        },
        {
          "output_type": "stream",
          "name": "stderr",
          "text": [
            "\rTraining Target Model:  19%|█▉        | 58/300 [23:10<1:37:43, 24.23s/it]"
          ]
        },
        {
          "output_type": "stream",
          "name": "stdout",
          "text": [
            "[Epoch  58] Cumulative samples—baseline would be 146624, actually used 142579, saved 4045 (2.8% fewer) so far\n",
            "[Epoch  58] Test Accuracy = 82.42%\n"
          ]
        },
        {
          "output_type": "stream",
          "name": "stderr",
          "text": [
            "\rTraining Target Model:  19%|█▉        | 58/300 [23:38<1:38:39, 24.46s/it]\n"
          ]
        },
        {
          "output_type": "error",
          "ename": "KeyboardInterrupt",
          "evalue": "",
          "traceback": [
            "\u001b[0;31m---------------------------------------------------------------------------\u001b[0m",
            "\u001b[0;31mKeyboardInterrupt\u001b[0m                         Traceback (most recent call last)",
            "\u001b[0;32m<ipython-input-13-134be5a95ac7>\u001b[0m in \u001b[0;36m<cell line: 0>\u001b[0;34m()\u001b[0m\n\u001b[1;32m     78\u001b[0m             \u001b[0mx\u001b[0m\u001b[0;34m,\u001b[0m \u001b[0my\u001b[0m \u001b[0;34m=\u001b[0m \u001b[0mx\u001b[0m\u001b[0;34m.\u001b[0m\u001b[0mto\u001b[0m\u001b[0;34m(\u001b[0m\u001b[0mdevice\u001b[0m\u001b[0;34m)\u001b[0m\u001b[0;34m,\u001b[0m \u001b[0my\u001b[0m\u001b[0;34m.\u001b[0m\u001b[0mto\u001b[0m\u001b[0;34m(\u001b[0m\u001b[0mdevice\u001b[0m\u001b[0;34m)\u001b[0m\u001b[0;34m\u001b[0m\u001b[0;34m\u001b[0m\u001b[0m\n\u001b[1;32m     79\u001b[0m             \u001b[0mpred\u001b[0m \u001b[0;34m=\u001b[0m \u001b[0mtarget_model\u001b[0m\u001b[0;34m(\u001b[0m\u001b[0mx\u001b[0m\u001b[0;34m)\u001b[0m\u001b[0;34m.\u001b[0m\u001b[0margmax\u001b[0m\u001b[0;34m(\u001b[0m\u001b[0;36m1\u001b[0m\u001b[0;34m)\u001b[0m\u001b[0;34m\u001b[0m\u001b[0;34m\u001b[0m\u001b[0m\n\u001b[0;32m---> 80\u001b[0;31m             \u001b[0mcorrect\u001b[0m \u001b[0;34m+=\u001b[0m \u001b[0;34m(\u001b[0m\u001b[0mpred\u001b[0m \u001b[0;34m==\u001b[0m \u001b[0my\u001b[0m\u001b[0;34m)\u001b[0m\u001b[0;34m.\u001b[0m\u001b[0msum\u001b[0m\u001b[0;34m(\u001b[0m\u001b[0;34m)\u001b[0m\u001b[0;34m.\u001b[0m\u001b[0mitem\u001b[0m\u001b[0;34m(\u001b[0m\u001b[0;34m)\u001b[0m\u001b[0;34m\u001b[0m\u001b[0;34m\u001b[0m\u001b[0m\n\u001b[0m\u001b[1;32m     81\u001b[0m             \u001b[0mtotal\u001b[0m \u001b[0;34m+=\u001b[0m \u001b[0my\u001b[0m\u001b[0;34m.\u001b[0m\u001b[0msize\u001b[0m\u001b[0;34m(\u001b[0m\u001b[0;36m0\u001b[0m\u001b[0;34m)\u001b[0m\u001b[0;34m\u001b[0m\u001b[0;34m\u001b[0m\u001b[0m\n\u001b[1;32m     82\u001b[0m     \u001b[0macc\u001b[0m \u001b[0;34m=\u001b[0m \u001b[0;36m100.0\u001b[0m \u001b[0;34m*\u001b[0m \u001b[0mcorrect\u001b[0m \u001b[0;34m/\u001b[0m \u001b[0mtotal\u001b[0m\u001b[0;34m\u001b[0m\u001b[0;34m\u001b[0m\u001b[0m\n",
            "\u001b[0;31mKeyboardInterrupt\u001b[0m: "
          ]
        }
      ]
    },
    {
      "cell_type": "code",
      "source": [
        "import re\n",
        "\n",
        "def extract_accuracies(log_text: str) -> List[float]:\n",
        "    \"\"\"\n",
        "    Extracts all floating‑point numbers immediately following 'Accuracy =' in the log.\n",
        "    Works for lines like:\n",
        "      [Epoch   1] Test Accuracy = 25.48%\n",
        "      Epoch 10: Accuracy = 52.55%\n",
        "    \"\"\"\n",
        "    pattern = r\"Accuracy\\s*=\\s*([\\d\\.]+)%\"\n",
        "    return [float(m.group(1)) for m in re.finditer(pattern, log_text)]\n",
        "# --- Example usage ---\n",
        "if __name__ == \"__main__\":\n",
        "    log_str = \"\"\"\n",
        "    Training Target Model:   0%|          | 1/300 [00:24<2:04:07, 24.91s/it][Epoch   1] Cumulative samples—baseline would be 2528, actually used 2340, saved 188 (7.4% fewer) so far\n",
        "[Epoch   1] Test Accuracy = 25.48%\n",
        "Training Target Model:   1%|          | 2/300 [00:49<2:02:10, 24.60s/it][Epoch   2] Cumulative samples—baseline would be 5056, actually used 4749, saved 307 (6.1% fewer) so far\n",
        "[Epoch   2] Test Accuracy = 34.48%\n",
        "Training Target Model:   1%|          | 3/300 [01:13<2:01:20, 24.51s/it][Epoch   3] Cumulative samples—baseline would be 7584, actually used 7186, saved 398 (5.2% fewer) so far\n",
        "[Epoch   3] Test Accuracy = 35.67%\n",
        "Training Target Model:   1%|▏         | 4/300 [01:37<2:00:20, 24.39s/it][Epoch   4] Cumulative samples—baseline would be 10112, actually used 9636, saved 476 (4.7% fewer) so far\n",
        "[Epoch   4] Test Accuracy = 41.53%\n",
        "Training Target Model:   2%|▏         | 5/300 [02:02<1:59:48, 24.37s/it][Epoch   5] Cumulative samples—baseline would be 12640, actually used 12060, saved 580 (4.6% fewer) so far\n",
        "[Epoch   5] Test Accuracy = 40.29%\n",
        "Training Target Model:   2%|▏         | 6/300 [02:26<1:59:02, 24.29s/it][Epoch   6] Cumulative samples—baseline would be 15168, actually used 14486, saved 682 (4.5% fewer) so far\n",
        "[Epoch   6] Test Accuracy = 45.12%\n",
        "Training Target Model:   2%|▏         | 7/300 [02:50<1:58:20, 24.23s/it][Epoch   7] Cumulative samples—baseline would be 17696, actually used 16922, saved 774 (4.4% fewer) so far\n",
        "[Epoch   7] Test Accuracy = 52.00%\n",
        "Training Target Model:   3%|▎         | 8/300 [03:14<1:57:49, 24.21s/it][Epoch   8] Cumulative samples—baseline would be 20224, actually used 19379, saved 845 (4.2% fewer) so far\n",
        "[Epoch   8] Test Accuracy = 50.48%\n",
        "Training Target Model:   3%|▎         | 9/300 [03:38<1:57:21, 24.20s/it][Epoch   9] Cumulative samples—baseline would be 22752, actually used 21815, saved 937 (4.1% fewer) so far\n",
        "[Epoch   9] Test Accuracy = 55.10%\n",
        "Training Target Model:   3%|▎         | 10/300 [04:03<1:57:03, 24.22s/it][Epoch  10] Cumulative samples—baseline would be 25280, actually used 24259, saved 1021 (4.0% fewer) so far\n",
        "[Epoch  10] Test Accuracy = 52.55%\n",
        "Training Target Model:   4%|▎         | 11/300 [04:27<1:56:34, 24.20s/it][Epoch  11] Cumulative samples—baseline would be 27808, actually used 26707, saved 1101 (4.0% fewer) so far\n",
        "[Epoch  11] Test Accuracy = 56.56%\n",
        "Training Target Model:   4%|▍         | 12/300 [04:51<1:55:47, 24.12s/it][Epoch  12] Cumulative samples—baseline would be 30336, actually used 29170, saved 1166 (3.8% fewer) so far\n",
        "[Epoch  12] Test Accuracy = 58.57%\n",
        "Training Target Model:   4%|▍         | 13/300 [05:15<1:55:00, 24.04s/it][Epoch  13] Cumulative samples—baseline would be 32864, actually used 31642, saved 1222 (3.7% fewer) so far\n",
        "[Epoch  13] Test Accuracy = 59.18%\n",
        "Training Target Model:   5%|▍         | 14/300 [05:38<1:54:14, 23.97s/it][Epoch  14] Cumulative samples—baseline would be 35392, actually used 34092, saved 1300 (3.7% fewer) so far\n",
        "[Epoch  14] Test Accuracy = 62.50%\n",
        "Training Target Model:   5%|▌         | 15/300 [06:02<1:53:31, 23.90s/it][Epoch  15] Cumulative samples—baseline would be 37920, actually used 36539, saved 1381 (3.6% fewer) so far\n",
        "[Epoch  15] Test Accuracy = 64.93%\n",
        "Training Target Model:   5%|▌         | 16/300 [06:26<1:52:59, 23.87s/it][Epoch  16] Cumulative samples—baseline would be 40448, actually used 39004, saved 1444 (3.6% fewer) so far\n",
        "[Epoch  16] Test Accuracy = 65.59%\n",
        "Training Target Model:   6%|▌         | 17/300 [06:50<1:52:28, 23.85s/it][Epoch  17] Cumulative samples—baseline would be 42976, actually used 41475, saved 1501 (3.5% fewer) so far\n",
        "[Epoch  17] Test Accuracy = 69.82%\n",
        "Training Target Model:   6%|▌         | 18/300 [07:13<1:51:59, 23.83s/it][Epoch  18] Cumulative samples—baseline would be 45504, actually used 43940, saved 1564 (3.4% fewer) so far\n",
        "[Epoch  18] Test Accuracy = 68.82%\n",
        "Training Target Model:   6%|▋         | 19/300 [07:37<1:51:30, 23.81s/it][Epoch  19] Cumulative samples—baseline would be 48032, actually used 46407, saved 1625 (3.4% fewer) so far\n",
        "[Epoch  19] Test Accuracy = 70.60%\n",
        "Training Target Model:   7%|▋         | 20/300 [08:01<1:51:05, 23.80s/it][Epoch  20] Cumulative samples—baseline would be 50560, actually used 48877, saved 1683 (3.3% fewer) so far\n",
        "[Epoch  20] Test Accuracy = 69.89%\n",
        "Training Target Model:   7%|▋         | 21/300 [08:25<1:50:33, 23.78s/it][Epoch  21] Cumulative samples—baseline would be 53088, actually used 51351, saved 1737 (3.3% fewer) so far\n",
        "[Epoch  21] Test Accuracy = 74.20%\n",
        "Training Target Model:   7%|▋         | 22/300 [08:49<1:50:14, 23.79s/it][Epoch  22] Cumulative samples—baseline would be 55616, actually used 53805, saved 1811 (3.3% fewer) so far\n",
        "[Epoch  22] Test Accuracy = 71.51%\n",
        "Training Target Model:   8%|▊         | 23/300 [09:12<1:49:43, 23.77s/it][Epoch  23] Cumulative samples—baseline would be 58144, actually used 56264, saved 1880 (3.2% fewer) so far\n",
        "[Epoch  23] Test Accuracy = 73.77%\n",
        "Training Target Model:   8%|▊         | 24/300 [09:36<1:49:16, 23.75s/it][Epoch  24] Cumulative samples—baseline would be 60672, actually used 58721, saved 1951 (3.2% fewer) so far\n",
        "[Epoch  24] Test Accuracy = 70.49%\n",
        "Training Target Model:   8%|▊         | 25/300 [10:00<1:49:05, 23.80s/it][Epoch  25] Cumulative samples—baseline would be 63200, actually used 61187, saved 2013 (3.2% fewer) so far\n",
        "[Epoch  25] Test Accuracy = 74.07%\n",
        "Training Target Model:   9%|▊         | 26/300 [10:24<1:48:41, 23.80s/it][Epoch  26] Cumulative samples—baseline would be 65728, actually used 63657, saved 2071 (3.2% fewer) so far\n",
        "[Epoch  26] Test Accuracy = 74.76%\n",
        "Training Target Model:   9%|▉         | 27/300 [10:48<1:48:28, 23.84s/it][Epoch  27] Cumulative samples—baseline would be 68256, actually used 66121, saved 2135 (3.1% fewer) so far\n",
        "[Epoch  27] Test Accuracy = 74.48%\n",
        "Training Target Model:   9%|▉         | 28/300 [11:11<1:47:59, 23.82s/it][Epoch  28] Cumulative samples—baseline would be 70784, actually used 68573, saved 2211 (3.1% fewer) so far\n",
        "[Epoch  28] Test Accuracy = 76.09%\n",
        "Training Target Model:  10%|▉         | 29/300 [11:35<1:47:38, 23.83s/it][Epoch  29] Cumulative samples—baseline would be 73312, actually used 71045, saved 2267 (3.1% fewer) so far\n",
        "[Epoch  29] Test Accuracy = 74.92%\n",
        "Training Target Model:  10%|█         | 30/300 [11:59<1:47:15, 23.84s/it][Epoch  30] Cumulative samples—baseline would be 75840, actually used 73514, saved 2326 (3.1% fewer) so far\n",
        "[Epoch  30] Test Accuracy = 76.39%\n",
        "Training Target Model:  10%|█         | 31/300 [12:23<1:46:44, 23.81s/it][Epoch  31] Cumulative samples—baseline would be 78368, actually used 75975, saved 2393 (3.1% fewer) so far\n",
        "[Epoch  31] Test Accuracy = 77.34%\n",
        "Training Target Model:  11%|█         | 32/300 [12:47<1:46:19, 23.80s/it][Epoch  32] Cumulative samples—baseline would be 80896, actually used 78446, saved 2450 (3.0% fewer) so far\n",
        "[Epoch  32] Test Accuracy = 75.49%\n",
        "Training Target Model:  11%|█         | 33/300 [13:10<1:45:57, 23.81s/it][Epoch  33] Cumulative samples—baseline would be 83424, actually used 80911, saved 2513 (3.0% fewer) so far\n",
        "[Epoch  33] Test Accuracy = 76.89%\n",
        "Training Target Model:  11%|█▏        | 34/300 [13:34<1:45:28, 23.79s/it][Epoch  34] Cumulative samples—baseline would be 85952, actually used 83376, saved 2576 (3.0% fewer) so far\n",
        "[Epoch  34] Test Accuracy = 78.40%\n",
        "Training Target Model:  12%|█▏        | 35/300 [13:58<1:45:04, 23.79s/it][Epoch  35] Cumulative samples—baseline would be 88480, actually used 85847, saved 2633 (3.0% fewer) so far\n",
        "[Epoch  35] Test Accuracy = 78.16%\n",
        "Training Target Model:  12%|█▏        | 36/300 [14:22<1:44:37, 23.78s/it][Epoch  36] Cumulative samples—baseline would be 91008, actually used 88323, saved 2685 (3.0% fewer) so far\n",
        "[Epoch  36] Test Accuracy = 77.87%\n",
        "Training Target Model:  12%|█▏        | 37/300 [14:46<1:44:24, 23.82s/it][Epoch  37] Cumulative samples—baseline would be 93536, actually used 90789, saved 2747 (2.9% fewer) so far\n",
        "[Epoch  37] Test Accuracy = 78.41%\n",
        "Training Target Model:  13%|█▎        | 38/300 [15:09<1:43:59, 23.81s/it][Epoch  38] Cumulative samples—baseline would be 96064, actually used 93259, saved 2805 (2.9% fewer) so far\n",
        "[Epoch  38] Test Accuracy = 79.12%\n",
        "Training Target Model:  13%|█▎        | 39/300 [15:33<1:43:28, 23.79s/it][Epoch  39] Cumulative samples—baseline would be 98592, actually used 95720, saved 2872 (2.9% fewer) so far\n",
        "[Epoch  39] Test Accuracy = 79.87%\n",
        "Training Target Model:  13%|█▎        | 40/300 [15:57<1:43:07, 23.80s/it][Epoch  40] Cumulative samples—baseline would be 101120, actually used 98188, saved 2932 (2.9% fewer) so far\n",
        "[Epoch  40] Test Accuracy = 78.24%\n",
        "Training Target Model:  14%|█▎        | 41/300 [16:21<1:43:22, 23.95s/it][Epoch  41] Cumulative samples—baseline would be 103648, actually used 100647, saved 3001 (2.9% fewer) so far\n",
        "[Epoch  41] Test Accuracy = 80.51%\n",
        "Training Target Model:  14%|█▍        | 42/300 [16:45<1:42:44, 23.89s/it][Epoch  42] Cumulative samples—baseline would be 106176, actually used 103115, saved 3061 (2.9% fewer) so far\n",
        "[Epoch  42] Test Accuracy = 80.69%\n",
        "Training Target Model:  14%|█▍        | 43/300 [17:09<1:42:13, 23.87s/it][Epoch  43] Cumulative samples—baseline would be 108704, actually used 105580, saved 3124 (2.9% fewer) so far\n",
        "[Epoch  43] Test Accuracy = 79.28%\n",
        "Training Target Model:  15%|█▍        | 44/300 [17:33<1:41:40, 23.83s/it][Epoch  44] Cumulative samples—baseline would be 111232, actually used 108052, saved 3180 (2.9% fewer) so far\n",
        "[Epoch  44] Test Accuracy = 79.05%\n",
        "Training Target Model:  15%|█▌        | 45/300 [17:56<1:41:14, 23.82s/it][Epoch  45] Cumulative samples—baseline would be 113760, actually used 110525, saved 3235 (2.8% fewer) so far\n",
        "[Epoch  45] Test Accuracy = 79.27%\n",
        "Training Target Model:  15%|█▌        | 46/300 [18:20<1:40:47, 23.81s/it][Epoch  46] Cumulative samples—baseline would be 116288, actually used 112996, saved 3292 (2.8% fewer) so far\n",
        "[Epoch  46] Test Accuracy = 77.61%\n",
        "Training Target Model:  16%|█▌        | 47/300 [18:44<1:40:23, 23.81s/it][Epoch  47] Cumulative samples—baseline would be 118816, actually used 115461, saved 3355 (2.8% fewer) so far\n",
        "[Epoch  47] Test Accuracy = 80.60%\n",
        "Training Target Model:  16%|█▌        | 48/300 [19:08<1:40:03, 23.82s/it][Epoch  48] Cumulative samples—baseline would be 121344, actually used 117927, saved 3417 (2.8% fewer) so far\n",
        "[Epoch  48] Test Accuracy = 80.03%\n",
        "Training Target Model:  16%|█▋        | 49/300 [19:32<1:39:47, 23.86s/it][Epoch  49] Cumulative samples—baseline would be 123872, actually used 120387, saved 3485 (2.8% fewer) so far\n",
        "[Epoch  49] Test Accuracy = 80.60%\n",
        "Training Target Model:  17%|█▋        | 50/300 [19:57<1:40:29, 24.12s/it][Epoch  50] Cumulative samples—baseline would be 126400, actually used 122868, saved 3532 (2.8% fewer) so far\n",
        "[Epoch  50] Test Accuracy = 79.88%\n",
        "Training Target Model:  17%|█▋        | 51/300 [20:21<1:39:53, 24.07s/it][Epoch  51] Cumulative samples—baseline would be 128928, actually used 125334, saved 3594 (2.8% fewer) so far\n",
        "[Epoch  51] Test Accuracy = 80.44%\n",
        "Training Target Model:  17%|█▋        | 52/300 [20:44<1:39:20, 24.04s/it][Epoch  52] Cumulative samples—baseline would be 131456, actually used 127780, saved 3676 (2.8% fewer) so far\n",
        "[Epoch  52] Test Accuracy = 81.70%\n",
        "Training Target Model:  18%|█▊        | 53/300 [21:09<1:39:01, 24.05s/it][Epoch  53] Cumulative samples—baseline would be 133984, actually used 130255, saved 3729 (2.8% fewer) so far\n",
        "[Epoch  53] Test Accuracy = 81.56%\n",
        "Training Target Model:  18%|█▊        | 54/300 [21:33<1:38:38, 24.06s/it][Epoch  54] Cumulative samples—baseline would be 136512, actually used 132712, saved 3800 (2.8% fewer) so far\n",
        "[Epoch  54] Test Accuracy = 81.68%\n",
        "Training Target Model:  18%|█▊        | 55/300 [21:57<1:38:15, 24.06s/it][Epoch  55] Cumulative samples—baseline would be 139040, actually used 135182, saved 3858 (2.8% fewer) so far\n",
        "[Epoch  55] Test Accuracy = 80.47%\n",
        "Training Target Model:  19%|█▊        | 56/300 [22:21<1:38:06, 24.13s/it][Epoch  56] Cumulative samples—baseline would be 141568, actually used 137641, saved 3927 (2.8% fewer) so far\n",
        "[Epoch  56] Test Accuracy = 82.59%\n",
        "Training Target Model:  19%|█▉        | 57/300 [22:45<1:37:49, 24.15s/it][Epoch  57] Cumulative samples—baseline would be 144096, actually used 140104, saved 3992 (2.8% fewer) so far\n",
        "[Epoch  57] Test Accuracy = 81.53%\n",
        "Training Target Model:  19%|█▉        | 58/300 [23:10<1:37:43, 24.23s/it][Epoch  58] Cumulative samples—baseline would be 146624, actually used 142579, saved 4045 (2.8% fewer) so far\n",
        "[Epoch  58] Test Accuracy = 82.42%\n",
        "Training Target Model:  19%|█▉        | 58/300 [23:38<1:38:39, 24.46s/it]\n",
        "---------------------------------------------------------------------------\n",
        "KeyboardInterrupt                         Traceback (most recent call last)\n",
        "<ipython-input-13-134be5a95ac7> in <cell line: 0>()\n",
        "     78             x, y = x.to(device), y.to(device)\n",
        "     79             pred = target_model(x).argmax(1)\n",
        "---> 80             correct += (pred == y).sum().item()\n",
        "     81             total += y.size(0)\n",
        "     82     acc = 100.0 * correct / total\n",
        "\n",
        "KeyboardInterrupt:\n",
        "\n",
        "    \"\"\"  # <-- your full log here\n",
        "\n",
        "    accuracies = extract_accuracies(log_str)\n",
        "    print(accuracies)  # prints: [27.38, 30.19, 38.01]\n"
      ],
      "metadata": {
        "colab": {
          "base_uri": "https://localhost:8080/"
        },
        "id": "eE5aaNpxQ1mK",
        "outputId": "1c5e2402-fb4f-42a3-e102-8cba0f054ec6"
      },
      "execution_count": null,
      "outputs": [
        {
          "output_type": "stream",
          "name": "stdout",
          "text": [
            "[25.48, 34.48, 35.67, 41.53, 40.29, 45.12, 52.0, 50.48, 55.1, 52.55, 56.56, 58.57, 59.18, 62.5, 64.93, 65.59, 69.82, 68.82, 70.6, 69.89, 74.2, 71.51, 73.77, 70.49, 74.07, 74.76, 74.48, 76.09, 74.92, 76.39, 77.34, 75.49, 76.89, 78.4, 78.16, 77.87, 78.41, 79.12, 79.87, 78.24, 80.51, 80.69, 79.28, 79.05, 79.27, 77.61, 80.6, 80.03, 80.6, 79.88, 80.44, 81.7, 81.56, 81.68, 80.47, 82.59, 81.53, 82.42]\n"
          ]
        }
      ]
    },
    {
      "cell_type": "code",
      "source": [
        "import re\n",
        "\n",
        "def extract_accuracies(log_text: str) -> List[float]:\n",
        "    \"\"\"\n",
        "    Extracts all floating‑point numbers immediately following 'Accuracy =' in the log.\n",
        "    Works for lines like:\n",
        "      [Epoch   1] Test Accuracy = 25.48%\n",
        "      Epoch 10: Accuracy = 52.55%\n",
        "    \"\"\"\n",
        "    pattern = r\"Accuracy\\s*=\\s*([\\d\\.]+)%\"\n",
        "    return [float(m.group(1)) for m in re.finditer(pattern, log_text)]\n",
        "# --- Example usage ---\n",
        "if __name__ == \"__main__\":\n",
        "    log_str = \"\"\"\n",
        "    Training Target Model:   0%|          | 1/299 [00:24<2:01:57, 24.56s/it][Target Model] Epoch 1: Accuracy = 27.38%\n",
        "Training Target Model:   1%|          | 2/299 [00:49<2:03:06, 24.87s/it][Target Model] Epoch 2: Accuracy = 30.19%\n",
        "Training Target Model:   1%|          | 3/299 [01:13<2:01:01, 24.53s/it][Target Model] Epoch 3: Accuracy = 38.01%\n",
        "Training Target Model:   1%|▏         | 4/299 [01:37<1:59:54, 24.39s/it][Target Model] Epoch 4: Accuracy = 34.03%\n",
        "Training Target Model:   2%|▏         | 5/299 [02:02<1:59:17, 24.34s/it][Target Model] Epoch 5: Accuracy = 42.23%\n",
        "Training Target Model:   2%|▏         | 6/299 [02:26<1:58:39, 24.30s/it][Target Model] Epoch 6: Accuracy = 35.39%\n",
        "Training Target Model:   2%|▏         | 7/299 [02:50<1:57:52, 24.22s/it][Target Model] Epoch 7: Accuracy = 49.84%\n",
        "Training Target Model:   3%|▎         | 8/299 [03:14<1:56:58, 24.12s/it][Target Model] Epoch 8: Accuracy = 51.95%\n",
        "Training Target Model:   3%|▎         | 9/299 [03:38<1:55:59, 24.00s/it][Target Model] Epoch 9: Accuracy = 52.67%\n",
        "Training Target Model:   3%|▎         | 10/299 [04:01<1:55:08, 23.91s/it][Target Model] Epoch 10: Accuracy = 59.92%\n",
        "Training Target Model:   4%|▎         | 11/299 [04:25<1:54:36, 23.88s/it][Target Model] Epoch 11: Accuracy = 63.54%\n",
        "Training Target Model:   4%|▍         | 12/299 [04:50<1:55:17, 24.10s/it][Target Model] Epoch 12: Accuracy = 59.04%\n",
        "Training Target Model:   4%|▍         | 13/299 [05:13<1:54:19, 23.98s/it][Target Model] Epoch 13: Accuracy = 65.04%\n",
        "Training Target Model:   5%|▍         | 14/299 [05:37<1:53:30, 23.89s/it][Target Model] Epoch 14: Accuracy = 67.42%\n",
        "Training Target Model:   5%|▌         | 15/299 [06:01<1:52:49, 23.84s/it][Target Model] Epoch 15: Accuracy = 65.18%\n",
        "Training Target Model:   5%|▌         | 16/299 [06:25<1:52:11, 23.79s/it][Target Model] Epoch 16: Accuracy = 69.44%\n",
        "Training Target Model:   6%|▌         | 17/299 [06:48<1:51:37, 23.75s/it][Target Model] Epoch 17: Accuracy = 70.48%\n",
        "Training Target Model:   6%|▌         | 18/299 [07:12<1:51:08, 23.73s/it][Target Model] Epoch 18: Accuracy = 69.70%\n",
        "Training Target Model:   6%|▋         | 19/299 [07:36<1:50:38, 23.71s/it][Target Model] Epoch 19: Accuracy = 71.65%\n",
        "Training Target Model:   7%|▋         | 20/299 [07:59<1:50:09, 23.69s/it][Target Model] Epoch 20: Accuracy = 69.85%\n",
        "Training Target Model:   7%|▋         | 21/299 [08:23<1:49:47, 23.70s/it][Target Model] Epoch 21: Accuracy = 73.87%\n",
        "Training Target Model:   7%|▋         | 22/299 [08:47<1:49:25, 23.70s/it][Target Model] Epoch 22: Accuracy = 75.10%\n",
        "Training Target Model:   8%|▊         | 23/299 [09:10<1:49:07, 23.72s/it][Target Model] Epoch 23: Accuracy = 74.25%\n",
        "Training Target Model:   8%|▊         | 24/299 [09:34<1:48:39, 23.71s/it][Target Model] Epoch 24: Accuracy = 75.28%\n",
        "Training Target Model:   8%|▊         | 25/299 [09:58<1:48:14, 23.70s/it][Target Model] Epoch 25: Accuracy = 76.41%\n",
        "Training Target Model:   9%|▊         | 26/299 [10:21<1:47:48, 23.70s/it][Target Model] Epoch 26: Accuracy = 76.63%\n",
        "Training Target Model:   9%|▉         | 27/299 [10:45<1:47:25, 23.70s/it][Target Model] Epoch 27: Accuracy = 76.64%\n",
        "Training Target Model:   9%|▉         | 28/299 [11:09<1:46:58, 23.68s/it][Target Model] Epoch 28: Accuracy = 77.90%\n",
        "Training Target Model:  10%|▉         | 29/299 [11:32<1:46:37, 23.70s/it][Target Model] Epoch 29: Accuracy = 76.58%\n",
        "Training Target Model:  10%|█         | 30/299 [11:56<1:46:14, 23.70s/it][Target Model] Epoch 30: Accuracy = 77.20%\n",
        "Training Target Model:  10%|█         | 31/299 [12:20<1:45:51, 23.70s/it][Target Model] Epoch 31: Accuracy = 77.18%\n",
        "Training Target Model:  11%|█         | 32/299 [12:44<1:45:20, 23.67s/it][Target Model] Epoch 32: Accuracy = 77.96%\n",
        "Training Target Model:  11%|█         | 33/299 [13:07<1:44:54, 23.66s/it][Target Model] Epoch 33: Accuracy = 78.70%\n",
        "Training Target Model:  11%|█▏        | 34/299 [13:31<1:44:26, 23.65s/it][Target Model] Epoch 34: Accuracy = 78.38%\n",
        "Training Target Model:  12%|█▏        | 35/299 [13:55<1:44:13, 23.69s/it][Target Model] Epoch 35: Accuracy = 78.33%\n",
        "Training Target Model:  12%|█▏        | 36/299 [14:18<1:43:47, 23.68s/it][Target Model] Epoch 36: Accuracy = 79.00%\n",
        "Training Target Model:  12%|█▏        | 37/299 [14:42<1:43:16, 23.65s/it][Target Model] Epoch 37: Accuracy = 79.19%\n",
        "Training Target Model:  13%|█▎        | 38/299 [15:05<1:42:55, 23.66s/it][Target Model] Epoch 38: Accuracy = 78.85%\n",
        "Training Target Model:  13%|█▎        | 39/299 [15:29<1:42:46, 23.72s/it][Target Model] Epoch 39: Accuracy = 78.78%\n",
        "Training Target Model:  13%|█▎        | 40/299 [15:53<1:42:45, 23.80s/it][Target Model] Epoch 40: Accuracy = 79.58%\n",
        "Training Target Model:  14%|█▎        | 41/299 [16:17<1:42:34, 23.85s/it][Target Model] Epoch 41: Accuracy = 78.85%\n",
        "Training Target Model:  14%|█▍        | 42/299 [16:41<1:42:32, 23.94s/it][Target Model] Epoch 42: Accuracy = 79.23%\n",
        "Training Target Model:  14%|█▍        | 43/299 [17:06<1:42:28, 24.02s/it][Target Model] Epoch 43: Accuracy = 78.74%\n",
        "Training Target Model:  15%|█▍        | 44/299 [17:30<1:42:20, 24.08s/it][Target Model] Epoch 44: Accuracy = 79.92%\n",
        "Training Target Model:  15%|█▌        | 45/299 [17:54<1:42:14, 24.15s/it][Target Model] Epoch 45: Accuracy = 80.24%\n",
        "✅ Reached 80% at epoch 45\n",
        "Training Target Model:  15%|█▌        | 46/299 [18:19<1:42:12, 24.24s/it][Target Model] Epoch 46: Accuracy = 79.93%\n",
        "Training Target Model:  16%|█▌        | 47/299 [18:43<1:41:47, 24.24s/it][Target Model] Epoch 47: Accuracy = 80.94%\n",
        "Training Target Model:  16%|█▌        | 48/299 [19:07<1:41:24, 24.24s/it][Target Model] Epoch 48: Accuracy = 80.94%\n",
        "Training Target Model:  16%|█▋        | 49/299 [19:31<1:41:02, 24.25s/it][Target Model] Epoch 49: Accuracy = 81.37%\n",
        "Training Target Model:  17%|█▋        | 50/299 [19:56<1:40:40, 24.26s/it][Target Model] Epoch 50: Accuracy = 80.52%\n",
        "Training Target Model:  17%|█▋        | 51/299 [20:20<1:40:03, 24.21s/it][Target Model] Epoch 51: Accuracy = 80.29%\n",
        "Training Target Model:  17%|█▋        | 52/299 [20:44<1:39:31, 24.17s/it][Target Model] Epoch 52: Accuracy = 81.07%\n",
        "Training Target Model:  18%|█▊        | 53/299 [21:08<1:38:54, 24.12s/it][Target Model] Epoch 53: Accuracy = 82.32%\n",
        "Training Target Model:  18%|█▊        | 54/299 [21:32<1:38:24, 24.10s/it][Target Model] Epoch 54: Accuracy = 81.88%\n",
        "Training Target Model:  18%|█▊        | 55/299 [21:56<1:37:53, 24.07s/it][Target Model] Epoch 55: Accuracy = 80.41%\n",
        "Training Target Model:  19%|█▊        | 56/299 [22:20<1:37:06, 23.98s/it][Target Model] Epoch 56: Accuracy = 81.28%\n",
        "Training Target Model:  19%|█▉        | 57/299 [22:43<1:36:25, 23.91s/it][Target Model] Epoch 57: Accuracy = 81.85%\n",
        "Training Target Model:  19%|█▉        | 58/299 [23:07<1:35:43, 23.83s/it][Target Model] Epoch 58: Accuracy = 81.84%\n",
        "Training Target Model:  20%|█▉        | 59/299 [23:31<1:35:10, 23.79s/it][Target Model] Epoch 59: Accuracy = 80.17%\n",
        "Training Target Model:  20%|██        | 60/299 [23:54<1:34:34, 23.74s/it][Target Model] Epoch 60: Accuracy = 82.12%\n",
        "Training Target Model:  20%|██        | 61/299 [24:18<1:34:02, 23.71s/it][Target Model] Epoch 61: Accuracy = 81.09%\n",
        "Training Target Model:  21%|██        | 62/299 [24:42<1:33:32, 23.68s/it][Target Model] Epoch 62: Accuracy = 83.73%\n",
        "Training Target Model:  21%|██        | 63/299 [25:05<1:33:00, 23.65s/it][Target Model] Epoch 63: Accuracy = 82.99%\n",
        "Training Target Model:  21%|██▏       | 64/299 [25:29<1:32:38, 23.65s/it][Target Model] Epoch 64: Accuracy = 82.30%\n",
        "Training Target Model:  22%|██▏       | 65/299 [25:53<1:32:15, 23.66s/it][Target Model] Epoch 65: Accuracy = 83.61%\n",
        "Training Target Model:  22%|██▏       | 66/299 [26:16<1:31:53, 23.66s/it][Target Model] Epoch 66: Accuracy = 82.39%\n",
        "Training Target Model:  22%|██▏       | 67/299 [26:40<1:31:30, 23.67s/it][Target Model] Epoch 67: Accuracy = 80.86%\n",
        "Training Target Model:  23%|██▎       | 68/299 [27:04<1:31:05, 23.66s/it][Target Model] Epoch 68: Accuracy = 82.72%\n",
        "Training Target Model:  23%|██▎       | 69/299 [27:27<1:30:43, 23.67s/it][Target Model] Epoch 69: Accuracy = 83.67%\n",
        "Training Target Model:  23%|██▎       | 70/299 [27:51<1:30:20, 23.67s/it][Target Model] Epoch 70: Accuracy = 83.50%\n",
        "Training Target Model:  24%|██▎       | 71/299 [28:15<1:29:56, 23.67s/it][Target Model] Epoch 71: Accuracy = 83.89%\n",
        "Training Target Model:  24%|██▍       | 72/299 [28:38<1:29:32, 23.67s/it][Target Model] Epoch 72: Accuracy = 82.74%\n",
        "Training Target Model:  24%|██▍       | 73/299 [29:02<1:29:05, 23.65s/it][Target Model] Epoch 73: Accuracy = 82.89%\n",
        "Training Target Model:  25%|██▍       | 74/299 [29:25<1:28:38, 23.64s/it][Target Model] Epoch 74: Accuracy = 83.68%\n",
        "Training Target Model:  25%|██▌       | 75/299 [29:49<1:28:13, 23.63s/it][Target Model] Epoch 75: Accuracy = 84.74%\n",
        "Training Target Model:  25%|██▌       | 76/299 [30:13<1:27:53, 23.65s/it][Target Model] Epoch 76: Accuracy = 84.41%\n",
        "Training Target Model:  26%|██▌       | 77/299 [30:37<1:27:49, 23.74s/it][Target Model] Epoch 77: Accuracy = 84.25%\n",
        "Training Target Model:  26%|██▌       | 78/299 [31:01<1:27:58, 23.89s/it][Target Model] Epoch 78: Accuracy = 83.20%\n",
        "Training Target Model:  26%|██▋       | 79/299 [31:25<1:27:51, 23.96s/it][Target Model] Epoch 79: Accuracy = 84.05%\n",
        "Training Target Model:  27%|██▋       | 80/299 [31:49<1:27:42, 24.03s/it][Target Model] Epoch 80: Accuracy = 83.92%\n",
        "Training Target Model:  27%|██▋       | 81/299 [32:14<1:27:43, 24.14s/it][Target Model] Epoch 81: Accuracy = 83.50%\n",
        "Training Target Model:  27%|██▋       | 82/299 [32:38<1:27:27, 24.18s/it][Target Model] Epoch 82: Accuracy = 83.69%\n",
        "Training Target Model:  28%|██▊       | 83/299 [33:02<1:27:13, 24.23s/it][Target Model] Epoch 83: Accuracy = 84.31%\n",
        "Training Target Model:  28%|██▊       | 84/299 [33:26<1:26:49, 24.23s/it][Target Model] Epoch 84: Accuracy = 83.84%\n",
        "Training Target Model:  28%|██▊       | 85/299 [33:51<1:26:26, 24.23s/it][Target Model] Epoch 85: Accuracy = 83.79%\n",
        "Training Target Model:  29%|██▉       | 86/299 [34:15<1:25:56, 24.21s/it][Target Model] Epoch 86: Accuracy = 83.60%\n",
        "Training Target Model:  29%|██▉       | 87/299 [34:39<1:25:16, 24.13s/it][Target Model] Epoch 87: Accuracy = 85.32%\n",
        "Training Target Model:  29%|██▉       | 88/299 [35:03<1:24:45, 24.10s/it][Target Model] Epoch 88: Accuracy = 85.24%\n",
        "Training Target Model:  30%|██▉       | 89/299 [35:27<1:24:01, 24.01s/it][Target Model] Epoch 89: Accuracy = 84.02%\n",
        "Training Target Model:  30%|███       | 90/299 [35:50<1:23:14, 23.90s/it][Target Model] Epoch 90: Accuracy = 84.67%\n",
        "Training Target Model:  30%|███       | 91/299 [36:14<1:22:38, 23.84s/it][Target Model] Epoch 91: Accuracy = 84.93%\n",
        "Training Target Model:  31%|███       | 92/299 [36:38<1:22:04, 23.79s/it][Target Model] Epoch 92: Accuracy = 84.68%\n",
        "Training Target Model:  31%|███       | 93/299 [37:01<1:21:30, 23.74s/it][Target Model] Epoch 93: Accuracy = 84.59%\n",
        "Training Target Model:  31%|███▏      | 94/299 [37:25<1:20:58, 23.70s/it][Target Model] Epoch 94: Accuracy = 85.06%\n",
        "Training Target Model:  32%|███▏      | 95/299 [37:49<1:20:31, 23.68s/it][Target Model] Epoch 95: Accuracy = 84.51%\n",
        "Training Target Model:  32%|███▏      | 96/299 [38:12<1:20:06, 23.68s/it][Target Model] Epoch 96: Accuracy = 84.22%\n",
        "Training Target Model:  32%|███▏      | 97/299 [38:36<1:19:38, 23.66s/it][Target Model] Epoch 97: Accuracy = 85.14%\n",
        "Training Target Model:  33%|███▎      | 98/299 [38:59<1:19:12, 23.64s/it][Target Model] Epoch 98: Accuracy = 84.21%\n",
        "Training Target Model:  33%|███▎      | 99/299 [39:23<1:18:44, 23.62s/it][Target Model] Epoch 99: Accuracy = 84.30%\n",
        "Training Target Model:  33%|███▎      | 100/299 [39:47<1:18:19, 23.61s/it][Target Model] Epoch 100: Accuracy = 85.47%\n",
        "Training Target Model:  33%|███▎      | 100/299 [39:47<1:19:11, 23.87s/it]\n",
        "---------------------------------------------------------------------------\n",
        "KeyboardInterrupt                         Traceback (most recent call last)\n",
        "<ipython-input-10-75356b6ed319> in <cell line: 0>()\n",
        "     20             continue  # skip if batch too small\n",
        "     21\n",
        "---> 22         x_tensor = torch.stack(x_b).to(device)\n",
        "     23         y_tensor = torch.tensor(y_b).to(device)\n",
        "     24         il_tensor = torch.tensor(il_b).to(device)\n",
        "\n",
        "KeyboardInterrupt:\n",
        "\n",
        "\n",
        "    \"\"\"  # <-- your full log here\n",
        "\n",
        "    accuracies = extract_accuracies(log_str)\n",
        "    print(accuracies)  # prints: [27.38, 30.19, 38.01]\n"
      ],
      "metadata": {
        "colab": {
          "base_uri": "https://localhost:8080/"
        },
        "id": "UTFyLENKRG7Y",
        "outputId": "e46450eb-1198-4c04-9643-999f253aa4dd"
      },
      "execution_count": null,
      "outputs": [
        {
          "output_type": "stream",
          "name": "stdout",
          "text": [
            "[27.38, 30.19, 38.01, 34.03, 42.23, 35.39, 49.84, 51.95, 52.67, 59.92, 63.54, 59.04, 65.04, 67.42, 65.18, 69.44, 70.48, 69.7, 71.65, 69.85, 73.87, 75.1, 74.25, 75.28, 76.41, 76.63, 76.64, 77.9, 76.58, 77.2, 77.18, 77.96, 78.7, 78.38, 78.33, 79.0, 79.19, 78.85, 78.78, 79.58, 78.85, 79.23, 78.74, 79.92, 80.24, 79.93, 80.94, 80.94, 81.37, 80.52, 80.29, 81.07, 82.32, 81.88, 80.41, 81.28, 81.85, 81.84, 80.17, 82.12, 81.09, 83.73, 82.99, 82.3, 83.61, 82.39, 80.86, 82.72, 83.67, 83.5, 83.89, 82.74, 82.89, 83.68, 84.74, 84.41, 84.25, 83.2, 84.05, 83.92, 83.5, 83.69, 84.31, 83.84, 83.79, 83.6, 85.32, 85.24, 84.02, 84.67, 84.93, 84.68, 84.59, 85.06, 84.51, 84.22, 85.14, 84.21, 84.3, 85.47]\n"
          ]
        }
      ]
    },
    {
      "cell_type": "code",
      "source": [
        "import matplotlib.pyplot as plt\n",
        "\n",
        "# Accuracy per epoch (first 50 epochs)\n",
        "ema_adaptive_rho = [\n",
        "    25.48, 34.48, 35.67, 41.53, 40.29, 45.12, 52.0, 50.48, 55.1, 52.55,\n",
        "    56.56, 58.57, 59.18, 62.5, 64.93, 65.59, 69.82, 68.82, 70.6, 69.89,\n",
        "    74.2, 71.51, 73.77, 70.49, 74.07, 74.76, 74.48, 76.09, 74.92, 76.39,\n",
        "    77.34, 75.49, 76.89, 78.4, 78.16, 77.87, 78.41, 79.12, 79.87, 78.24,\n",
        "    80.51, 80.69, 79.28, 79.05, 79.27, 77.61, 80.6, 80.03, 80.6, 79.88\n",
        "]\n",
        "\n",
        "generic_rho = [\n",
        "    27.38, 30.19, 38.01, 34.03, 42.23, 35.39, 49.84, 51.95, 52.67, 59.92,\n",
        "    63.54, 59.04, 65.04, 67.42, 65.18, 69.44, 70.48, 69.7, 71.65, 69.85,\n",
        "    73.87, 75.1, 74.25, 75.28, 76.41, 76.63, 76.64, 77.9, 76.58, 77.2,\n",
        "    77.18, 77.96, 78.7, 78.38, 78.33, 79.0, 79.19, 78.85, 78.78, 79.58,\n",
        "    78.85, 79.23, 78.74, 79.92, 80.24, 79.93, 80.94, 80.94, 81.37, 80.52\n",
        "]\n",
        "\n",
        "epochs = list(range(1, 51))\n",
        "thresholds = [50, 60, 70, 80]\n",
        "\n",
        "def mark_thresholds(ax, data, label, color):\n",
        "    for thresh in thresholds:\n",
        "        for i, val in enumerate(data):\n",
        "            if val >= thresh:\n",
        "                ax.axvline(i + 1, linestyle='--', alpha=0.3, color=color)\n",
        "                ax.text(i + 1, val + 0.5, f'{label}: {thresh}% @ {i+1}', rotation=90,\n",
        "                        verticalalignment='bottom', fontsize=8, color=color)\n",
        "                break\n",
        "\n",
        "plt.figure(figsize=(12, 9))\n",
        "plt.plot(epochs, ema_adaptive_rho, label='EMA-Adaptive RHO', linewidth=2, color='tab:blue')\n",
        "plt.plot(epochs, generic_rho, label='Generic RHO', linewidth=2, color='tab:orange')\n",
        "\n",
        "ax = plt.gca()\n",
        "mark_thresholds(ax, ema_adaptive_rho, \"EMA-Adaptive\", \"tab:blue\")\n",
        "mark_thresholds(ax, generic_rho, \"Generic\", \"tab:orange\")\n",
        "\n",
        "plt.title(\"Test Accuracy vs. Epochs (First 50 Epochs)\")\n",
        "plt.xlabel(\"Epoch\")\n",
        "plt.ylabel(\"Accuracy (%)\")\n",
        "plt.legend()\n",
        "plt.grid(True)\n",
        "plt.tight_layout()\n",
        "plt.show()\n"
      ],
      "metadata": {
        "colab": {
          "base_uri": "https://localhost:8080/",
          "height": 848
        },
        "id": "yGzZVkLOVdsZ",
        "outputId": "1e2d5b93-b661-4780-b4ca-4cb0737dec24"
      },
      "execution_count": null,
      "outputs": [
        {
          "output_type": "display_data",
          "data": {
            "text/plain": [
              "<Figure size 1200x900 with 1 Axes>"
            ],
            "image/png": "[encoded data removed]"
          },
          "metadata": {}
        }
      ]
    },
    {
      "cell_type": "code",
      "source": [
        "import matplotlib.pyplot as plt\n",
        "\n",
        "# Epochs 1 to 58\n",
        "epochs = list(range(1, 59))\n",
        "\n",
        "# Baseline samples: 2528 per epoch (fixed batch size of 320, top-32 kept, 10% = 2528 per epoch)\n",
        "baseline_samples = [2528 * i for i in epochs]\n",
        "\n",
        "# Actual samples used by EMA-Adaptive RHO (from training log)\n",
        "actual_samples = [\n",
        "    2340, 4749, 7186, 9636, 12060, 14486, 16922, 19379, 21815, 24259,\n",
        "    26707, 29170, 31642, 34092, 36539, 39004, 41475, 43940, 46407, 48877,\n",
        "    51351, 53805, 56264, 58721, 61187, 63657, 66121, 68573, 71045, 73514,\n",
        "    75975, 78446, 80911, 83376, 85847, 88323, 90789, 93259, 95720, 98188,\n",
        "    100647, 103115, 105580, 108052, 110525, 112996, 115461, 117927, 120387,\n",
        "    122868, 125334, 127780, 130255, 132712, 135182, 137641, 140104, 142579\n",
        "]\n",
        "\n",
        "# Plotting\n",
        "plt.figure(figsize=(12, 6))\n",
        "plt.plot(epochs, baseline_samples, label=\"Generic RHO (Baseline Samples)\", linestyle='--', color='gray')\n",
        "plt.plot(epochs, actual_samples, label=\"EMA-Adaptive RHO (Actual Samples Used)\", linewidth=2, color='tab:blue')\n",
        "plt.fill_between(epochs, actual_samples, baseline_samples, color='lightblue', alpha=0.4, label=\"Samples Saved\")\n",
        "\n",
        "plt.title(\"Cumulative Training Samples Used Over Epochs\")\n",
        "plt.xlabel(\"Epoch\")\n",
        "plt.ylabel(\"Cumulative Samples\")\n",
        "plt.legend()\n",
        "plt.grid(True)\n",
        "plt.tight_layout()\n",
        "plt.show()\n"
      ],
      "metadata": {
        "colab": {
          "base_uri": "https://localhost:8080/",
          "height": 569
        },
        "id": "2CG3TLy1XDgx",
        "outputId": "8c80806b-5a37-48e8-9224-bf8412b14959"
      },
      "execution_count": null,
      "outputs": [
        {
          "output_type": "display_data",
          "data": {
            "text/plain": [
              "<Figure size 1200x600 with 1 Axes>"
            ],
            "image/png": "[encoded data removed]"
          },
          "metadata": {}
        }
      ]
    },
    {
      "cell_type": "markdown",
      "source": [
        "![image.png](data:image/png;base64,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)"
      ],
      "metadata": {
        "id": "s7FKBk28Mv-o"
      }
    }
  ]
}