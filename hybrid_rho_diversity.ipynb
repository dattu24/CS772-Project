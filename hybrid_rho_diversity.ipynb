{
  "nbformat": 4,
  "nbformat_minor": 0,
  "metadata": {
    "colab": {
      "provenance": [],
      "gpuType": "T4"
    },
    "kernelspec": {
      "name": "python3",
      "display_name": "Python 3"
    },
    "language_info": {
      "name": "python"
    },
    "accelerator": "GPU"
  },
  "cells": [
    {
      "cell_type": "code",
      "execution_count": null,
      "metadata": {
        "id": "GGyAdnIUE9dd"
      },
      "outputs": [],
      "source": []
    },
    {
      "cell_type": "code",
      "source": [
        "from pathlib import Path\n",
        "import numpy as np\n",
        "import copy\n",
        "import torch\n",
        "import torchvision\n",
        "from torch.utils.data import DataLoader, Subset\n",
        "from torchvision import transforms\n",
        "from torchvision.datasets import CIFAR10, MNIST, QMNIST\n",
        "from torchvision.transforms.transforms import Resize\n",
        "from typing import Any, Callable, Dict, List, Optional, Tuple\n",
        "import os\n",
        "import os.path\n",
        "import pickle\n",
        "from typing import Any, Callable, Optional, Tuple\n",
        "import numpy as np\n",
        "from PIL import Image\n",
        "from torchvision.datasets.utils import check_integrity, download_and_extract_archive\n",
        "from torchvision.datasets.vision import VisionDataset\n",
        "import torch\n",
        "import torch.nn as nn\n",
        "import torch.nn.functional as F\n",
        "import torchvision"
      ],
      "metadata": {
        "id": "cG4YqSpboPjh"
      },
      "execution_count": null,
      "outputs": []
    },
    {
      "cell_type": "markdown",
      "source": [
        "> **Architectures.** For experiments on CIFAR-10, CIFAR-100 and CINIC-10, we use a variant of ResNet-18 (He et al., 2016). We adapted the ResNet18 to 32x32 images by modifying the architecture to remove the downsampling effect. We replaced the spatial downsampling of a strided convolution and max pooling in the original ResNet18, with a convolutional layer with 64 filters and a kernel size of 3x3. We also removed the average pooling at the end of the ResNet18. This ResNet18 variant is similar to Resnet20, just with more filters\n",
        "\n",
        "**Resnet Architecture as mentioned in paper:** [ https://github.com/OATML/RHO-Loss/blob/4c88851742ce5397153f4fef80abd4682958ac56/src/models/modules/resnet_cifar.py#L86 ]\n"
      ],
      "metadata": {
        "id": "kP6alw6HoEpM"
      }
    },
    {
      "cell_type": "code",
      "source": [
        "class BasicBlock(nn.Module):\n",
        "    expansion = 1\n",
        "\n",
        "    def __init__(self, in_planes, planes, stride=1):\n",
        "        super(BasicBlock, self).__init__()\n",
        "        self.conv1 = nn.Conv2d(\n",
        "            in_planes, planes, kernel_size=3, stride=stride, padding=1, bias=False\n",
        "        )\n",
        "        self.bn1 = nn.BatchNorm2d(planes)\n",
        "        self.conv2 = nn.Conv2d(\n",
        "            planes, planes, kernel_size=3, stride=1, padding=1, bias=False\n",
        "        )\n",
        "        self.bn2 = nn.BatchNorm2d(planes)\n",
        "\n",
        "        self.shortcut = nn.Sequential()\n",
        "        if stride != 1 or in_planes != self.expansion * planes:\n",
        "            self.shortcut = nn.Sequential(\n",
        "                nn.Conv2d(\n",
        "                    in_planes,\n",
        "                    self.expansion * planes,\n",
        "                    kernel_size=1,\n",
        "                    stride=stride,\n",
        "                    bias=False,\n",
        "                ),\n",
        "                nn.BatchNorm2d(self.expansion * planes),\n",
        "            )\n",
        "\n",
        "    def forward(self, x):\n",
        "        out = F.relu(self.bn1(self.conv1(x)))\n",
        "        out = self.bn2(self.conv2(out))\n",
        "        out += self.shortcut(x)\n",
        "        out = F.relu(out)\n",
        "        return out\n",
        "\n",
        "\n",
        "class Bottleneck(nn.Module):\n",
        "    expansion = 4\n",
        "\n",
        "    def __init__(self, in_planes, planes, stride=1):\n",
        "        super(Bottleneck, self).__init__()\n",
        "        self.conv1 = nn.Conv2d(in_planes, planes, kernel_size=1, bias=False)\n",
        "        self.bn1 = nn.BatchNorm2d(planes)\n",
        "        self.conv2 = nn.Conv2d(\n",
        "            planes, planes, kernel_size=3, stride=stride, padding=1, bias=False\n",
        "        )\n",
        "        self.bn2 = nn.BatchNorm2d(planes)\n",
        "        self.conv3 = nn.Conv2d(\n",
        "            planes, self.expansion * planes, kernel_size=1, bias=False\n",
        "        )\n",
        "        self.bn3 = nn.BatchNorm2d(self.expansion * planes)\n",
        "\n",
        "        self.shortcut = nn.Sequential()\n",
        "        if stride != 1 or in_planes != self.expansion * planes:\n",
        "            self.shortcut = nn.Sequential(\n",
        "                nn.Conv2d(\n",
        "                    in_planes,\n",
        "                    self.expansion * planes,\n",
        "                    kernel_size=1,\n",
        "                    stride=stride,\n",
        "                    bias=False,\n",
        "                ),\n",
        "                nn.BatchNorm2d(self.expansion * planes),\n",
        "            )\n",
        "\n",
        "    def forward(self, x):\n",
        "        out = F.relu(self.bn1(self.conv1(x)))\n",
        "        out = F.relu(self.bn2(self.conv2(out)))\n",
        "        out = self.bn3(self.conv3(out))\n",
        "        out += self.shortcut(x)\n",
        "        out = F.relu(out)\n",
        "        return out\n",
        "\n",
        "\n",
        "class ResNet(nn.Module):\n",
        "    def __init__(self, block, num_blocks, num_classes=10):\n",
        "        super(ResNet, self).__init__()\n",
        "        self.in_planes = 64\n",
        "\n",
        "        self.conv1 = nn.Conv2d(3, 64, kernel_size=3, stride=1, padding=1, bias=False)\n",
        "        self.bn1 = nn.BatchNorm2d(64)\n",
        "        self.layer1 = self._make_layer(block, 64, num_blocks[0], stride=1)\n",
        "        self.layer2 = self._make_layer(block, 128, num_blocks[1], stride=2)\n",
        "        self.layer3 = self._make_layer(block, 256, num_blocks[2], stride=2)\n",
        "        self.layer4 = self._make_layer(block, 512, num_blocks[3], stride=2)\n",
        "        self.linear = nn.Linear(512 * block.expansion, num_classes)\n",
        "\n",
        "        for m in self.modules():\n",
        "            if isinstance(m, nn.Conv2d):\n",
        "                nn.init.kaiming_normal_(m.weight, mode=\"fan_out\", nonlinearity=\"relu\")\n",
        "            elif isinstance(m, (nn.BatchNorm2d, nn.GroupNorm)):\n",
        "                nn.init.constant_(m.weight, 1)\n",
        "                nn.init.constant_(m.bias, 0)\n",
        "\n",
        "    def _make_layer(self, block, planes, num_blocks, stride):\n",
        "        strides = [stride] + [1] * (num_blocks - 1)\n",
        "        layers = []\n",
        "        for stride in strides:\n",
        "            layers.append(block(self.in_planes, planes, stride))\n",
        "            self.in_planes = planes * block.expansion\n",
        "        return nn.Sequential(*layers)\n",
        "\n",
        "    def forward(self, x):\n",
        "        out = F.relu(self.bn1(self.conv1(x)))\n",
        "        out = self.layer1(out)\n",
        "        out = self.layer2(out)\n",
        "        out = self.layer3(out)\n",
        "        out = self.layer4(out)\n",
        "        out = F.avg_pool2d(out, 4)\n",
        "        out = out.view(out.size(0), -1)\n",
        "        out = self.linear(out)\n",
        "        return out\n",
        "\n",
        "\n",
        "def ResNet18():\n",
        "    return ResNet(BasicBlock, [2, 2, 2, 2])\n",
        "\n",
        "def ResNet34():\n",
        "    return ResNet(BasicBlock, [3, 4, 6, 3])\n",
        "\n",
        "def ResNet50():\n",
        "    return ResNet(Bottleneck, [3, 4, 6, 3])\n",
        "\n",
        "def ResNet101():\n",
        "    return ResNet(Bottleneck, [3, 4, 23, 3])\n",
        "\n",
        "def ResNet152():\n",
        "    return ResNet(Bottleneck, [3, 8, 36, 3])\n",
        "\n",
        "def test():\n",
        "    net = ResNet18()\n",
        "    y = net(torch.randn(1, 3, 32, 32))\n",
        "    print(y.size())\n",
        "\n",
        "def resnet18_imagenet(pretrained=False, classes=10):\n",
        "    model = torchvision.models.resnet18(pretrained=pretrained, num_classes=1000)\n",
        "    model.conv1 = nn.Conv2d(\n",
        "        3, 64, kernel_size=(3, 3), stride=(1, 1), padding=(1, 1), bias=False\n",
        "    )\n",
        "    model.maxpool = nn.Identity()\n",
        "    model.fc = nn.Linear(512, classes, bias=True)\n",
        "    return model\n",
        "\n",
        "def resnet50_imagenet(pretrained=False, classes=10):\n",
        "    model = torchvision.models.resnet50(pretrained=pretrained, num_classes=1000)\n",
        "    model.fc = nn.Linear(512, classes, bias=True)\n",
        "    return model"
      ],
      "metadata": {
        "id": "6BWegLUWoBmu"
      },
      "execution_count": null,
      "outputs": []
    },
    {
      "cell_type": "markdown",
      "source": [
        "**Modified code with MC dropout:**\n",
        "\n",
        "Monte Carlo Dropout (MC‑Dropout) is a simple way to turn a standard neural network with dropout layers into an approximate Bayesian model that can estimate uncertainty in its predictions. Here’s how it works and how you use it:\n",
        "\n",
        "1. The Idea\n",
        "Standard dropout randomly zeroes a fraction of activations only during training to regularize the network. At test time you disable dropout (i.e. use model.eval()), so the network is deterministic.\n",
        "\n",
        "MC‑Dropout flips that around: at inference you deliberately keep dropout turned on (i.e. keep the network in train() mode) and do many forward passes through the same input, each time with a different random dropout mask.\n",
        "\n",
        "Each pass gives you a slightly different prediction. By aggregating (e.g. by taking the mean and the variance) over these T stochastic passes, you get:\n",
        "\n",
        "Predictive mean → your final predicted probabilities.\n",
        "\n",
        "Predictive variance → an estimate of your model’s epistemic uncertainty (i.e. “how unsure the model is given the data it has seen”).\n",
        "\n",
        "This simple trick was introduced in Gal & Ghahramani (2016) as a practical Bayesian approximation.\n",
        "\n"
      ],
      "metadata": {
        "id": "0TznC3o7aOu5"
      }
    },
    {
      "cell_type": "code",
      "source": [
        "import torch\n",
        "import torch.nn as nn\n",
        "import torch.nn.functional as F\n",
        "import torchvision\n",
        "\n",
        "class BasicBlock(nn.Module):\n",
        "    expansion = 1\n",
        "\n",
        "    def __init__(self, in_planes, planes, stride=1, dropout_p=0.2):\n",
        "        super(BasicBlock, self).__init__()\n",
        "        self.conv1 = nn.Conv2d(\n",
        "            in_planes, planes, kernel_size=3, stride=stride, padding=1, bias=False\n",
        "        )\n",
        "        self.bn1 = nn.BatchNorm2d(planes)\n",
        "        self.dropout1 = nn.Dropout(p=dropout_p)\n",
        "\n",
        "        self.conv2 = nn.Conv2d(\n",
        "            planes, planes, kernel_size=3, stride=1, padding=1, bias=False\n",
        "        )\n",
        "        self.bn2 = nn.BatchNorm2d(planes)\n",
        "        self.dropout2 = nn.Dropout(p=dropout_p)\n",
        "\n",
        "        self.shortcut = nn.Sequential()\n",
        "        if stride != 1 or in_planes != self.expansion * planes:\n",
        "            self.shortcut = nn.Sequential(\n",
        "                nn.Conv2d(\n",
        "                    in_planes,\n",
        "                    self.expansion * planes,\n",
        "                    kernel_size=1,\n",
        "                    stride=stride,\n",
        "                    bias=False,\n",
        "                ),\n",
        "                nn.BatchNorm2d(self.expansion * planes),\n",
        "            )\n",
        "\n",
        "    def forward(self, x):\n",
        "        out = F.relu(self.bn1(self.conv1(x)))\n",
        "        out = self.dropout1(out)\n",
        "        out = self.bn2(self.conv2(out))\n",
        "        out = self.dropout2(out)\n",
        "        out += self.shortcut(x)\n",
        "        out = F.relu(out)\n",
        "        return out\n",
        "\n",
        "\n",
        "class Bottleneck(nn.Module):\n",
        "    expansion = 4\n",
        "\n",
        "    def __init__(self, in_planes, planes, stride=1, dropout_p=0.2):\n",
        "        super(Bottleneck, self).__init__()\n",
        "        self.conv1 = nn.Conv2d(in_planes, planes, kernel_size=1, bias=False)\n",
        "        self.bn1 = nn.BatchNorm2d(planes)\n",
        "        self.dropout1 = nn.Dropout(p=dropout_p)\n",
        "\n",
        "        self.conv2 = nn.Conv2d(\n",
        "            planes, planes, kernel_size=3, stride=stride, padding=1, bias=False\n",
        "        )\n",
        "        self.bn2 = nn.BatchNorm2d(planes)\n",
        "        self.dropout2 = nn.Dropout(p=dropout_p)\n",
        "\n",
        "        self.conv3 = nn.Conv2d(\n",
        "            planes, self.expansion * planes, kernel_size=1, bias=False\n",
        "        )\n",
        "        self.bn3 = nn.BatchNorm2d(self.expansion * planes)\n",
        "        self.dropout3 = nn.Dropout(p=dropout_p)\n",
        "\n",
        "        self.shortcut = nn.Sequential()\n",
        "        if stride != 1 or in_planes != self.expansion * planes:\n",
        "            self.shortcut = nn.Sequential(\n",
        "                nn.Conv2d(\n",
        "                    in_planes,\n",
        "                    self.expansion * planes,\n",
        "                    kernel_size=1,\n",
        "                    stride=stride,\n",
        "                    bias=False,\n",
        "                ),\n",
        "                nn.BatchNorm2d(self.expansion * planes),\n",
        "            )\n",
        "\n",
        "    def forward(self, x):\n",
        "        out = F.relu(self.bn1(self.conv1(x)))\n",
        "        out = self.dropout1(out)\n",
        "        out = F.relu(self.bn2(self.conv2(out)))\n",
        "        out = self.dropout2(out)\n",
        "        out = self.bn3(self.conv3(out))\n",
        "        out = self.dropout3(out)\n",
        "        out += self.shortcut(x)\n",
        "        out = F.relu(out)\n",
        "        return out\n",
        "\n",
        "\n",
        "class ResNet(nn.Module):\n",
        "    def __init__(self, block, num_blocks, num_classes=10, dropout_p=0.2):\n",
        "        super(ResNet, self).__init__()\n",
        "        self.in_planes = 64\n",
        "\n",
        "        self.conv1 = nn.Conv2d(3, 64, kernel_size=3, stride=1, padding=1, bias=False)\n",
        "        self.bn1 = nn.BatchNorm2d(64)\n",
        "        self.layer1 = self._make_layer(block, 64, num_blocks[0], stride=1, dropout_p=dropout_p)\n",
        "        self.layer2 = self._make_layer(block, 128, num_blocks[1], stride=2, dropout_p=dropout_p)\n",
        "        self.layer3 = self._make_layer(block, 256, num_blocks[2], stride=2, dropout_p=dropout_p)\n",
        "        self.layer4 = self._make_layer(block, 512, num_blocks[3], stride=2, dropout_p=dropout_p)\n",
        "        self.dropout = nn.Dropout(p=dropout_p)\n",
        "        self.linear = nn.Linear(512 * block.expansion, num_classes)\n",
        "\n",
        "        for m in self.modules():\n",
        "            if isinstance(m, nn.Conv2d):\n",
        "                nn.init.kaiming_normal_(m.weight, mode=\"fan_out\", nonlinearity=\"relu\")\n",
        "            elif isinstance(m, (nn.BatchNorm2d, nn.GroupNorm)):\n",
        "                nn.init.constant_(m.weight, 1)\n",
        "                nn.init.constant_(m.bias, 0)\n",
        "\n",
        "    def _make_layer(self, block, planes, num_blocks, stride, dropout_p):\n",
        "        strides = [stride] + [1] * (num_blocks - 1)\n",
        "        layers = []\n",
        "        for stride in strides:\n",
        "            layers.append(block(self.in_planes, planes, stride, dropout_p))\n",
        "            self.in_planes = planes * block.expansion\n",
        "        return nn.Sequential(*layers)\n",
        "\n",
        "    def forward(self, x):\n",
        "        out = F.relu(self.bn1(self.conv1(x)))\n",
        "        out = self.layer1(out)\n",
        "        out = self.layer2(out)\n",
        "        out = self.layer3(out)\n",
        "        out = self.layer4(out)\n",
        "        out = F.avg_pool2d(out, 4)\n",
        "        out = out.view(out.size(0), -1)\n",
        "        out = self.dropout(out)\n",
        "        out = self.linear(out)\n",
        "        return out\n",
        "\n",
        "\n",
        "def ResNet18(dropout_p=0.2):\n",
        "    return ResNet(BasicBlock, [2, 2, 2, 2], dropout_p=dropout_p)\n",
        "\n",
        "def ResNet34(dropout_p=0.2):\n",
        "    return ResNet(BasicBlock, [3, 4, 6, 3], dropout_p=dropout_p)\n",
        "\n",
        "def ResNet50(dropout_p=0.2):\n",
        "    return ResNet(Bottleneck, [3, 4, 6, 3], dropout_p=dropout_p)\n",
        "\n",
        "def ResNet101(dropout_p=0.2):\n",
        "    return ResNet(Bottleneck, [3, 4, 23, 3], dropout_p=dropout_p)\n",
        "\n",
        "def ResNet152(dropout_p=0.2):\n",
        "    return ResNet(Bottleneck, [3, 8, 36, 3], dropout_p=dropout_p)\n",
        "\n",
        "def test():\n",
        "    net = ResNet18()\n",
        "    y = net(torch.randn(1, 3, 32, 32))\n",
        "    print(y.size())\n",
        "\n",
        "# Example for ImageNet variants remains unchanged\n",
        "\n",
        "def resnet18_imagenet(pretrained=False, classes=10):\n",
        "    model = torchvision.models.resnet18(pretrained=pretrained, num_classes=1000)\n",
        "    model.conv1 = nn.Conv2d(\n",
        "        3, 64, kernel_size=(3, 3), stride=(1, 1), padding=(1, 1), bias=False\n",
        "    )\n",
        "    model.maxpool = nn.Identity()\n",
        "    model.fc = nn.Linear(512, classes, bias=True)\n",
        "    return model\n",
        "\n",
        "def resnet50_imagenet(pretrained=False, classes=10):\n",
        "    model = torchvision.models.resnet50(pretrained=pretrained, num_classes=1000)\n",
        "    model.fc = nn.Linear(512, classes, bias=True)\n",
        "    return model\n"
      ],
      "metadata": {
        "id": "P8kpy27iaQVK"
      },
      "execution_count": null,
      "outputs": []
    },
    {
      "cell_type": "markdown",
      "source": [
        "Data loading, data splitting code from: https://github.com/OATML/RHO-Loss/blob/main/src/datamodules/datamodules.py , https://github.com/OATML/RHO-Loss/blob/main/src/datamodules/datasets/sequence_datasets.py\n",
        "\n"
      ],
      "metadata": {
        "id": "BTe-EMQ3n31V"
      }
    },
    {
      "cell_type": "code",
      "source": [
        "class indices_CIFAR10(VisionDataset):\n",
        "    base_folder = \"cifar-10-batches-py\"\n",
        "    url = \"https://www.cs.toronto.edu/~kriz/cifar-10-python.tar.gz\"\n",
        "    filename = \"cifar-10-python.tar.gz\"\n",
        "    tgz_md5 = \"c58f30108f718f92721af3b95e74349a\"\n",
        "    train_list = [\n",
        "        [\"data_batch_1\", \"c99cafc152244af753f735de768cd75f\"],\n",
        "        [\"data_batch_2\", \"d4bba439e000b95fd0a9bffe97cbabec\"],\n",
        "        [\"data_batch_3\", \"54ebc095f3ab1f0389bbae665268c751\"],\n",
        "        [\"data_batch_4\", \"634d18415352ddfa80567beed471001a\"],\n",
        "        [\"data_batch_5\", \"482c414d41f54cd18b22e5b47cb7c3cb\"],\n",
        "    ]\n",
        "\n",
        "    test_list = [\n",
        "        [\"test_batch\", \"40351d587109b95175f43aff81a1287e\"],\n",
        "    ]\n",
        "    meta = {\n",
        "        \"filename\": \"batches.meta\",\n",
        "        \"key\": \"label_names\",\n",
        "        \"md5\": \"5ff9c542aee3614f3951f8cda6e48888\",\n",
        "    }\n",
        "\n",
        "    def __init__(\n",
        "        self,\n",
        "        root: str,\n",
        "        train: bool = True,\n",
        "        transform: Optional[Callable] = None,\n",
        "        target_transform: Optional[Callable] = None,\n",
        "        sequence=None,\n",
        "    ) -> None:\n",
        "\n",
        "        super(indices_CIFAR10, self).__init__(\n",
        "            root, transform=transform, target_transform=target_transform\n",
        "        )\n",
        "\n",
        "        self.train = train  # training set or test set\n",
        "\n",
        "        self.download()\n",
        "\n",
        "        if not self._check_integrity():\n",
        "            raise RuntimeError(\n",
        "                \"Dataset not found or corrupted even though we tried to download it\"\n",
        "            )\n",
        "\n",
        "        if self.train:\n",
        "            downloaded_list = self.train_list\n",
        "        else:\n",
        "            downloaded_list = self.test_list\n",
        "\n",
        "        self.data: Any = []\n",
        "        self.targets = []\n",
        "\n",
        "        # now load the picked numpy arrays\n",
        "        for file_name, checksum in downloaded_list:\n",
        "            file_path = os.path.join(self.root, self.base_folder, file_name)\n",
        "            with open(file_path, \"rb\") as f:\n",
        "                entry = pickle.load(f, encoding=\"latin1\")\n",
        "                self.data.append(entry[\"data\"])\n",
        "                if \"labels\" in entry:\n",
        "                    self.targets.extend(entry[\"labels\"])\n",
        "                else:\n",
        "                    self.targets.extend(entry[\"fine_labels\"])\n",
        "\n",
        "        self.data = np.vstack(self.data).reshape(-1, 3, 32, 32)\n",
        "        self.data = self.data.transpose((0, 2, 3, 1))  # convert to HWC\n",
        "\n",
        "        self._load_meta()\n",
        "        if sequence is not None:\n",
        "            self.sequence = sequence\n",
        "        else:\n",
        "            self.sequence = np.arange(len(self.data))\n",
        "\n",
        "    def _load_meta(self) -> None:\n",
        "        path = os.path.join(self.root, self.base_folder, self.meta[\"filename\"])\n",
        "        if not check_integrity(path, self.meta[\"md5\"]):\n",
        "            raise RuntimeError(\"Dataset metadata file not found or corrupted\")\n",
        "        with open(path, \"rb\") as infile:\n",
        "            data = pickle.load(infile, encoding=\"latin1\")\n",
        "            self.classes = data[self.meta[\"key\"]]\n",
        "        self.class_to_idx = {_class: i for i, _class in enumerate(self.classes)}\n",
        "\n",
        "    def __getitem__(self, index: int) -> Tuple[Any, Any]:\n",
        "        \"\"\"\n",
        "        Args:\n",
        "            index (int): Index\n",
        "        Returns:\n",
        "            tuple: (image, target) where target is index of the target class.\n",
        "        \"\"\"\n",
        "        img, target = self.data[self.sequence[index]], self.targets[self.sequence[index]]\n",
        "\n",
        "        # doing this so that it is consistent with all other datasets\n",
        "        # to return a PIL Image\n",
        "        img = Image.fromarray(img)\n",
        "\n",
        "        if self.transform is not None:\n",
        "            img = self.transform(img)\n",
        "\n",
        "        if self.target_transform is not None:\n",
        "            target = self.target_transform(target)\n",
        "\n",
        "        return index, img, target\n",
        "\n",
        "    def __len__(self) -> int:\n",
        "        return len(self.sequence)\n",
        "\n",
        "    def _check_integrity(self) -> bool:\n",
        "        root = self.root\n",
        "        for fentry in self.train_list + self.test_list:\n",
        "            filename, md5 = fentry[0], fentry[1]\n",
        "            fpath = os.path.join(root, self.base_folder, filename)\n",
        "            if not check_integrity(fpath, md5):\n",
        "                return False\n",
        "        return True\n",
        "\n",
        "    def download(self) -> None:\n",
        "        if self._check_integrity():\n",
        "            print(\"Files already downloaded and verified\")\n",
        "            return\n",
        "        download_and_extract_archive(\n",
        "            self.url, self.root, filename=self.filename, md5=self.tgz_md5\n",
        "        )\n",
        "\n",
        "    def extra_repr(self) -> str:\n",
        "        return \"Split: {}\".format(\"Train\" if self.train is True else \"Test\")\n",
        "\n",
        "class CIFAR10DataModule:\n",
        "    def __init__(self, data_dir=\"./data\", batch_size=960, test_batch_size=100, num_workers=4):\n",
        "        self.data_dir = data_dir\n",
        "        self.batch_size = batch_size\n",
        "        self.test_batch_size = test_batch_size\n",
        "        self.num_workers = num_workers\n",
        "\n",
        "        self.transform = transforms.Compose([\n",
        "            transforms.ToTensor(),\n",
        "            transforms.Normalize((0.5, 0.5, 0.5), (0.5, 0.5, 0.5)),\n",
        "        ])\n",
        "        self.data_aug_transform = transforms.Compose([\n",
        "            transforms.RandomCrop(32, padding=4),\n",
        "            transforms.RandomHorizontalFlip(),\n",
        "            transforms.ToTensor(),\n",
        "            transforms.Normalize((0.5, 0.5, 0.5), (0.5, 0.5, 0.5)),\n",
        "        ])\n",
        "\n",
        "    def setup(self, double_irlomo=False):\n",
        "        full_dataset = indices_CIFAR10(self.data_dir, train=True, transform=self.data_aug_transform)\n",
        "\n",
        "        indices = list(range(len(full_dataset)))\n",
        "        train_indices = indices[::2]\n",
        "        val_indices = indices[1::2]\n",
        "\n",
        "        self.train_split_1 = Subset(full_dataset, train_indices)\n",
        "        self.train_split_2 = Subset(full_dataset, val_indices)\n",
        "        self.train_split_2_indices = val_indices  # needed for irreducible loss tracking\n",
        "\n",
        "        self.test_dataset = indices_CIFAR10(self.data_dir, train=False, transform=self.transform)\n",
        "\n",
        "    def get_train_loader_split1(self):\n",
        "        return DataLoader(self.train_split_1, batch_size=128, shuffle=True, num_workers=self.num_workers)\n",
        "\n",
        "    def get_train_loader_split2(self):\n",
        "        return DataLoader(self.train_split_2, batch_size=1, shuffle=False, num_workers=self.num_workers)\n",
        "\n",
        "    def get_test_loader(self):\n",
        "        return DataLoader(self.test_dataset, batch_size=self.test_batch_size, shuffle=False, num_workers=self.num_workers)"
      ],
      "metadata": {
        "id": "p6SZSo9GfyOa"
      },
      "execution_count": null,
      "outputs": []
    },
    {
      "cell_type": "markdown",
      "source": [
        "**Training IL Model:**\n",
        "\n",
        "> **Data augmentation:** On CIFAR-10, CIFAR-100, and CINIC-10, we train using data augmentation (random crop and horizontal flip), both for training the IL model, and in the main training runs. Remember that we only compute the irreducible losses once at the start of training.\n",
        "\n",
        "> We can efficiently compute the IL with an “irreducible loss model\" (IL model) that is smaller than the target model and has low accuracy . ResNet18 IL model trained for 37x fewer steps than each target model.\n",
        "\n",
        "Irreducible loss models can be small and cheap. In our\n",
        "default setting, both the target model and IL model have the same architecture (ResNet-18).The smaller IL model accelerates training as much or more than the larger model, even though its final accuracy is far lower than the target ResNet18 (11.5% lower on CIFAR-10, 7% on CIFAR-100, and 8.1% on CINIC-10).\n",
        "\n"
      ],
      "metadata": {
        "id": "Yl_iVs3Tnyoq"
      }
    },
    {
      "cell_type": "code",
      "source": [
        "# === CONTINUATION CODE: RHO-LOSS Training on CIFAR-10 ===\n",
        "\n",
        "import torch\n",
        "import torch.nn.functional as F\n",
        "import torch.optim as optim\n",
        "from tqdm import tqdm, trange\n",
        "import random\n",
        "import warnings\n",
        "warnings.filterwarnings(\"ignore\")\n",
        "\n",
        "# ====== Set device and seed ======\n",
        "torch.manual_seed(42)\n",
        "random.seed(42)\n",
        "device = torch.device(\"cuda\" if torch.cuda.is_available() else \"cpu\")\n",
        "\n",
        "# ====== Initialize DataModule and Prepare Splits ======\n",
        "dm = CIFAR10DataModule()\n",
        "dm.setup()\n",
        "\n",
        "train_loader_il = dm.get_train_loader_split1()\n",
        "eval_loader_il = dm.get_train_loader_split2()\n",
        "test_loader = dm.get_test_loader()\n",
        "train_ids = dm.train_split_2_indices\n",
        "\n",
        "# ====== Step 1: Train IL Model ======\n",
        "il_model = ResNet18().to(device)\n",
        "il_optimizer = optim.AdamW(il_model.parameters(), lr=1e-3)\n",
        "criterion = torch.nn.CrossEntropyLoss()\n",
        "\n",
        "for epoch in trange(30, desc=\"Training IL Model\"):\n",
        "    il_model.train()\n",
        "    correct, total = 0, 0\n",
        "    for _, x, y in train_loader_il:\n",
        "        x, y = x.to(device), y.to(device)\n",
        "        il_optimizer.zero_grad()\n",
        "        logits = il_model(x)\n",
        "        loss = criterion(logits, y)\n",
        "        loss.backward()\n",
        "        il_optimizer.step()\n",
        "        correct += (logits.argmax(1) == y).sum().item()\n",
        "        total += y.size(0)\n",
        "    acc = 100.0 * correct / total\n",
        "    print(f\"[IL Model] Epoch {epoch+1}: Accuracy = {acc:.2f}%\")\n",
        "    if acc >= 60.0:\n",
        "        break"
      ],
      "metadata": {
        "colab": {
          "base_uri": "https://localhost:8080/"
        },
        "id": "-akq9ioIiK-4",
        "outputId": "c6cb8f47-b430-477b-8c42-9eaeac8e1434"
      },
      "execution_count": null,
      "outputs": [
        {
          "output_type": "stream",
          "name": "stdout",
          "text": [
            "Files already downloaded and verified\n",
            "Files already downloaded and verified\n",
            "Training IL Model:   3%|▎         | 1/30 [00:22<10:41, 22.12s/it][IL Model] Epoch 1: Accuracy = 36.78%\n",
            "Training IL Model:   7%|▋         | 2/30 [00:44<10:21, 22.20s/it][IL Model] Epoch 2: Accuracy = 52.94%\n",
            "Training IL Model:  10%|█         | 3/30 [01:06<09:58, 22.15s/it][IL Model] Epoch 3: Accuracy = 61.00%\n"
          ]
        }
      ]
    },
    {
      "cell_type": "markdown",
      "source": [
        "**Compute Irreducible Loss**"
      ],
      "metadata": {
        "id": "_2hE9mJzo7rj"
      }
    },
    {
      "cell_type": "code",
      "source": [
        "print(\"Computing irreducible loss on split_2...\")\n",
        "il_model.eval()\n",
        "irreducible_loss = {}\n",
        "with torch.no_grad():\n",
        "    for idx, (_, x, y) in tqdm(zip(train_ids, eval_loader_il), total=len(train_ids), desc=\"Computing IL\"):\n",
        "        x, y = x.to(device), y.to(device)\n",
        "        loss = F.cross_entropy(il_model(x), y).item()\n",
        "        irreducible_loss[idx] = loss"
      ],
      "metadata": {
        "colab": {
          "base_uri": "https://localhost:8080/"
        },
        "id": "_yz9RIo-o6pz",
        "outputId": "f71289e4-5ed2-41ee-a32f-65922ea831b0"
      },
      "execution_count": null,
      "outputs": [
        {
          "output_type": "stream",
          "name": "stdout",
          "text": [
            "Computing irreducible loss on split_2...\n"
          ]
        },
        {
          "output_type": "stream",
          "name": "stderr",
          "text": [
            "Computing IL: 100%|██████████| 25000/25000 [02:30<00:00, 165.75it/s]\n"
          ]
        }
      ]
    },
    {
      "cell_type": "markdown",
      "source": [
        "**Training Target Model with RHO-LOSS**\n",
        "\n",
        "> **Hyperparameters:** All models are trained using the AdamW optimizer with default PyTorch hyperparameters (β1=0.9, β2=0.999, and weight decay of 0.01, learning rate 0.001), a nb = 32 ( nB = 320 , meaning we select nB/nb = 10% of points.We use between 2 and 10 seeds for each experiment\n"
      ],
      "metadata": {
        "id": "Pu611-uSpB1j"
      }
    },
    {
      "cell_type": "code",
      "source": [],
      "metadata": {
        "id": "oC-W9UqjIrPD"
      },
      "execution_count": null,
      "outputs": []
    },
    {
      "cell_type": "code",
      "source": [],
      "metadata": {
        "id": "B16AV7KHIraF"
      },
      "execution_count": null,
      "outputs": []
    },
    {
      "cell_type": "code",
      "source": [
        "# ====== Step 3: Train Target Model with RHO-LOSS ======\n",
        "target_model = ResNet18().to(device)\n",
        "target_optimizer = optim.AdamW(target_model.parameters(), lr=1e-3)\n",
        "topk = 32\n",
        "reached_80 = reached_875 = False\n",
        "\n",
        "for epoch in trange(1, 300, desc=\"Training Target Model\"):\n",
        "    target_model.train()\n",
        "    random.shuffle(train_ids)\n",
        "    for i in range(0, len(train_ids), 320):\n",
        "        ids = train_ids[i:i+320]\n",
        "        x_b, y_b, il_b = [], [], []\n",
        "        for idx in ids:\n",
        "            _, x, y = dm.train_split_2.dataset[idx]\n",
        "            x_b.append(x)\n",
        "            y_b.append(y)\n",
        "            il_b.append(irreducible_loss[idx])\n",
        "\n",
        "        if len(x_b) < topk:\n",
        "            continue  # skip if batch too small\n",
        "\n",
        "        x_tensor = torch.stack(x_b).to(device)\n",
        "        y_tensor = torch.tensor(y_b).to(device)\n",
        "        il_tensor = torch.tensor(il_b).to(device)\n",
        "\n",
        "        logits = target_model(x_tensor)\n",
        "        losses = F.cross_entropy(logits, y_tensor, reduction='none')\n",
        "        rho = losses - il_tensor\n",
        "        top_indices = torch.topk(rho, topk).indices\n",
        "        selected_loss = losses[top_indices].mean()\n",
        "\n",
        "        target_optimizer.zero_grad()\n",
        "        selected_loss.backward()\n",
        "        target_optimizer.step()\n",
        "\n",
        "    # ====== Evaluate on Test Set ======\n",
        "    target_model.eval()\n",
        "    correct, total = 0, 0\n",
        "    with torch.no_grad():\n",
        "        for _, x, y in test_loader:\n",
        "            x, y = x.to(device), y.to(device)\n",
        "            pred = target_model(x).argmax(1)\n",
        "            correct += (pred == y).sum().item()\n",
        "            total += y.size(0)\n",
        "    acc = 100.0 * correct / total\n",
        "    print(f\"[Target Model] Epoch {epoch}: Accuracy = {acc:.2f}%\")\n",
        "    if not reached_80 and acc >= 80.0:\n",
        "        print(f\"✅ Reached 80% at epoch {epoch}\")\n",
        "        reached_80 = True\n",
        "    if not reached_875 and acc >= 87.5:\n",
        "        print(f\"✅ Reached 87.5% at epoch {epoch}\")\n",
        "        reached_875 = True\n",
        "    if reached_80 and reached_875:\n",
        "        break"
      ],
      "metadata": {
        "colab": {
          "base_uri": "https://localhost:8080/"
        },
        "id": "df5z1jz2iHx2",
        "outputId": "46ec3078-e059-4d5b-8a89-20516b5c5763"
      },
      "execution_count": null,
      "outputs": [
        {
          "output_type": "stream",
          "name": "stderr",
          "text": [
            "Training Target Model:   0%|          | 1/299 [00:22<1:53:44, 22.90s/it]"
          ]
        },
        {
          "output_type": "stream",
          "name": "stdout",
          "text": [
            "[Target Model] Epoch 1: Accuracy = 32.71%\n"
          ]
        },
        {
          "output_type": "stream",
          "name": "stderr",
          "text": [
            "\rTraining Target Model:   1%|          | 2/299 [00:45<1:52:43, 22.77s/it]"
          ]
        },
        {
          "output_type": "stream",
          "name": "stdout",
          "text": [
            "[Target Model] Epoch 2: Accuracy = 42.83%\n"
          ]
        },
        {
          "output_type": "stream",
          "name": "stderr",
          "text": [
            "\rTraining Target Model:   1%|          | 3/299 [01:08<1:52:45, 22.86s/it]"
          ]
        },
        {
          "output_type": "stream",
          "name": "stdout",
          "text": [
            "[Target Model] Epoch 3: Accuracy = 45.96%\n"
          ]
        },
        {
          "output_type": "stream",
          "name": "stderr",
          "text": [
            "\rTraining Target Model:   1%|▏         | 4/299 [01:31<1:53:12, 23.02s/it]"
          ]
        },
        {
          "output_type": "stream",
          "name": "stdout",
          "text": [
            "[Target Model] Epoch 4: Accuracy = 44.66%\n"
          ]
        },
        {
          "output_type": "stream",
          "name": "stderr",
          "text": [
            "\rTraining Target Model:   2%|▏         | 5/299 [01:55<1:53:43, 23.21s/it]"
          ]
        },
        {
          "output_type": "stream",
          "name": "stdout",
          "text": [
            "[Target Model] Epoch 5: Accuracy = 48.82%\n"
          ]
        },
        {
          "output_type": "stream",
          "name": "stderr",
          "text": [
            "\rTraining Target Model:   2%|▏         | 6/299 [02:18<1:53:53, 23.32s/it]"
          ]
        },
        {
          "output_type": "stream",
          "name": "stdout",
          "text": [
            "[Target Model] Epoch 6: Accuracy = 61.57%\n"
          ]
        },
        {
          "output_type": "stream",
          "name": "stderr",
          "text": [
            "\rTraining Target Model:   2%|▏         | 7/299 [02:42<1:53:27, 23.31s/it]"
          ]
        },
        {
          "output_type": "stream",
          "name": "stdout",
          "text": [
            "[Target Model] Epoch 7: Accuracy = 62.06%\n"
          ]
        },
        {
          "output_type": "stream",
          "name": "stderr",
          "text": [
            "\rTraining Target Model:   3%|▎         | 8/299 [03:05<1:52:41, 23.24s/it]"
          ]
        },
        {
          "output_type": "stream",
          "name": "stdout",
          "text": [
            "[Target Model] Epoch 8: Accuracy = 62.78%\n"
          ]
        },
        {
          "output_type": "stream",
          "name": "stderr",
          "text": [
            "\rTraining Target Model:   3%|▎         | 9/299 [03:28<1:51:57, 23.16s/it]"
          ]
        },
        {
          "output_type": "stream",
          "name": "stdout",
          "text": [
            "[Target Model] Epoch 9: Accuracy = 66.68%\n"
          ]
        },
        {
          "output_type": "stream",
          "name": "stderr",
          "text": [
            "\rTraining Target Model:   3%|▎         | 10/299 [03:51<1:51:15, 23.10s/it]"
          ]
        },
        {
          "output_type": "stream",
          "name": "stdout",
          "text": [
            "[Target Model] Epoch 10: Accuracy = 63.67%\n"
          ]
        },
        {
          "output_type": "stream",
          "name": "stderr",
          "text": [
            "\rTraining Target Model:   4%|▎         | 11/299 [04:14<1:50:36, 23.04s/it]"
          ]
        },
        {
          "output_type": "stream",
          "name": "stdout",
          "text": [
            "[Target Model] Epoch 11: Accuracy = 67.46%\n"
          ]
        },
        {
          "output_type": "stream",
          "name": "stderr",
          "text": [
            "\rTraining Target Model:   4%|▍         | 12/299 [04:37<1:50:06, 23.02s/it]"
          ]
        },
        {
          "output_type": "stream",
          "name": "stdout",
          "text": [
            "[Target Model] Epoch 12: Accuracy = 71.39%\n"
          ]
        },
        {
          "output_type": "stream",
          "name": "stderr",
          "text": [
            "\rTraining Target Model:   4%|▍         | 13/299 [05:00<1:49:38, 23.00s/it]"
          ]
        },
        {
          "output_type": "stream",
          "name": "stdout",
          "text": [
            "[Target Model] Epoch 13: Accuracy = 71.39%\n"
          ]
        },
        {
          "output_type": "stream",
          "name": "stderr",
          "text": [
            "\rTraining Target Model:   5%|▍         | 14/299 [05:23<1:50:06, 23.18s/it]"
          ]
        },
        {
          "output_type": "stream",
          "name": "stdout",
          "text": [
            "[Target Model] Epoch 14: Accuracy = 72.16%\n"
          ]
        },
        {
          "output_type": "stream",
          "name": "stderr",
          "text": [
            "\rTraining Target Model:   5%|▌         | 15/299 [05:46<1:49:26, 23.12s/it]"
          ]
        },
        {
          "output_type": "stream",
          "name": "stdout",
          "text": [
            "[Target Model] Epoch 15: Accuracy = 70.96%\n"
          ]
        },
        {
          "output_type": "stream",
          "name": "stderr",
          "text": [
            "\rTraining Target Model:   5%|▌         | 16/299 [06:09<1:49:16, 23.17s/it]"
          ]
        },
        {
          "output_type": "stream",
          "name": "stdout",
          "text": [
            "[Target Model] Epoch 16: Accuracy = 70.44%\n"
          ]
        },
        {
          "output_type": "stream",
          "name": "stderr",
          "text": [
            "\rTraining Target Model:   6%|▌         | 17/299 [06:33<1:49:28, 23.29s/it]"
          ]
        },
        {
          "output_type": "stream",
          "name": "stdout",
          "text": [
            "[Target Model] Epoch 17: Accuracy = 74.18%\n"
          ]
        },
        {
          "output_type": "stream",
          "name": "stderr",
          "text": [
            "\rTraining Target Model:   6%|▌         | 18/299 [06:57<1:49:28, 23.38s/it]"
          ]
        },
        {
          "output_type": "stream",
          "name": "stdout",
          "text": [
            "[Target Model] Epoch 18: Accuracy = 73.74%\n"
          ]
        },
        {
          "output_type": "stream",
          "name": "stderr",
          "text": [
            "\rTraining Target Model:   6%|▋         | 19/299 [07:20<1:48:58, 23.35s/it]"
          ]
        },
        {
          "output_type": "stream",
          "name": "stdout",
          "text": [
            "[Target Model] Epoch 19: Accuracy = 73.75%\n"
          ]
        },
        {
          "output_type": "stream",
          "name": "stderr",
          "text": [
            "\rTraining Target Model:   7%|▋         | 20/299 [07:43<1:48:21, 23.30s/it]"
          ]
        },
        {
          "output_type": "stream",
          "name": "stdout",
          "text": [
            "[Target Model] Epoch 20: Accuracy = 73.83%\n"
          ]
        },
        {
          "output_type": "stream",
          "name": "stderr",
          "text": [
            "\rTraining Target Model:   7%|▋         | 21/299 [08:06<1:47:35, 23.22s/it]"
          ]
        },
        {
          "output_type": "stream",
          "name": "stdout",
          "text": [
            "[Target Model] Epoch 21: Accuracy = 74.35%\n"
          ]
        },
        {
          "output_type": "stream",
          "name": "stderr",
          "text": [
            "\rTraining Target Model:   7%|▋         | 22/299 [08:29<1:46:52, 23.15s/it]"
          ]
        },
        {
          "output_type": "stream",
          "name": "stdout",
          "text": [
            "[Target Model] Epoch 22: Accuracy = 76.39%\n"
          ]
        },
        {
          "output_type": "stream",
          "name": "stderr",
          "text": [
            "\rTraining Target Model:   8%|▊         | 23/299 [08:52<1:46:16, 23.10s/it]"
          ]
        },
        {
          "output_type": "stream",
          "name": "stdout",
          "text": [
            "[Target Model] Epoch 23: Accuracy = 75.72%\n"
          ]
        },
        {
          "output_type": "stream",
          "name": "stderr",
          "text": [
            "\rTraining Target Model:   8%|▊         | 24/299 [09:15<1:45:43, 23.07s/it]"
          ]
        },
        {
          "output_type": "stream",
          "name": "stdout",
          "text": [
            "[Target Model] Epoch 24: Accuracy = 75.50%\n"
          ]
        },
        {
          "output_type": "stream",
          "name": "stderr",
          "text": [
            "\rTraining Target Model:   8%|▊         | 25/299 [09:38<1:45:09, 23.03s/it]"
          ]
        },
        {
          "output_type": "stream",
          "name": "stdout",
          "text": [
            "[Target Model] Epoch 25: Accuracy = 76.06%\n"
          ]
        },
        {
          "output_type": "stream",
          "name": "stderr",
          "text": [
            "\rTraining Target Model:   9%|▊         | 26/299 [10:01<1:44:39, 23.00s/it]"
          ]
        },
        {
          "output_type": "stream",
          "name": "stdout",
          "text": [
            "[Target Model] Epoch 26: Accuracy = 74.08%\n"
          ]
        },
        {
          "output_type": "stream",
          "name": "stderr",
          "text": [
            "\rTraining Target Model:   9%|▉         | 27/299 [10:24<1:44:31, 23.06s/it]"
          ]
        },
        {
          "output_type": "stream",
          "name": "stdout",
          "text": [
            "[Target Model] Epoch 27: Accuracy = 76.81%\n"
          ]
        },
        {
          "output_type": "stream",
          "name": "stderr",
          "text": [
            "\rTraining Target Model:   9%|▉         | 28/299 [10:48<1:44:42, 23.18s/it]"
          ]
        },
        {
          "output_type": "stream",
          "name": "stdout",
          "text": [
            "[Target Model] Epoch 28: Accuracy = 75.31%\n"
          ]
        },
        {
          "output_type": "stream",
          "name": "stderr",
          "text": [
            "\rTraining Target Model:  10%|▉         | 29/299 [11:11<1:44:47, 23.29s/it]"
          ]
        },
        {
          "output_type": "stream",
          "name": "stdout",
          "text": [
            "[Target Model] Epoch 29: Accuracy = 77.80%\n"
          ]
        },
        {
          "output_type": "stream",
          "name": "stderr",
          "text": [
            "\rTraining Target Model:  10%|█         | 30/299 [11:34<1:44:24, 23.29s/it]"
          ]
        },
        {
          "output_type": "stream",
          "name": "stdout",
          "text": [
            "[Target Model] Epoch 30: Accuracy = 77.29%\n"
          ]
        },
        {
          "output_type": "stream",
          "name": "stderr",
          "text": [
            "\rTraining Target Model:  10%|█         | 31/299 [11:57<1:43:38, 23.20s/it]"
          ]
        },
        {
          "output_type": "stream",
          "name": "stdout",
          "text": [
            "[Target Model] Epoch 31: Accuracy = 77.21%\n"
          ]
        },
        {
          "output_type": "stream",
          "name": "stderr",
          "text": [
            "\rTraining Target Model:  11%|█         | 32/299 [12:20<1:42:58, 23.14s/it]"
          ]
        },
        {
          "output_type": "stream",
          "name": "stdout",
          "text": [
            "[Target Model] Epoch 32: Accuracy = 78.66%\n"
          ]
        },
        {
          "output_type": "stream",
          "name": "stderr",
          "text": [
            "\rTraining Target Model:  11%|█         | 33/299 [12:43<1:42:18, 23.08s/it]"
          ]
        },
        {
          "output_type": "stream",
          "name": "stdout",
          "text": [
            "[Target Model] Epoch 33: Accuracy = 78.08%\n"
          ]
        },
        {
          "output_type": "stream",
          "name": "stderr",
          "text": [
            "\rTraining Target Model:  11%|█▏        | 34/299 [13:06<1:41:41, 23.03s/it]"
          ]
        },
        {
          "output_type": "stream",
          "name": "stdout",
          "text": [
            "[Target Model] Epoch 34: Accuracy = 77.36%\n"
          ]
        },
        {
          "output_type": "stream",
          "name": "stderr",
          "text": [
            "\rTraining Target Model:  12%|█▏        | 35/299 [13:29<1:41:11, 23.00s/it]"
          ]
        },
        {
          "output_type": "stream",
          "name": "stdout",
          "text": [
            "[Target Model] Epoch 35: Accuracy = 77.20%\n"
          ]
        },
        {
          "output_type": "stream",
          "name": "stderr",
          "text": [
            "\rTraining Target Model:  12%|█▏        | 36/299 [13:52<1:40:46, 22.99s/it]"
          ]
        },
        {
          "output_type": "stream",
          "name": "stdout",
          "text": [
            "[Target Model] Epoch 36: Accuracy = 79.89%\n"
          ]
        },
        {
          "output_type": "stream",
          "name": "stderr",
          "text": [
            "\rTraining Target Model:  12%|█▏        | 37/299 [14:15<1:40:22, 22.99s/it]"
          ]
        },
        {
          "output_type": "stream",
          "name": "stdout",
          "text": [
            "[Target Model] Epoch 37: Accuracy = 76.34%\n"
          ]
        },
        {
          "output_type": "stream",
          "name": "stderr",
          "text": [
            "\rTraining Target Model:  13%|█▎        | 38/299 [14:38<1:40:28, 23.10s/it]"
          ]
        },
        {
          "output_type": "stream",
          "name": "stdout",
          "text": [
            "[Target Model] Epoch 38: Accuracy = 78.93%\n"
          ]
        },
        {
          "output_type": "stream",
          "name": "stderr",
          "text": [
            "\rTraining Target Model:  13%|█▎        | 39/299 [15:02<1:40:43, 23.24s/it]"
          ]
        },
        {
          "output_type": "stream",
          "name": "stdout",
          "text": [
            "[Target Model] Epoch 39: Accuracy = 79.47%\n"
          ]
        },
        {
          "output_type": "stream",
          "name": "stderr",
          "text": [
            "\rTraining Target Model:  13%|█▎        | 40/299 [15:26<1:40:37, 23.31s/it]"
          ]
        },
        {
          "output_type": "stream",
          "name": "stdout",
          "text": [
            "[Target Model] Epoch 40: Accuracy = 79.23%\n"
          ]
        },
        {
          "output_type": "stream",
          "name": "stderr",
          "text": [
            "\rTraining Target Model:  14%|█▎        | 41/299 [15:49<1:40:14, 23.31s/it]"
          ]
        },
        {
          "output_type": "stream",
          "name": "stdout",
          "text": [
            "[Target Model] Epoch 41: Accuracy = 80.08%\n",
            "✅ Reached 80% at epoch 41\n"
          ]
        },
        {
          "output_type": "stream",
          "name": "stderr",
          "text": [
            "\rTraining Target Model:  14%|█▍        | 42/299 [16:12<1:39:30, 23.23s/it]"
          ]
        },
        {
          "output_type": "stream",
          "name": "stdout",
          "text": [
            "[Target Model] Epoch 42: Accuracy = 79.30%\n"
          ]
        },
        {
          "output_type": "stream",
          "name": "stderr",
          "text": [
            "\rTraining Target Model:  14%|█▍        | 43/299 [16:35<1:38:47, 23.15s/it]"
          ]
        },
        {
          "output_type": "stream",
          "name": "stdout",
          "text": [
            "[Target Model] Epoch 43: Accuracy = 78.93%\n"
          ]
        },
        {
          "output_type": "stream",
          "name": "stderr",
          "text": [
            "\rTraining Target Model:  15%|█▍        | 44/299 [16:58<1:38:10, 23.10s/it]"
          ]
        },
        {
          "output_type": "stream",
          "name": "stdout",
          "text": [
            "[Target Model] Epoch 44: Accuracy = 80.15%\n"
          ]
        },
        {
          "output_type": "stream",
          "name": "stderr",
          "text": [
            "\rTraining Target Model:  15%|█▌        | 45/299 [17:21<1:37:37, 23.06s/it]"
          ]
        },
        {
          "output_type": "stream",
          "name": "stdout",
          "text": [
            "[Target Model] Epoch 45: Accuracy = 79.65%\n"
          ]
        },
        {
          "output_type": "stream",
          "name": "stderr",
          "text": [
            "\rTraining Target Model:  15%|█▌        | 46/299 [17:44<1:37:08, 23.04s/it]"
          ]
        },
        {
          "output_type": "stream",
          "name": "stdout",
          "text": [
            "[Target Model] Epoch 46: Accuracy = 81.00%\n"
          ]
        },
        {
          "output_type": "stream",
          "name": "stderr",
          "text": [
            "\rTraining Target Model:  16%|█▌        | 47/299 [18:07<1:36:43, 23.03s/it]"
          ]
        },
        {
          "output_type": "stream",
          "name": "stdout",
          "text": [
            "[Target Model] Epoch 47: Accuracy = 77.92%\n"
          ]
        }
      ]
    },
    {
      "cell_type": "code",
      "source": [],
      "metadata": {
        "id": "FswTfoBaIrdc"
      },
      "execution_count": null,
      "outputs": []
    },
    {
      "cell_type": "code",
      "source": [
        "import torch\n",
        "import torch.nn.functional as F\n",
        "from torch import optim\n",
        "from tqdm import trange\n",
        "import random\n",
        "\n",
        "def hybrid_rho_diversity_selection(rho, features, k, lambda_diversity):\n",
        "    N = features.size(0)\n",
        "    features = F.normalize(features, dim=1)\n",
        "    similarity = torch.matmul(features, features.T)  # (N, N)\n",
        "\n",
        "    selected = []\n",
        "    diversity_penalty = torch.zeros(N, device=features.device)\n",
        "\n",
        "    for _ in range(k):\n",
        "        scores = rho - lambda_diversity * diversity_penalty\n",
        "        scores[selected] = -float('inf')  # mask already selected\n",
        "        idx = torch.argmax(scores).item()\n",
        "        selected.append(idx)\n",
        "        diversity_penalty = torch.max(diversity_penalty, similarity[:, idx])\n",
        "\n",
        "    return selected\n",
        "\n",
        "target_model = ResNet18().to(device)\n",
        "target_optimizer = optim.AdamW(target_model.parameters(), lr=1e-3)\n",
        "topk = 32\n",
        "lambda_diversity = 0.3\n",
        "reached_80 = reached_875 = False\n",
        "\n",
        "for epoch in trange(1, 300, desc=\"Training Target Model\"):\n",
        "    target_model.train()\n",
        "    random.shuffle(train_ids)\n",
        "    for i in range(0, len(train_ids), 320):\n",
        "        ids = train_ids[i:i+320]\n",
        "        x_b, y_b, il_b = [], [], []\n",
        "        for idx in ids:\n",
        "            _, x, y = dm.train_split_2.dataset[idx]\n",
        "            x_b.append(x)\n",
        "            y_b.append(y)\n",
        "            il_b.append(irreducible_loss[idx])\n",
        "        if len(x_b) < topk:\n",
        "            continue\n",
        "\n",
        "        x_tensor = torch.stack(x_b).to(device)\n",
        "        y_tensor = torch.tensor(y_b).to(device)\n",
        "        il_tensor = torch.tensor(il_b).to(device)\n",
        "\n",
        "        logits = target_model(x_tensor)\n",
        "        features = target_model.extract_features(x_tensor)\n",
        "\n",
        "        losses = F.cross_entropy(logits, y_tensor, reduction='none')\n",
        "        rho = losses - il_tensor\n",
        "\n",
        "        selected_indices = hybrid_rho_diversity_selection(rho, features, topk, lambda_diversity)\n",
        "\n",
        "        selected_loss = losses[selected_indices].mean()\n",
        "        target_optimizer.zero_grad()\n",
        "        selected_loss.backward()\n",
        "        target_optimizer.step()\n",
        "\n",
        "    target_model.eval()\n",
        "    correct, total = 0, 0\n",
        "    with torch.no_grad():\n",
        "        for _, x, y in test_loader:\n",
        "            x, y = x.to(device), y.to(device)\n",
        "            pred = target_model(x).argmax(1)\n",
        "            correct += (pred == y).sum().item()\n",
        "            total += y.size(0)\n",
        "    acc = 100.0 * correct / total\n",
        "    print(f\"[Target Model] Epoch {epoch}: Accuracy = {acc:.2f}%\")\n",
        "    if not reached_80 and acc >= 80.0:\n",
        "        print(f\"✅ Reached 80% at epoch {epoch}\")\n",
        "        reached_80 = True\n",
        "    if not reached_875 and acc >= 87.5:\n",
        "        print(f\"✅ Reached 87.5% at epoch {epoch}\")\n",
        "        reached_875 = True\n",
        "    if reached_80 and reached_875:\n",
        "        break\n"
      ],
      "metadata": {
        "colab": {
          "base_uri": "https://localhost:8080/",
          "height": 1000
        },
        "id": "12_SDiE3R77Q",
        "outputId": "d18b14fd-5f61-4aca-f615-bc18381d501a"
      },
      "execution_count": null,
      "outputs": [
        {
          "metadata": {
            "tags": null
          },
          "name": "stderr",
          "output_type": "stream",
          "text": [
            "Training Target Model:   0%|          | 1/299 [00:30<2:32:04, 30.62s/it]"
          ]
        },
        {
          "metadata": {
            "tags": null
          },
          "name": "stdout",
          "output_type": "stream",
          "text": [
            "[Target Model] Epoch 1: Accuracy = 30.80%\n"
          ]
        },
        {
          "metadata": {
            "tags": null
          },
          "name": "stderr",
          "output_type": "stream",
          "text": [
            "\rTraining Target Model:   1%|          | 2/299 [01:00<2:30:27, 30.40s/it]"
          ]
        },
        {
          "metadata": {
            "tags": null
          },
          "name": "stdout",
          "output_type": "stream",
          "text": [
            "[Target Model] Epoch 2: Accuracy = 39.41%\n"
          ]
        },
        {
          "metadata": {
            "tags": null
          },
          "name": "stderr",
          "output_type": "stream",
          "text": [
            "\rTraining Target Model:   1%|          | 3/299 [01:31<2:30:17, 30.47s/it]"
          ]
        },
        {
          "metadata": {
            "tags": null
          },
          "name": "stdout",
          "output_type": "stream",
          "text": [
            "[Target Model] Epoch 3: Accuracy = 46.84%\n"
          ]
        },
        {
          "metadata": {
            "tags": null
          },
          "name": "stderr",
          "output_type": "stream",
          "text": [
            "\rTraining Target Model:   1%|▏         | 4/299 [02:01<2:28:33, 30.22s/it]"
          ]
        },
        {
          "metadata": {
            "tags": null
          },
          "name": "stdout",
          "output_type": "stream",
          "text": [
            "[Target Model] Epoch 4: Accuracy = 52.02%\n"
          ]
        },
        {
          "metadata": {
            "tags": null
          },
          "name": "stderr",
          "output_type": "stream",
          "text": [
            "\rTraining Target Model:   2%|▏         | 5/299 [02:31<2:28:49, 30.37s/it]"
          ]
        },
        {
          "metadata": {
            "tags": null
          },
          "name": "stdout",
          "output_type": "stream",
          "text": [
            "[Target Model] Epoch 5: Accuracy = 55.83%\n"
          ]
        },
        {
          "metadata": {
            "tags": null
          },
          "name": "stderr",
          "output_type": "stream",
          "text": [
            "\rTraining Target Model:   2%|▏         | 6/299 [03:02<2:28:14, 30.36s/it]"
          ]
        },
        {
          "metadata": {
            "tags": null
          },
          "name": "stdout",
          "output_type": "stream",
          "text": [
            "[Target Model] Epoch 6: Accuracy = 53.98%\n"
          ]
        },
        {
          "metadata": {
            "tags": null
          },
          "name": "stderr",
          "output_type": "stream",
          "text": [
            "\rTraining Target Model:   2%|▏         | 7/299 [03:32<2:27:59, 30.41s/it]"
          ]
        },
        {
          "metadata": {
            "tags": null
          },
          "name": "stdout",
          "output_type": "stream",
          "text": [
            "[Target Model] Epoch 7: Accuracy = 49.67%\n"
          ]
        },
        {
          "metadata": {
            "tags": null
          },
          "name": "stderr",
          "output_type": "stream",
          "text": [
            "\rTraining Target Model:   3%|▎         | 8/299 [04:02<2:26:40, 30.24s/it]"
          ]
        },
        {
          "metadata": {
            "tags": null
          },
          "name": "stdout",
          "output_type": "stream",
          "text": [
            "[Target Model] Epoch 8: Accuracy = 56.68%\n"
          ]
        },
        {
          "metadata": {
            "tags": null
          },
          "name": "stderr",
          "output_type": "stream",
          "text": [
            "\rTraining Target Model:   3%|▎         | 9/299 [04:33<2:27:07, 30.44s/it]"
          ]
        },
        {
          "metadata": {
            "tags": null
          },
          "name": "stdout",
          "output_type": "stream",
          "text": [
            "[Target Model] Epoch 9: Accuracy = 66.50%\n"
          ]
        },
        {
          "metadata": {
            "tags": null
          },
          "name": "stderr",
          "output_type": "stream",
          "text": [
            "\rTraining Target Model:   3%|▎         | 10/299 [05:03<2:26:11, 30.35s/it]"
          ]
        },
        {
          "metadata": {
            "tags": null
          },
          "name": "stdout",
          "output_type": "stream",
          "text": [
            "[Target Model] Epoch 10: Accuracy = 67.47%\n"
          ]
        },
        {
          "metadata": {
            "tags": null
          },
          "name": "stderr",
          "output_type": "stream",
          "text": [
            "\rTraining Target Model:   4%|▎         | 11/299 [05:33<2:25:37, 30.34s/it]"
          ]
        },
        {
          "metadata": {
            "tags": null
          },
          "name": "stdout",
          "output_type": "stream",
          "text": [
            "[Target Model] Epoch 11: Accuracy = 66.56%\n"
          ]
        },
        {
          "metadata": {
            "tags": null
          },
          "name": "stderr",
          "output_type": "stream",
          "text": [
            "\rTraining Target Model:   4%|▍         | 12/299 [06:03<2:24:34, 30.22s/it]"
          ]
        },
        {
          "metadata": {
            "tags": null
          },
          "name": "stdout",
          "output_type": "stream",
          "text": [
            "[Target Model] Epoch 12: Accuracy = 67.48%\n"
          ]
        },
        {
          "metadata": {
            "tags": null
          },
          "name": "stderr",
          "output_type": "stream",
          "text": [
            "\rTraining Target Model:   4%|▍         | 13/299 [06:34<2:23:57, 30.20s/it]"
          ]
        },
        {
          "metadata": {
            "tags": null
          },
          "name": "stdout",
          "output_type": "stream",
          "text": [
            "[Target Model] Epoch 13: Accuracy = 70.32%\n"
          ]
        },
        {
          "metadata": {
            "tags": null
          },
          "name": "stderr",
          "output_type": "stream",
          "text": [
            "\rTraining Target Model:   5%|▍         | 14/299 [07:03<2:23:00, 30.11s/it]"
          ]
        },
        {
          "metadata": {
            "tags": null
          },
          "name": "stdout",
          "output_type": "stream",
          "text": [
            "[Target Model] Epoch 14: Accuracy = 72.34%\n"
          ]
        },
        {
          "metadata": {
            "tags": null
          },
          "name": "stderr",
          "output_type": "stream",
          "text": [
            "\rTraining Target Model:   5%|▌         | 15/299 [07:33<2:22:17, 30.06s/it]"
          ]
        },
        {
          "metadata": {
            "tags": null
          },
          "name": "stdout",
          "output_type": "stream",
          "text": [
            "[Target Model] Epoch 15: Accuracy = 73.67%\n"
          ]
        },
        {
          "metadata": {
            "tags": null
          },
          "name": "stderr",
          "output_type": "stream",
          "text": [
            "\rTraining Target Model:   5%|▌         | 16/299 [08:03<2:21:40, 30.04s/it]"
          ]
        },
        {
          "metadata": {
            "tags": null
          },
          "name": "stdout",
          "output_type": "stream",
          "text": [
            "[Target Model] Epoch 16: Accuracy = 73.38%\n"
          ]
        },
        {
          "metadata": {
            "tags": null
          },
          "name": "stderr",
          "output_type": "stream",
          "text": [
            "\rTraining Target Model:   6%|▌         | 17/299 [08:33<2:21:03, 30.01s/it]"
          ]
        },
        {
          "metadata": {
            "tags": null
          },
          "name": "stdout",
          "output_type": "stream",
          "text": [
            "[Target Model] Epoch 17: Accuracy = 73.23%\n"
          ]
        },
        {
          "metadata": {
            "tags": null
          },
          "name": "stderr",
          "output_type": "stream",
          "text": [
            "\rTraining Target Model:   6%|▌         | 18/299 [09:03<2:20:36, 30.02s/it]"
          ]
        },
        {
          "metadata": {
            "tags": null
          },
          "name": "stdout",
          "output_type": "stream",
          "text": [
            "[Target Model] Epoch 18: Accuracy = 73.04%\n"
          ]
        },
        {
          "metadata": {
            "tags": null
          },
          "name": "stderr",
          "output_type": "stream",
          "text": [
            "\rTraining Target Model:   6%|▋         | 19/299 [09:33<2:19:53, 29.98s/it]"
          ]
        },
        {
          "metadata": {
            "tags": null
          },
          "name": "stdout",
          "output_type": "stream",
          "text": [
            "[Target Model] Epoch 19: Accuracy = 72.50%\n"
          ]
        },
        {
          "metadata": {
            "tags": null
          },
          "name": "stderr",
          "output_type": "stream",
          "text": [
            "\rTraining Target Model:   7%|▋         | 20/299 [10:03<2:19:25, 29.99s/it]"
          ]
        },
        {
          "metadata": {
            "tags": null
          },
          "name": "stdout",
          "output_type": "stream",
          "text": [
            "[Target Model] Epoch 20: Accuracy = 75.48%\n"
          ]
        },
        {
          "metadata": {
            "tags": null
          },
          "name": "stderr",
          "output_type": "stream",
          "text": [
            "\rTraining Target Model:   7%|▋         | 21/299 [10:33<2:18:47, 29.96s/it]"
          ]
        },
        {
          "metadata": {
            "tags": null
          },
          "name": "stdout",
          "output_type": "stream",
          "text": [
            "[Target Model] Epoch 21: Accuracy = 73.43%\n"
          ]
        },
        {
          "metadata": {
            "tags": null
          },
          "name": "stderr",
          "output_type": "stream",
          "text": [
            "\rTraining Target Model:   7%|▋         | 22/299 [11:03<2:18:40, 30.04s/it]"
          ]
        },
        {
          "metadata": {
            "tags": null
          },
          "name": "stdout",
          "output_type": "stream",
          "text": [
            "[Target Model] Epoch 22: Accuracy = 74.00%\n"
          ]
        },
        {
          "metadata": {
            "tags": null
          },
          "name": "stderr",
          "output_type": "stream",
          "text": [
            "\rTraining Target Model:   8%|▊         | 23/299 [11:33<2:17:58, 29.99s/it]"
          ]
        },
        {
          "metadata": {
            "tags": null
          },
          "name": "stdout",
          "output_type": "stream",
          "text": [
            "[Target Model] Epoch 23: Accuracy = 76.44%\n"
          ]
        },
        {
          "metadata": {
            "tags": null
          },
          "name": "stderr",
          "output_type": "stream",
          "text": [
            "\rTraining Target Model:   8%|▊         | 24/299 [12:04<2:18:08, 30.14s/it]"
          ]
        },
        {
          "metadata": {
            "tags": null
          },
          "name": "stdout",
          "output_type": "stream",
          "text": [
            "[Target Model] Epoch 24: Accuracy = 76.88%\n"
          ]
        },
        {
          "metadata": {
            "tags": null
          },
          "name": "stderr",
          "output_type": "stream",
          "text": [
            "\rTraining Target Model:   8%|▊         | 25/299 [12:34<2:17:18, 30.07s/it]"
          ]
        },
        {
          "metadata": {
            "tags": null
          },
          "name": "stdout",
          "output_type": "stream",
          "text": [
            "[Target Model] Epoch 25: Accuracy = 75.65%\n"
          ]
        },
        {
          "metadata": {
            "tags": null
          },
          "name": "stderr",
          "output_type": "stream",
          "text": [
            "\rTraining Target Model:   9%|▊         | 26/299 [13:04<2:17:38, 30.25s/it]"
          ]
        },
        {
          "metadata": {
            "tags": null
          },
          "name": "stdout",
          "output_type": "stream",
          "text": [
            "[Target Model] Epoch 26: Accuracy = 77.29%\n"
          ]
        },
        {
          "metadata": {
            "tags": null
          },
          "name": "stderr",
          "output_type": "stream",
          "text": [
            "\rTraining Target Model:   9%|▉         | 27/299 [13:34<2:16:37, 30.14s/it]"
          ]
        },
        {
          "metadata": {
            "tags": null
          },
          "name": "stdout",
          "output_type": "stream",
          "text": [
            "[Target Model] Epoch 27: Accuracy = 77.01%\n"
          ]
        },
        {
          "metadata": {
            "tags": null
          },
          "name": "stderr",
          "output_type": "stream",
          "text": [
            "\rTraining Target Model:   9%|▉         | 28/299 [14:05<2:16:41, 30.26s/it]"
          ]
        },
        {
          "metadata": {
            "tags": null
          },
          "name": "stdout",
          "output_type": "stream",
          "text": [
            "[Target Model] Epoch 28: Accuracy = 75.76%\n"
          ]
        },
        {
          "metadata": {
            "tags": null
          },
          "name": "stderr",
          "output_type": "stream",
          "text": [
            "\rTraining Target Model:  10%|▉         | 29/299 [14:35<2:15:44, 30.17s/it]"
          ]
        },
        {
          "metadata": {
            "tags": null
          },
          "name": "stdout",
          "output_type": "stream",
          "text": [
            "[Target Model] Epoch 29: Accuracy = 76.56%\n"
          ]
        },
        {
          "metadata": {
            "tags": null
          },
          "name": "stderr",
          "output_type": "stream",
          "text": [
            "\rTraining Target Model:  10%|█         | 30/299 [15:05<2:15:48, 30.29s/it]"
          ]
        },
        {
          "metadata": {
            "tags": null
          },
          "name": "stdout",
          "output_type": "stream",
          "text": [
            "[Target Model] Epoch 30: Accuracy = 78.28%\n"
          ]
        },
        {
          "metadata": {
            "tags": null
          },
          "name": "stderr",
          "output_type": "stream",
          "text": [
            "\rTraining Target Model:  10%|█         | 31/299 [15:35<2:14:45, 30.17s/it]"
          ]
        },
        {
          "metadata": {
            "tags": null
          },
          "name": "stdout",
          "output_type": "stream",
          "text": [
            "[Target Model] Epoch 31: Accuracy = 78.85%\n"
          ]
        },
        {
          "metadata": {
            "tags": null
          },
          "name": "stderr",
          "output_type": "stream",
          "text": [
            "\rTraining Target Model:  11%|█         | 32/299 [16:05<2:14:22, 30.20s/it]"
          ]
        },
        {
          "metadata": {
            "tags": null
          },
          "name": "stdout",
          "output_type": "stream",
          "text": [
            "[Target Model] Epoch 32: Accuracy = 78.51%\n"
          ]
        },
        {
          "metadata": {
            "tags": null
          },
          "name": "stderr",
          "output_type": "stream",
          "text": [
            "\rTraining Target Model:  11%|█         | 33/299 [16:35<2:13:33, 30.12s/it]"
          ]
        },
        {
          "metadata": {
            "tags": null
          },
          "name": "stdout",
          "output_type": "stream",
          "text": [
            "[Target Model] Epoch 33: Accuracy = 79.71%\n"
          ]
        },
        {
          "metadata": {
            "tags": null
          },
          "name": "stderr",
          "output_type": "stream",
          "text": [
            "\rTraining Target Model:  11%|█▏        | 34/299 [17:05<2:12:55, 30.09s/it]"
          ]
        },
        {
          "metadata": {
            "tags": null
          },
          "name": "stdout",
          "output_type": "stream",
          "text": [
            "[Target Model] Epoch 34: Accuracy = 79.38%\n"
          ]
        },
        {
          "metadata": {
            "tags": null
          },
          "name": "stderr",
          "output_type": "stream",
          "text": [
            "\rTraining Target Model:  12%|█▏        | 35/299 [17:35<2:12:03, 30.01s/it]"
          ]
        },
        {
          "metadata": {
            "tags": null
          },
          "name": "stdout",
          "output_type": "stream",
          "text": [
            "[Target Model] Epoch 35: Accuracy = 78.32%\n"
          ]
        },
        {
          "metadata": {
            "tags": null
          },
          "name": "stderr",
          "output_type": "stream",
          "text": [
            "\rTraining Target Model:  12%|█▏        | 36/299 [18:05<2:11:15, 29.94s/it]"
          ]
        },
        {
          "metadata": {
            "tags": null
          },
          "name": "stdout",
          "output_type": "stream",
          "text": [
            "[Target Model] Epoch 36: Accuracy = 79.81%\n"
          ]
        },
        {
          "metadata": {
            "tags": null
          },
          "name": "stderr",
          "output_type": "stream",
          "text": [
            "\rTraining Target Model:  12%|█▏        | 37/299 [18:35<2:10:40, 29.92s/it]"
          ]
        },
        {
          "metadata": {
            "tags": null
          },
          "name": "stdout",
          "output_type": "stream",
          "text": [
            "[Target Model] Epoch 37: Accuracy = 79.24%\n"
          ]
        },
        {
          "output_type": "stream",
          "name": "stderr",
          "text": [
            "\rTraining Target Model:  13%|█▎        | 38/299 [19:05<2:09:56, 29.87s/it]"
          ]
        },
        {
          "output_type": "stream",
          "name": "stdout",
          "text": [
            "[Target Model] Epoch 38: Accuracy = 80.08%\n",
            "✅ Reached 80% at epoch 38\n"
          ]
        },
        {
          "output_type": "stream",
          "name": "stderr",
          "text": [
            "\rTraining Target Model:  13%|█▎        | 39/299 [19:35<2:09:29, 29.88s/it]"
          ]
        },
        {
          "output_type": "stream",
          "name": "stdout",
          "text": [
            "[Target Model] Epoch 39: Accuracy = 80.97%\n"
          ]
        },
        {
          "output_type": "stream",
          "name": "stderr",
          "text": [
            "\rTraining Target Model:  13%|█▎        | 40/299 [20:04<2:08:50, 29.85s/it]"
          ]
        },
        {
          "output_type": "stream",
          "name": "stdout",
          "text": [
            "[Target Model] Epoch 40: Accuracy = 79.33%\n"
          ]
        },
        {
          "output_type": "stream",
          "name": "stderr",
          "text": [
            "\rTraining Target Model:  14%|█▎        | 41/299 [20:34<2:08:40, 29.93s/it]"
          ]
        },
        {
          "output_type": "stream",
          "name": "stdout",
          "text": [
            "[Target Model] Epoch 41: Accuracy = 81.17%\n"
          ]
        },
        {
          "output_type": "stream",
          "name": "stderr",
          "text": [
            "\rTraining Target Model:  14%|█▍        | 42/299 [21:04<2:08:00, 29.88s/it]"
          ]
        },
        {
          "output_type": "stream",
          "name": "stdout",
          "text": [
            "[Target Model] Epoch 42: Accuracy = 80.54%\n"
          ]
        },
        {
          "output_type": "stream",
          "name": "stderr",
          "text": [
            "\rTraining Target Model:  14%|█▍        | 43/299 [21:35<2:08:01, 30.01s/it]"
          ]
        },
        {
          "output_type": "stream",
          "name": "stdout",
          "text": [
            "[Target Model] Epoch 43: Accuracy = 80.86%\n"
          ]
        },
        {
          "output_type": "stream",
          "name": "stderr",
          "text": [
            "\rTraining Target Model:  15%|█▍        | 44/299 [22:04<2:07:12, 29.93s/it]"
          ]
        },
        {
          "output_type": "stream",
          "name": "stdout",
          "text": [
            "[Target Model] Epoch 44: Accuracy = 81.46%\n"
          ]
        },
        {
          "output_type": "stream",
          "name": "stderr",
          "text": [
            "\rTraining Target Model:  15%|█▌        | 45/299 [22:35<2:07:21, 30.08s/it]"
          ]
        },
        {
          "output_type": "stream",
          "name": "stdout",
          "text": [
            "[Target Model] Epoch 45: Accuracy = 79.72%\n"
          ]
        },
        {
          "output_type": "stream",
          "name": "stderr",
          "text": [
            "\rTraining Target Model:  15%|█▌        | 46/299 [23:04<2:06:28, 29.99s/it]"
          ]
        },
        {
          "output_type": "stream",
          "name": "stdout",
          "text": [
            "[Target Model] Epoch 46: Accuracy = 79.92%\n"
          ]
        },
        {
          "output_type": "stream",
          "name": "stderr",
          "text": [
            "\rTraining Target Model:  16%|█▌        | 47/299 [23:35<2:06:31, 30.13s/it]"
          ]
        },
        {
          "output_type": "stream",
          "name": "stdout",
          "text": [
            "[Target Model] Epoch 47: Accuracy = 80.46%\n"
          ]
        },
        {
          "output_type": "stream",
          "name": "stderr",
          "text": [
            "\rTraining Target Model:  16%|█▌        | 48/299 [24:05<2:05:39, 30.04s/it]"
          ]
        },
        {
          "output_type": "stream",
          "name": "stdout",
          "text": [
            "[Target Model] Epoch 48: Accuracy = 81.96%\n"
          ]
        },
        {
          "output_type": "stream",
          "name": "stderr",
          "text": [
            "\rTraining Target Model:  16%|█▋        | 49/299 [24:35<2:05:34, 30.14s/it]"
          ]
        },
        {
          "output_type": "stream",
          "name": "stdout",
          "text": [
            "[Target Model] Epoch 49: Accuracy = 81.55%\n"
          ]
        },
        {
          "output_type": "stream",
          "name": "stderr",
          "text": [
            "\rTraining Target Model:  17%|█▋        | 50/299 [25:05<2:04:39, 30.04s/it]"
          ]
        },
        {
          "output_type": "stream",
          "name": "stdout",
          "text": [
            "[Target Model] Epoch 50: Accuracy = 81.44%\n"
          ]
        },
        {
          "output_type": "stream",
          "name": "stderr",
          "text": [
            "\rTraining Target Model:  17%|█▋        | 51/299 [25:35<2:04:09, 30.04s/it]"
          ]
        },
        {
          "output_type": "stream",
          "name": "stdout",
          "text": [
            "[Target Model] Epoch 51: Accuracy = 81.79%\n"
          ]
        },
        {
          "output_type": "stream",
          "name": "stderr",
          "text": [
            "\rTraining Target Model:  17%|█▋        | 52/299 [26:05<2:03:20, 29.96s/it]"
          ]
        },
        {
          "output_type": "stream",
          "name": "stdout",
          "text": [
            "[Target Model] Epoch 52: Accuracy = 82.20%\n"
          ]
        },
        {
          "output_type": "stream",
          "name": "stderr",
          "text": [
            "\rTraining Target Model:  18%|█▊        | 53/299 [26:35<2:02:44, 29.94s/it]"
          ]
        },
        {
          "output_type": "stream",
          "name": "stdout",
          "text": [
            "[Target Model] Epoch 53: Accuracy = 81.83%\n"
          ]
        },
        {
          "output_type": "stream",
          "name": "stderr",
          "text": [
            "\rTraining Target Model:  18%|█▊        | 54/299 [27:05<2:02:12, 29.93s/it]"
          ]
        },
        {
          "output_type": "stream",
          "name": "stdout",
          "text": [
            "[Target Model] Epoch 54: Accuracy = 81.37%\n"
          ]
        },
        {
          "output_type": "stream",
          "name": "stderr",
          "text": [
            "\rTraining Target Model:  18%|█▊        | 55/299 [27:34<2:01:35, 29.90s/it]"
          ]
        },
        {
          "output_type": "stream",
          "name": "stdout",
          "text": [
            "[Target Model] Epoch 55: Accuracy = 81.90%\n"
          ]
        },
        {
          "output_type": "stream",
          "name": "stderr",
          "text": [
            "\rTraining Target Model:  19%|█▊        | 56/299 [28:04<2:01:19, 29.96s/it]"
          ]
        },
        {
          "output_type": "stream",
          "name": "stdout",
          "text": [
            "[Target Model] Epoch 56: Accuracy = 82.60%\n"
          ]
        },
        {
          "output_type": "stream",
          "name": "stderr",
          "text": [
            "\rTraining Target Model:  19%|█▉        | 57/299 [28:34<2:00:43, 29.93s/it]"
          ]
        },
        {
          "output_type": "stream",
          "name": "stdout",
          "text": [
            "[Target Model] Epoch 57: Accuracy = 81.99%\n"
          ]
        },
        {
          "output_type": "stream",
          "name": "stderr",
          "text": [
            "\rTraining Target Model:  19%|█▉        | 58/299 [29:05<2:00:35, 30.02s/it]"
          ]
        },
        {
          "output_type": "stream",
          "name": "stdout",
          "text": [
            "[Target Model] Epoch 58: Accuracy = 82.10%\n"
          ]
        },
        {
          "output_type": "stream",
          "name": "stderr",
          "text": [
            "\rTraining Target Model:  20%|█▉        | 59/299 [29:34<1:59:50, 29.96s/it]"
          ]
        },
        {
          "output_type": "stream",
          "name": "stdout",
          "text": [
            "[Target Model] Epoch 59: Accuracy = 82.72%\n"
          ]
        },
        {
          "output_type": "stream",
          "name": "stderr",
          "text": [
            "\rTraining Target Model:  20%|██        | 60/299 [30:05<1:59:50, 30.09s/it]"
          ]
        },
        {
          "output_type": "stream",
          "name": "stdout",
          "text": [
            "[Target Model] Epoch 60: Accuracy = 82.37%\n"
          ]
        },
        {
          "output_type": "stream",
          "name": "stderr",
          "text": [
            "\rTraining Target Model:  20%|██        | 61/299 [30:35<1:59:05, 30.02s/it]"
          ]
        },
        {
          "output_type": "stream",
          "name": "stdout",
          "text": [
            "[Target Model] Epoch 61: Accuracy = 83.25%\n"
          ]
        },
        {
          "output_type": "stream",
          "name": "stderr",
          "text": [
            "\rTraining Target Model:  21%|██        | 62/299 [31:05<1:59:14, 30.19s/it]"
          ]
        },
        {
          "output_type": "stream",
          "name": "stdout",
          "text": [
            "[Target Model] Epoch 62: Accuracy = 81.98%\n"
          ]
        },
        {
          "output_type": "stream",
          "name": "stderr",
          "text": [
            "\rTraining Target Model:  21%|██        | 63/299 [31:35<1:58:18, 30.08s/it]"
          ]
        },
        {
          "output_type": "stream",
          "name": "stdout",
          "text": [
            "[Target Model] Epoch 63: Accuracy = 82.79%\n"
          ]
        },
        {
          "output_type": "stream",
          "name": "stderr",
          "text": [
            "\rTraining Target Model:  21%|██▏       | 64/299 [32:05<1:58:15, 30.19s/it]"
          ]
        },
        {
          "output_type": "stream",
          "name": "stdout",
          "text": [
            "[Target Model] Epoch 64: Accuracy = 82.06%\n"
          ]
        },
        {
          "output_type": "stream",
          "name": "stderr",
          "text": [
            "\rTraining Target Model:  22%|██▏       | 65/299 [32:35<1:57:15, 30.07s/it]"
          ]
        },
        {
          "output_type": "stream",
          "name": "stdout",
          "text": [
            "[Target Model] Epoch 65: Accuracy = 82.94%\n"
          ]
        },
        {
          "output_type": "stream",
          "name": "stderr",
          "text": [
            "\rTraining Target Model:  22%|██▏       | 66/299 [33:06<1:56:58, 30.12s/it]"
          ]
        },
        {
          "output_type": "stream",
          "name": "stdout",
          "text": [
            "[Target Model] Epoch 66: Accuracy = 83.15%\n"
          ]
        },
        {
          "output_type": "stream",
          "name": "stderr",
          "text": [
            "\rTraining Target Model:  22%|██▏       | 67/299 [33:35<1:56:05, 30.02s/it]"
          ]
        },
        {
          "output_type": "stream",
          "name": "stdout",
          "text": [
            "[Target Model] Epoch 67: Accuracy = 83.89%\n"
          ]
        },
        {
          "output_type": "stream",
          "name": "stderr",
          "text": [
            "\rTraining Target Model:  23%|██▎       | 68/299 [34:05<1:55:38, 30.03s/it]"
          ]
        },
        {
          "output_type": "stream",
          "name": "stdout",
          "text": [
            "[Target Model] Epoch 68: Accuracy = 82.52%\n"
          ]
        },
        {
          "output_type": "stream",
          "name": "stderr",
          "text": [
            "\rTraining Target Model:  23%|██▎       | 69/299 [34:35<1:54:58, 29.99s/it]"
          ]
        },
        {
          "output_type": "stream",
          "name": "stdout",
          "text": [
            "[Target Model] Epoch 69: Accuracy = 82.63%\n"
          ]
        },
        {
          "output_type": "stream",
          "name": "stderr",
          "text": [
            "\rTraining Target Model:  23%|██▎       | 69/299 [34:45<1:55:51, 30.22s/it]\n"
          ]
        },
        {
          "output_type": "error",
          "ename": "KeyboardInterrupt",
          "evalue": "",
          "traceback": [
            "\u001b[0;31m---------------------------------------------------------------------------\u001b[0m",
            "\u001b[0;31mKeyboardInterrupt\u001b[0m                         Traceback (most recent call last)",
            "\u001b[0;32m<ipython-input-7-6c00192590a9>\u001b[0m in \u001b[0;36m<cell line: 0>\u001b[0;34m()\u001b[0m\n\u001b[1;32m     65\u001b[0m         \u001b[0mrho\u001b[0m \u001b[0;34m=\u001b[0m \u001b[0mlosses\u001b[0m \u001b[0;34m-\u001b[0m \u001b[0mil_tensor\u001b[0m\u001b[0;34m\u001b[0m\u001b[0;34m\u001b[0m\u001b[0m\n\u001b[1;32m     66\u001b[0m \u001b[0;34m\u001b[0m\u001b[0m\n\u001b[0;32m---> 67\u001b[0;31m         \u001b[0mselected_indices\u001b[0m \u001b[0;34m=\u001b[0m \u001b[0mhybrid_rho_diversity_selection\u001b[0m\u001b[0;34m(\u001b[0m\u001b[0mrho\u001b[0m\u001b[0;34m,\u001b[0m \u001b[0mfeatures\u001b[0m\u001b[0;34m,\u001b[0m \u001b[0mtopk\u001b[0m\u001b[0;34m,\u001b[0m \u001b[0mlambda_diversity\u001b[0m\u001b[0;34m)\u001b[0m\u001b[0;34m\u001b[0m\u001b[0;34m\u001b[0m\u001b[0m\n\u001b[0m\u001b[1;32m     68\u001b[0m \u001b[0;34m\u001b[0m\u001b[0m\n\u001b[1;32m     69\u001b[0m         \u001b[0mselected_loss\u001b[0m \u001b[0;34m=\u001b[0m \u001b[0mlosses\u001b[0m\u001b[0;34m[\u001b[0m\u001b[0mselected_indices\u001b[0m\u001b[0;34m]\u001b[0m\u001b[0;34m.\u001b[0m\u001b[0mmean\u001b[0m\u001b[0;34m(\u001b[0m\u001b[0;34m)\u001b[0m\u001b[0;34m\u001b[0m\u001b[0;34m\u001b[0m\u001b[0m\n",
            "\u001b[0;32m<ipython-input-7-6c00192590a9>\u001b[0m in \u001b[0;36mhybrid_rho_diversity_selection\u001b[0;34m(rho, features, k, lambda_diversity)\u001b[0m\n\u001b[1;32m     28\u001b[0m         \u001b[0mscores\u001b[0m \u001b[0;34m=\u001b[0m \u001b[0mrho\u001b[0m \u001b[0;34m-\u001b[0m \u001b[0mlambda_diversity\u001b[0m \u001b[0;34m*\u001b[0m \u001b[0mdiversity_penalty\u001b[0m\u001b[0;34m\u001b[0m\u001b[0;34m\u001b[0m\u001b[0m\n\u001b[1;32m     29\u001b[0m         \u001b[0mscores\u001b[0m\u001b[0;34m[\u001b[0m\u001b[0mselected\u001b[0m\u001b[0;34m]\u001b[0m \u001b[0;34m=\u001b[0m \u001b[0;34m-\u001b[0m\u001b[0mfloat\u001b[0m\u001b[0;34m(\u001b[0m\u001b[0;34m'inf'\u001b[0m\u001b[0;34m)\u001b[0m  \u001b[0;31m# mask already selected\u001b[0m\u001b[0;34m\u001b[0m\u001b[0;34m\u001b[0m\u001b[0m\n\u001b[0;32m---> 30\u001b[0;31m         \u001b[0midx\u001b[0m \u001b[0;34m=\u001b[0m \u001b[0mtorch\u001b[0m\u001b[0;34m.\u001b[0m\u001b[0margmax\u001b[0m\u001b[0;34m(\u001b[0m\u001b[0mscores\u001b[0m\u001b[0;34m)\u001b[0m\u001b[0;34m.\u001b[0m\u001b[0mitem\u001b[0m\u001b[0;34m(\u001b[0m\u001b[0;34m)\u001b[0m\u001b[0;34m\u001b[0m\u001b[0;34m\u001b[0m\u001b[0m\n\u001b[0m\u001b[1;32m     31\u001b[0m         \u001b[0mselected\u001b[0m\u001b[0;34m.\u001b[0m\u001b[0mappend\u001b[0m\u001b[0;34m(\u001b[0m\u001b[0midx\u001b[0m\u001b[0;34m)\u001b[0m\u001b[0;34m\u001b[0m\u001b[0;34m\u001b[0m\u001b[0m\n\u001b[1;32m     32\u001b[0m         \u001b[0mdiversity_penalty\u001b[0m \u001b[0;34m=\u001b[0m \u001b[0mtorch\u001b[0m\u001b[0;34m.\u001b[0m\u001b[0mmax\u001b[0m\u001b[0;34m(\u001b[0m\u001b[0mdiversity_penalty\u001b[0m\u001b[0;34m,\u001b[0m \u001b[0msimilarity\u001b[0m\u001b[0;34m[\u001b[0m\u001b[0;34m:\u001b[0m\u001b[0;34m,\u001b[0m \u001b[0midx\u001b[0m\u001b[0;34m]\u001b[0m\u001b[0;34m)\u001b[0m\u001b[0;34m\u001b[0m\u001b[0;34m\u001b[0m\u001b[0m\n",
            "\u001b[0;31mKeyboardInterrupt\u001b[0m: "
          ]
        }
      ]
    },
    {
      "cell_type": "code",
      "source": [],
      "metadata": {
        "id": "W7rLO9cCJMBX"
      },
      "execution_count": null,
      "outputs": []
    },
    {
      "cell_type": "code",
      "source": [
        "import matplotlib.pyplot as plt\n",
        "\n",
        "# Given data\n",
        "generic_rho = [32.71, 42.83, 45.96, 44.66, 48.82, 61.57, 62.06, 62.78, 66.68, 63.67, 67.46, 71.39, 71.39, 72.16, 70.96, 70.44, 74.18,\n",
        "               73.74, 73.75, 73.83, 74.35, 76.39, 75.72, 75.5, 76.06, 74.08, 76.81, 75.31, 77.8, 77.29, 77.21, 78.66, 78.08, 77.36, 77.2,\n",
        "               79.89, 76.34, 78.93, 79.47, 79.23, 80.08, 79.3, 78.93, 80.15, 79.65, 81.0, 77.92]\n",
        "\n",
        "hybrid_diversity_rho = {\n",
        "    \"λ=0.2\": [34.78, 39.54, 50.11, 51.78, 50.59, 56.07, 65.3, 63.3, 65.09, 67.41,\n",
        "            69.9, 70.42, 69.78, 71.97, 71.04, 73.09, 72.95, 71.77, 72.18, 68.77,\n",
        "            73.21, 75.81, 75.44, 74.6, 75.31, 76.87, 77.5, 77.43, 77.99, 77.58,\n",
        "            78.39, 77.83, 77.73, 77.21, 79.29, 78.9, 78.69, 79.29, 80.57, 79.47,\n",
        "            78.93, 80.41, 79.64, 79.48, 79.53, 81.02, 80.92],\n",
        "    \"λ=0.3\": [30.8, 39.41, 46.84, 52.02, 55.83, 53.98, 49.67, 56.68, 66.5, 67.47,\n",
        "            66.56, 67.48, 70.32, 72.34, 73.67, 73.38, 73.23, 73.04, 72.5, 75.48,\n",
        "            73.43, 74.0, 76.44, 76.88, 75.65, 77.29, 77.01, 75.76, 76.56, 78.28,\n",
        "            78.85, 78.51, 79.71, 79.38, 78.32, 79.81, 79.24, 80.08, 80.97, 79.33,\n",
        "            81.17, 80.54, 80.86, 81.46, 79.72, 79.92, 80.46],\n",
        "    \"λ=0.5\": [38.65, 41.54, 46.66, 51.63, 52.99, 60.32, 64.51, 66.16, 61.76, 66.93,\n",
        "            69.25, 70.23, 71.5, 69.32, 71.23, 71.92, 72.41, 74.22, 74.18, 75.27,\n",
        "            75.26, 76.3, 73.55, 77.35, 75.81, 75.37, 74.63, 76.75, 76.61, 75.5,\n",
        "            76.95, 77.21, 76.72, 77.83, 77.72, 79.46, 78.05, 78.8, 78.81, 78.57,\n",
        "            80.41, 79.97, 80.01, 78.07, 80.97, 81.17, 80.98]\n",
        "}\n",
        "\n",
        "epochs = list(range(1,48))\n",
        "thresholds = [50, 60, 70, 80]\n",
        "\n",
        "def mark_thresholds(ax, data, label, color):\n",
        "    for thresh in thresholds:\n",
        "        for i, val in enumerate(data):\n",
        "            if val >= thresh:\n",
        "                ax.axvline(i + 1, linestyle='--', alpha=0.3, color=color)\n",
        "                ax.text(i + 1, val + 0.5, f'{label}: {thresh}% @ {i+1}', rotation=90,\n",
        "                        verticalalignment='bottom', fontsize=8, color=color)\n",
        "                break\n",
        "\n",
        "def find_best_curve(data_dict):\n",
        "    best_curve = None\n",
        "    earliest_epoch = float('inf')\n",
        "    for label, data in data_dict.items():\n",
        "        for i, val in enumerate(data):\n",
        "            if val >= 80:\n",
        "                if i < earliest_epoch:\n",
        "                    earliest_epoch = i\n",
        "                    best_curve = label\n",
        "                break\n",
        "    return best_curve, earliest_epoch\n",
        "\n",
        "best_curve, earliest_epoch = find_best_curve(hybrid_diversity_rho)\n",
        "\n",
        "plt.figure(figsize=(13, 9))\n",
        "\n",
        "plt.plot(epochs, generic_rho, label='Generic RHO', linewidth=2.5, color='black',\n",
        "         marker='^', markevery=[i for i, v in enumerate(generic_rho) if v >= 80])\n",
        "\n",
        "markers = ['o', 's', 'D']\n",
        "colors = ['tab:blue', 'tab:green', 'tab:red']\n",
        "highlighted_curve_data = None\n",
        "\n",
        "for (label, data), color, marker in zip(hybrid_diversity_rho.items(), colors, markers):\n",
        "    is_best = label == best_curve\n",
        "    plt.plot(epochs, data,\n",
        "             label=f'{\"Best → \" if is_best else \"\"}Hybrid Diversity RHO ({label})',\n",
        "             linewidth=3 if is_best else 2,\n",
        "             color=color,\n",
        "             marker=marker,\n",
        "             linestyle='--' if is_best else '-',\n",
        "             markersize=8 if is_best else 6,\n",
        "             markevery=[i for i, v in enumerate(data) if v >= 80])\n",
        "\n",
        "    if is_best:\n",
        "        highlighted_curve_data = data\n",
        "\n",
        "    mark_thresholds(plt, data, label, color)\n",
        "\n",
        "if highlighted_curve_data:\n",
        "    plt.annotate(\n",
        "        f'{best_curve} hits 80% first\\nat Epoch {earliest_epoch+1}',\n",
        "        xy=(earliest_epoch+1, highlighted_curve_data[earliest_epoch]),\n",
        "        xytext=(earliest_epoch+4, highlighted_curve_data[earliest_epoch] + 4),\n",
        "        arrowprops=dict(arrowstyle=\"->\", color='red', lw=2),\n",
        "        fontsize=13,\n",
        "        color='red',\n",
        "        fontweight='bold',\n",
        "        bbox=dict(boxstyle=\"round,pad=0.4\", edgecolor='red', facecolor='white', alpha=0.9)\n",
        "    )\n",
        "\n",
        "plt.axhline(80, color='gray', linestyle='--', alpha=0.4)\n",
        "\n",
        "plt.title(\"Comparison: Generic RHO vs Hybrid Diversity RHO (Different λ)\", fontsize=16)\n",
        "plt.xlabel(\"Epoch\", fontsize=13)\n",
        "plt.ylabel(\"Accuracy (%)\", fontsize=13)\n",
        "plt.grid(True)\n",
        "plt.legend()\n",
        "plt.tight_layout()\n",
        "plt.show()\n"
      ],
      "metadata": {
        "colab": {
          "base_uri": "https://localhost:8080/",
          "height": 903
        },
        "id": "YwtYDOaQJMDx",
        "outputId": "96ae6985-f255-4089-d3fc-799abecf45f3"
      },
      "execution_count": 3,
      "outputs": [
        {
          "output_type": "display_data",
          "data": {
            "text/plain": [
              "<Figure size 1300x900 with 1 Axes>"
            ],
            "image/png": "[encoded data removed]"
          },
          "metadata": {}
        }
      ]
    },
    {
      "cell_type": "code",
      "source": [],
      "metadata": {
        "id": "RvMOdIViJMG_"
      },
      "execution_count": null,
      "outputs": []
    }
  ]
}